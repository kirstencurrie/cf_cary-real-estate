{
 "cells": [
  {
   "cell_type": "markdown",
   "id": "5e46c010-463d-4de4-9bce-435d4e053b97",
   "metadata": {},
   "source": [
    "# 6.4 Cary Machine Learning: Regression"
   ]
  },
  {
   "cell_type": "markdown",
   "id": "3880fb84-30d6-4349-8188-2d25f0db4dac",
   "metadata": {
    "jp-MarkdownHeadingCollapsed": true
   },
   "source": [
    "## Contents:\n",
    "\n",
    "01. Install Libraries\n",
    "02. Import Libraries\n",
    "03. Import Datasets\n",
    "04. Clean Data for Analysis\n",
    "05. Explore Data & Hypothesize\n",
    "       - Explore data visually using scatterplots\n",
    "       - State hypothesis\n",
    "06. Prep for linear regression\n",
    "       - Reshape variables into Numpy Arrays\n",
    "       - Split data into training & test sets\n",
    "07. Run Linear Regression\n",
    "       - Fit model on training set\n",
    "       - Create prediction for y on test set\n",
    "       - Create a plot showing regression line on test set\n",
    "       - Check model performance statistics\n",
    "       - Compare predicted with actual y values\n",
    "08. Export Datasets"
   ]
  },
  {
   "cell_type": "markdown",
   "id": "c0a479f0-6449-4721-b7be-d873c0b1593c",
   "metadata": {
    "jp-MarkdownHeadingCollapsed": true
   },
   "source": [
    "# 01. Install Libraries"
   ]
  },
  {
   "cell_type": "code",
   "execution_count": 188,
   "id": "11c7488c-0876-4009-ab12-0a338072a41a",
   "metadata": {
    "execution": {
     "iopub.execute_input": "2025-01-28T20:31:18.226260Z",
     "iopub.status.busy": "2025-01-28T20:31:18.225894Z",
     "iopub.status.idle": "2025-01-28T20:31:24.024419Z",
     "shell.execute_reply": "2025-01-28T20:31:24.023348Z",
     "shell.execute_reply.started": "2025-01-28T20:31:18.226238Z"
    }
   },
   "outputs": [
    {
     "name": "stdout",
     "output_type": "stream",
     "text": [
      "Defaulting to user installation because normal site-packages is not writeable\n",
      "Looking in links: /usr/share/pip-wheels\n",
      "Requirement already satisfied: geopandas in /home/0668a905-109d-4403-be59-0a04abf51dd9/.local/lib/python3.10/site-packages (1.0.1)\n",
      "Requirement already satisfied: numpy>=1.22 in /opt/conda/envs/anaconda-2024.02-py310/lib/python3.10/site-packages (from geopandas) (1.26.4)\n",
      "Requirement already satisfied: pyogrio>=0.7.2 in /home/0668a905-109d-4403-be59-0a04abf51dd9/.local/lib/python3.10/site-packages (from geopandas) (0.10.0)\n",
      "Requirement already satisfied: packaging in /opt/conda/envs/anaconda-2024.02-py310/lib/python3.10/site-packages (from geopandas) (23.2)\n",
      "Requirement already satisfied: pandas>=1.4.0 in /opt/conda/envs/anaconda-2024.02-py310/lib/python3.10/site-packages (from geopandas) (2.1.4)\n",
      "Requirement already satisfied: pyproj>=3.3.0 in /home/0668a905-109d-4403-be59-0a04abf51dd9/.local/lib/python3.10/site-packages (from geopandas) (3.7.0)\n",
      "Requirement already satisfied: shapely>=2.0.0 in /home/0668a905-109d-4403-be59-0a04abf51dd9/.local/lib/python3.10/site-packages (from geopandas) (2.0.6)\n",
      "Requirement already satisfied: python-dateutil>=2.8.2 in /opt/conda/envs/anaconda-2024.02-py310/lib/python3.10/site-packages (from pandas>=1.4.0->geopandas) (2.8.2)\n",
      "Requirement already satisfied: pytz>=2020.1 in /opt/conda/envs/anaconda-2024.02-py310/lib/python3.10/site-packages (from pandas>=1.4.0->geopandas) (2023.3.post1)\n",
      "Requirement already satisfied: tzdata>=2022.1 in /opt/conda/envs/anaconda-2024.02-py310/lib/python3.10/site-packages (from pandas>=1.4.0->geopandas) (2023.3)\n",
      "Requirement already satisfied: certifi in /opt/conda/envs/anaconda-2024.02-py310/lib/python3.10/site-packages (from pyogrio>=0.7.2->geopandas) (2024.2.2)\n",
      "Requirement already satisfied: six>=1.5 in /opt/conda/envs/anaconda-2024.02-py310/lib/python3.10/site-packages (from python-dateutil>=2.8.2->pandas>=1.4.0->geopandas) (1.16.0)\n",
      "Note: you may need to restart the kernel to use updated packages.\n"
     ]
    }
   ],
   "source": [
    "pip install geopandas"
   ]
  },
  {
   "cell_type": "code",
   "execution_count": 3,
   "id": "3987413e-6a73-4d4d-90a2-39dc2943e48e",
   "metadata": {
    "execution": {
     "iopub.execute_input": "2025-01-28T15:11:22.015089Z",
     "iopub.status.busy": "2025-01-28T15:11:22.014660Z",
     "iopub.status.idle": "2025-01-28T15:11:25.627257Z",
     "shell.execute_reply": "2025-01-28T15:11:25.626277Z",
     "shell.execute_reply.started": "2025-01-28T15:11:22.015014Z"
    }
   },
   "outputs": [
    {
     "name": "stdout",
     "output_type": "stream",
     "text": [
      "Defaulting to user installation because normal site-packages is not writeable\n",
      "Looking in links: /usr/share/pip-wheels\n",
      "Collecting sklearn\n",
      "  Using cached sklearn-0.0.post12.tar.gz (2.6 kB)\n",
      "  Preparing metadata (setup.py) ... \u001b[?25lerror\n",
      "  \u001b[1;31merror\u001b[0m: \u001b[1msubprocess-exited-with-error\u001b[0m\n",
      "  \n",
      "  \u001b[31m×\u001b[0m \u001b[32mpython setup.py egg_info\u001b[0m did not run successfully.\n",
      "  \u001b[31m│\u001b[0m exit code: \u001b[1;36m1\u001b[0m\n",
      "  \u001b[31m╰─>\u001b[0m \u001b[31m[15 lines of output]\u001b[0m\n",
      "  \u001b[31m   \u001b[0m The 'sklearn' PyPI package is deprecated, use 'scikit-learn'\n",
      "  \u001b[31m   \u001b[0m rather than 'sklearn' for pip commands.\n",
      "  \u001b[31m   \u001b[0m \n",
      "  \u001b[31m   \u001b[0m Here is how to fix this error in the main use cases:\n",
      "  \u001b[31m   \u001b[0m - use 'pip install scikit-learn' rather than 'pip install sklearn'\n",
      "  \u001b[31m   \u001b[0m - replace 'sklearn' by 'scikit-learn' in your pip requirements files\n",
      "  \u001b[31m   \u001b[0m   (requirements.txt, setup.py, setup.cfg, Pipfile, etc ...)\n",
      "  \u001b[31m   \u001b[0m - if the 'sklearn' package is used by one of your dependencies,\n",
      "  \u001b[31m   \u001b[0m   it would be great if you take some time to track which package uses\n",
      "  \u001b[31m   \u001b[0m   'sklearn' instead of 'scikit-learn' and report it to their issue tracker\n",
      "  \u001b[31m   \u001b[0m - as a last resort, set the environment variable\n",
      "  \u001b[31m   \u001b[0m   SKLEARN_ALLOW_DEPRECATED_SKLEARN_PACKAGE_INSTALL=True to avoid this error\n",
      "  \u001b[31m   \u001b[0m \n",
      "  \u001b[31m   \u001b[0m More information is available at\n",
      "  \u001b[31m   \u001b[0m https://github.com/scikit-learn/sklearn-pypi-package\n",
      "  \u001b[31m   \u001b[0m \u001b[31m[end of output]\u001b[0m\n",
      "  \n",
      "  \u001b[1;35mnote\u001b[0m: This error originates from a subprocess, and is likely not a problem with pip.\n",
      "\u001b[1;31merror\u001b[0m: \u001b[1mmetadata-generation-failed\u001b[0m\n",
      "\n",
      "\u001b[31m×\u001b[0m Encountered error while generating package metadata.\n",
      "\u001b[31m╰─>\u001b[0m See above for output.\n",
      "\n",
      "\u001b[1;35mnote\u001b[0m: This is an issue with the package mentioned above, not pip.\n",
      "\u001b[1;36mhint\u001b[0m: See above for details.\n",
      "\u001b[?25hNote: you may need to restart the kernel to use updated packages.\n"
     ]
    }
   ],
   "source": [
    "pip install sklearn"
   ]
  },
  {
   "cell_type": "markdown",
   "id": "45bac754-6329-4ec0-bc17-6ec33242185f",
   "metadata": {
    "jp-MarkdownHeadingCollapsed": true
   },
   "source": [
    "# 02. Import Libraries"
   ]
  },
  {
   "cell_type": "code",
   "execution_count": 673,
   "id": "b6e5d0c6-a1af-4335-a2ef-dccfbfd36862",
   "metadata": {
    "execution": {
     "iopub.execute_input": "2025-01-28T23:55:35.228771Z",
     "iopub.status.busy": "2025-01-28T23:55:35.228471Z",
     "iopub.status.idle": "2025-01-28T23:55:35.249248Z",
     "shell.execute_reply": "2025-01-28T23:55:35.248535Z",
     "shell.execute_reply.started": "2025-01-28T23:55:35.228753Z"
    }
   },
   "outputs": [],
   "source": [
    "import pandas as pd\n",
    "import numpy as np\n",
    "import seaborn as sns\n",
    "import matplotlib\n",
    "import matplotlib.pyplot as plt\n",
    "from matplotlib.ticker import ScalarFormatter, FormatStrFormatter\n",
    "import geopandas as gpd\n",
    "from shapely.geometry import Point\n",
    "import os\n",
    "import sklearn\n",
    "from sklearn.model_selection import train_test_split \n",
    "from sklearn.linear_model import LinearRegression\n",
    "from sklearn.metrics import mean_squared_error, r2_score"
   ]
  },
  {
   "cell_type": "markdown",
   "id": "7cfbadd4-c9db-4575-9b5d-c2e7374a31fc",
   "metadata": {
    "jp-MarkdownHeadingCollapsed": true
   },
   "source": [
    "# 03. Import Datasets"
   ]
  },
  {
   "cell_type": "code",
   "execution_count": 9,
   "id": "f56e2297-45f1-47a2-ba9f-fdbc61add38f",
   "metadata": {
    "execution": {
     "iopub.execute_input": "2025-01-28T15:11:42.823768Z",
     "iopub.status.busy": "2025-01-28T15:11:42.823497Z",
     "iopub.status.idle": "2025-01-28T15:11:42.842431Z",
     "shell.execute_reply": "2025-01-28T15:11:42.841744Z",
     "shell.execute_reply.started": "2025-01-28T15:11:42.823748Z"
    }
   },
   "outputs": [],
   "source": [
    "# Defines path as intro file path for Cary Real Estate project\n",
    "\n",
    "path = r'/home/0668a905-109d-4403-be59-0a04abf51dd9/Cary Real Estate Analysis'"
   ]
  },
  {
   "cell_type": "code",
   "execution_count": 12,
   "id": "1aff4b74-b287-4bdf-82ad-ca0cc0de748d",
   "metadata": {
    "execution": {
     "iopub.execute_input": "2025-01-28T15:11:44.058731Z",
     "iopub.status.busy": "2025-01-28T15:11:44.058209Z",
     "iopub.status.idle": "2025-01-28T15:11:45.779442Z",
     "shell.execute_reply": "2025-01-28T15:11:45.778662Z",
     "shell.execute_reply.started": "2025-01-28T15:11:44.058711Z"
    }
   },
   "outputs": [],
   "source": [
    "# Imports cary_cleaned / wrangled dataset\n",
    "\n",
    "df = pd.read_parquet(os.path.join(path, '01 Datasets', '02 Prepared Data', 'cary_cleaned_wrangled.parquet'))"
   ]
  },
  {
   "cell_type": "code",
   "execution_count": 249,
   "id": "bd01e005-501a-44b6-9c6f-07e2f9f8bdcd",
   "metadata": {
    "execution": {
     "iopub.execute_input": "2025-01-28T20:50:54.153196Z",
     "iopub.status.busy": "2025-01-28T20:50:54.152640Z",
     "iopub.status.idle": "2025-01-28T20:51:12.464145Z",
     "shell.execute_reply": "2025-01-28T20:51:12.463106Z",
     "shell.execute_reply.started": "2025-01-28T20:50:54.153163Z"
    }
   },
   "outputs": [
    {
     "name": "stdout",
     "output_type": "stream",
     "text": [
      "File loaded successfully\n",
      "<class 'geopandas.geodataframe.GeoDataFrame'>\n",
      "  ZCTA5CE20 GEOID20       GEOIDFQ20 CLASSFP20 MTFCC20 FUNCSTAT20  ALAND20  \\\n",
      "0     47236   47236  860Z200US47236        B5   G6350          S  1029063   \n",
      "1     47870   47870  860Z200US47870        B5   G6350          S     8830   \n",
      "2     47851   47851  860Z200US47851        B5   G6350          S    53326   \n",
      "3     47337   47337  860Z200US47337        B5   G6350          S   303089   \n",
      "4     47435   47435  860Z200US47435        B5   G6350          S    13302   \n",
      "\n",
      "   AWATER20   INTPTLAT20    INTPTLON20  \\\n",
      "0         0  +39.1517426  -085.7252769   \n",
      "1         0  +39.3701518  -087.4735141   \n",
      "2         0  +39.5735839  -087.2459559   \n",
      "3         0  +39.8027537  -085.4372850   \n",
      "4         0  +39.2657557  -086.2951577   \n",
      "\n",
      "                                            geometry  \n",
      "0  POLYGON ((-85.7341 39.15597, -85.72794 39.1561...  \n",
      "1  POLYGON ((-87.47414 39.37016, -87.47409 39.370...  \n",
      "2  POLYGON ((-87.24769 39.5745, -87.24711 39.5744...  \n",
      "3  POLYGON ((-85.44357 39.80328, -85.44346 39.803...  \n",
      "4  POLYGON ((-86.29592 39.26547, -86.29592 39.266...  \n"
     ]
    }
   ],
   "source": [
    "# Import Geo shape file\n",
    "\n",
    "import geopandas as gpd\n",
    "\n",
    "file_path = \"/home/0668a905-109d-4403-be59-0a04abf51dd9/Cary Real Estate Analysis/01 Datasets/01 Original Data/tl_2024_us_zcta520.shp\"\n",
    "\n",
    "try:\n",
    "    zcta_gdf = gpd.read_file(file_path)\n",
    "    print(\"File loaded successfully\")\n",
    "    print(type(zcta_gdf))\n",
    "    print(zcta_gdf.head())\n",
    "except Exception as e:\n",
    "    print(f\"An error occurred: {e}\")\n"
   ]
  },
  {
   "cell_type": "code",
   "execution_count": 231,
   "id": "acb7392f-8f7d-4c4a-ac0b-b077700784c7",
   "metadata": {
    "execution": {
     "iopub.execute_input": "2025-01-28T20:47:31.770988Z",
     "iopub.status.busy": "2025-01-28T20:47:31.770715Z",
     "iopub.status.idle": "2025-01-28T20:47:31.789877Z",
     "shell.execute_reply": "2025-01-28T20:47:31.789077Z",
     "shell.execute_reply.started": "2025-01-28T20:47:31.770964Z"
    }
   },
   "outputs": [
    {
     "name": "stdout",
     "output_type": "stream",
     "text": [
      "/home/0668a905-109d-4403-be59-0a04abf51dd9/Cary Real Estate Analysis/01 Datasets/01 Original Data/tl_2024_us_zcta520.shp\n"
     ]
    }
   ],
   "source": [
    "print(zcta_gdf)"
   ]
  },
  {
   "cell_type": "code",
   "execution_count": 321,
   "id": "1363b671-953a-4356-97e7-70c90416952a",
   "metadata": {
    "execution": {
     "iopub.execute_input": "2025-01-28T21:17:32.504741Z",
     "iopub.status.busy": "2025-01-28T21:17:32.504414Z",
     "iopub.status.idle": "2025-01-28T21:17:32.525582Z",
     "shell.execute_reply": "2025-01-28T21:17:32.524807Z",
     "shell.execute_reply.started": "2025-01-28T21:17:32.504722Z"
    }
   },
   "outputs": [],
   "source": [
    "# Set the display option to show all columns\n",
    "\n",
    "pd.set_option('display.max_columns', None)"
   ]
  },
  {
   "cell_type": "markdown",
   "id": "7ab2e540-879c-48c5-866f-c04e12842f6d",
   "metadata": {
    "jp-MarkdownHeadingCollapsed": true
   },
   "source": [
    "# 04. Clean Data for Analysis"
   ]
  },
  {
   "cell_type": "markdown",
   "id": "70491dad-549c-4d6e-b484-ff7feb3b972c",
   "metadata": {
    "jp-MarkdownHeadingCollapsed": true
   },
   "source": [
    "### 1. Group landclass into large sub categories (to maintain at min 5,000 observations)\n",
    "\n",
    "From previous tasks, it was clear that landclass categories would need to be grouped into larger, more meaningful groups. One reason being that observations will need to be larger than 5000 for a regression test. The other is that the current classes are a bit too refined and specific (there's over 200 classes), so a larger grouping might provide more helpful insights.\n",
    "\n",
    "After grouping, missing & extreme values will be checked by category."
   ]
  },
  {
   "cell_type": "code",
   "execution_count": 90,
   "id": "f8845fb8-67b2-4702-8401-b69ee31daff3",
   "metadata": {
    "execution": {
     "iopub.execute_input": "2025-01-28T19:09:00.659232Z",
     "iopub.status.busy": "2025-01-28T19:09:00.658871Z",
     "iopub.status.idle": "2025-01-28T19:09:00.679281Z",
     "shell.execute_reply": "2025-01-28T19:09:00.678553Z",
     "shell.execute_reply.started": "2025-01-28T19:09:00.659208Z"
    }
   },
   "outputs": [
    {
     "data": {
      "text/plain": [
       "(291937, 23)"
      ]
     },
     "execution_count": 90,
     "metadata": {},
     "output_type": "execute_result"
    }
   ],
   "source": [
    "df.shape"
   ]
  },
  {
   "cell_type": "code",
   "execution_count": 298,
   "id": "23012a54-32a8-4b7c-805a-2bb49f42337d",
   "metadata": {
    "execution": {
     "iopub.execute_input": "2025-01-28T21:13:25.761353Z",
     "iopub.status.busy": "2025-01-28T21:13:25.761010Z",
     "iopub.status.idle": "2025-01-28T21:13:25.880080Z",
     "shell.execute_reply": "2025-01-28T21:13:25.879113Z",
     "shell.execute_reply.started": "2025-01-28T21:13:25.761323Z"
    }
   },
   "outputs": [
    {
     "data": {
      "text/plain": [
       "location                0\n",
       "deedacres               0\n",
       "landclass           13466\n",
       "totalstructures     74392\n",
       "totalunits          74392\n",
       "propertydesc           24\n",
       "bldgvalue               0\n",
       "landvalue               0\n",
       "landsalevalue       13373\n",
       "landsaledate       204664\n",
       "totalsalevalue          0\n",
       "totalsaledate       74889\n",
       "county                  0\n",
       "totalbldgsqft       49476\n",
       "phycity             13559\n",
       "phyzip              15848\n",
       "shape_starea            0\n",
       "shape_stlength          0\n",
       "yearbuilt           99173\n",
       "geo_shape               0\n",
       "geo_point_2d            0\n",
       "latitude                0\n",
       "longitude               0\n",
       "dtype: int64"
      ]
     },
     "execution_count": 298,
     "metadata": {},
     "output_type": "execute_result"
    }
   ],
   "source": [
    "# Check for missing values\n",
    "\n",
    "df.isna().sum()"
   ]
  },
  {
   "cell_type": "markdown",
   "id": "094c337c-3a68-4f3e-8dee-a4495c336f71",
   "metadata": {},
   "source": [
    "#### Need to Remove Missing Landclass Rows \n",
    "\n",
    "(13,373 is only 4.6% of the entire dataset, so will remove for easier classification within analysis)"
   ]
  },
  {
   "cell_type": "code",
   "execution_count": 107,
   "id": "33bbaac8-1cc8-4b57-b0a1-5c4256a884b3",
   "metadata": {
    "execution": {
     "iopub.execute_input": "2025-01-28T19:21:26.595524Z",
     "iopub.status.busy": "2025-01-28T19:21:26.595199Z",
     "iopub.status.idle": "2025-01-28T19:21:26.803861Z",
     "shell.execute_reply": "2025-01-28T19:21:26.803115Z",
     "shell.execute_reply.started": "2025-01-28T19:21:26.595482Z"
    }
   },
   "outputs": [],
   "source": [
    "# Create new dataframe & drop rows where 'landclass' is NA\n",
    "\n",
    "df_2 = df.dropna(subset=['landclass'])"
   ]
  },
  {
   "cell_type": "code",
   "execution_count": 116,
   "id": "d0e40091-2ab3-46c3-a79b-6a4fc82e3a3c",
   "metadata": {
    "execution": {
     "iopub.execute_input": "2025-01-28T19:23:06.306818Z",
     "iopub.status.busy": "2025-01-28T19:23:06.306348Z",
     "iopub.status.idle": "2025-01-28T19:23:06.333300Z",
     "shell.execute_reply": "2025-01-28T19:23:06.332479Z",
     "shell.execute_reply.started": "2025-01-28T19:23:06.306789Z"
    }
   },
   "outputs": [
    {
     "data": {
      "text/plain": [
       "0"
      ]
     },
     "execution_count": 116,
     "metadata": {},
     "output_type": "execute_result"
    }
   ],
   "source": [
    "# Confirm if landclass rows are all null\n",
    "\n",
    "df_2['landclass'].isna().sum()"
   ]
  },
  {
   "cell_type": "code",
   "execution_count": 119,
   "id": "a2b28c6a-df9b-4532-a235-517b5c4d2ef2",
   "metadata": {
    "execution": {
     "iopub.execute_input": "2025-01-28T19:23:16.747011Z",
     "iopub.status.busy": "2025-01-28T19:23:16.746731Z",
     "iopub.status.idle": "2025-01-28T19:23:16.789332Z",
     "shell.execute_reply": "2025-01-28T19:23:16.788546Z",
     "shell.execute_reply.started": "2025-01-28T19:23:16.746989Z"
    },
    "scrolled": true
   },
   "outputs": [
    {
     "data": {
      "text/plain": [
       "array(['Res  1 Family', 'Res Twnh W  Land', 'Com  Office Condo',\n",
       "       'Vac Res  Homeowners', 'Vacant Commercial', 'Vac Res  Lot Sml Tra',\n",
       "       'Res  Condominium', 'Cmnty Svc  Police Fi', 'Wild Parks Fdrl Proj',\n",
       "       'Com  Drive In Bank', 'Res  2 Family', 'Com  Auto Car Wash',\n",
       "       'Vac Res  Developer', 'Vacant Land (Undiff)',\n",
       "       'Com  Apt Garden S42', 'Com  Multi Use Condo',\n",
       "       'Unk Leasehold Condo', 'Vacant Industrial', 'Community Svcs (Undi',\n",
       "       'Vac Com  W  Leasehol', 'Com  Fast Food', 'Vacres Lt Smltr Side',\n",
       "       'Com  Parking Lots Su', 'Com  Whse Storage', 'Com  Office Bldg',\n",
       "       'Publ Svc  Railroads', 'Ind  Misc Research',\n",
       "       'Vacant Community Ser', 'Publ Svc  Elec Trans',\n",
       "       'Vac Res  < 10 Acres', 'Com  Retail Services',\n",
       "       'Vac Res  Rural < 10', 'Present Use Agricult',\n",
       "       'Com  Auto Body Tire', 'Vacant Private Utili',\n",
       "       'Cmnty Svc  Library', 'Vac Res  W  Sml Impr',\n",
       "       'Ind  Microelectronic', 'Com  Banks & Offices',\n",
       "       'Publ Svc  Sewer & Wa', 'Present Use Forestry',\n",
       "       'Cmnty Svc Cemtery Ex', 'Vacres Lt Smltr Rear', 'Ag  1 Family',\n",
       "       'Vac Com  Condo Assoc', 'Com  Dining Leasehol', 'Com  Apt Garden',\n",
       "       'Com  Commercial (Und', 'Cmnty Svc  School', 'Res Twnh W  Lnd S4',\n",
       "       'Com  Svc & Gas Stati', 'Com  Motor Vehicle S',\n",
       "       'Com  Mobile Home Par', 'Vac Comm Svc  Grvl P',\n",
       "       'Res  1 Mh Or Mh Site', 'Publ Svc  Transporta',\n",
       "       'Cmnty Svc Church Prk', 'Rec  Country Club', 'Com  Funeral Home',\n",
       "       'Cmnty Svc  Church', 'Cmnty Svc  Child Day',\n",
       "       'Cmnty Svc  Bnvlnt As', 'Com Conv Store W O G',\n",
       "       'Ind  Manuf Processin', 'Com  Conv Store W  G',\n",
       "       'Present Use Horticul', 'Cmnty Svc  Religious',\n",
       "       'Cmnty Svs Asstd Lvg', 'Vac Ag  10 Acres Or',\n",
       "       \"Res  Multiple Dwg'S\", 'Res  Homeowners Asso',\n",
       "       'Com  Professional Bl', 'Cmnty Svc Church Prs',\n",
       "       'Com  Area Shop Ctrs', 'Com  Regional Shop C',\n",
       "       'Res  Rural Residenti', 'Rec  Outdoor Sport A',\n",
       "       'Res  Lshld Improv', 'Com  Restaurants', 'Com  Hotel',\n",
       "       'Com  Mini Warehouses', 'Com Auto Dlr Sls&Svc',\n",
       "       'Com  Converted Resid', 'Com  1 Sty Sm Sgl Us',\n",
       "       'C0M  Lrg Retail Outl', 'Publ Svc  Telephone',\n",
       "       'Com  Diners & Lunch', 'Cmnty Svc  Education',\n",
       "       'Cmnty Svc  Cultural', 'Com  Vet Clinic', 'Com  Multi Use Capab',\n",
       "       'Vac Res  Underwater', 'Cmnty Svc  College',\n",
       "       'Residential Less Than 10 Acres', 'Exempt', 'Vacant', 'Commercial',\n",
       "       'Hoa', 'Part Exempt', 'Industrial', 'Condo Complex', 'Agriculture',\n",
       "       'Historic', 'Golf Course', 'Forestry', 'Cemetery',\n",
       "       'Acre With Improvement, No House',\n",
       "       'Acres Greater Than 10 With House', 'Apartment',\n",
       "       'Manufactured Home', 'State Assessed', 'Horticulture',\n",
       "       'Water/Sewer System', 'Mobile Home Park', 'Cmnty Svc  Govt Hwy',\n",
       "       'Cmnty Svc  Otr Edu F', 'Vac Com  Developer',\n",
       "       'Res  Residential (Un', 'Condominium', 'Com  Homeowners Asso',\n",
       "       'Res  Mobile Home', 'Com  1 Sty Sm Multi', 'Cmnty Svc  Welfare',\n",
       "       'Com  Lumber Yrds Saw', 'Ind  Biotech   Bioph',\n",
       "       'Ind  Info Tech   Tel', 'Com  Salvage Yard',\n",
       "       'Ind  Environmental S', 'Cmnty Svc  Misc', 'Com  Misc Services',\n",
       "       'Publ Svc  Gas Transm', 'Publ Svc  Water Supp',\n",
       "       'Vac Prv Utl  Sewage', 'Com  W  Leasehold', 'Com  Bank W  Office',\n",
       "       'Ind  Lshld Improv', 'Com Apt High Ri', 'Com  Standard Bank',\n",
       "       'Vac Developer Utilit', 'Ind  Industrial (Und',\n",
       "       'Ind Pharmaceutical H', 'Retirement Home', 'Res  3 Family',\n",
       "       'Com  Snack Bars', 'Cmnty Svc Dclt Ld&I', 'Com  Dwntwn Row Atta',\n",
       "       'Cmnty Svc  Rcrtnl Fa', 'Com  Living Accomm',\n",
       "       'Cmnty Svc Hme Fr Agd', 'Cmnty Svc Edu Prk Lt',\n",
       "       'Cmnty Svc  Church Sc', 'Com Apt Dwg Con', 'Cmnty Svc  Gov Pub P',\n",
       "       'Rec  Other Misc', 'Rec  Athletic Fields', 'Cmnty Svc  Rds Str P',\n",
       "       'Ag  Year Round', 'Res  Estate', 'Res  Dwg + 1 Mbl Hm',\n",
       "       'Com  Trucking Termin', 'Cmnty Svc Cemtery Ta',\n",
       "       'Res  2 Mh Or Mh Site', 'Rec  Outdoor Spt Lsh',\n",
       "       'Vac Conservation Eas', 'Com  Ret Svs Leaseho', 'Rec  Golf Course',\n",
       "       'Com  Inns B&B Rm Hou', 'Rec  Outdoor Swimmin',\n",
       "       'Ind  W  Leasehold', 'Com  Leasehold W  Ac',\n",
       "       'Cmnty Svc  Govt Bldg', 'Com  Motel', 'Res  Dwg + 2 Mbl Hms',\n",
       "       'Publ Svc  Water', 'Vac Ag  W  Non Lvg I', 'Cmnty Svc  Health',\n",
       "       'Rec  Ymca Or Ywca', 'Res  4 Family', 'Res  Historical',\n",
       "       'Com  Historical', 'Com  Bank & Office L', 'Com  Dwntwn Row Deta',\n",
       "       'Com  Self Ser Car Wa', 'Com  Manual Car Wash',\n",
       "       'Cmnty Svc  Gov Prk G', 'Cmnty Svc  Other Hlt',\n",
       "       'Rec  Motion Pic Thea', 'Rec  Parks', 'Wild Parks State Pro',\n",
       "       'Cmnty Svc  Abc Store', 'Cmnty Svc  Special S',\n",
       "       'Publ Svc  Waste Disp', 'Rec  Bowling', 'Com  Night Clubs',\n",
       "       'Rec  Tv & Radio Stud', 'Cmnty Svc  Correctio',\n",
       "       'Vac Ag  Other Rural', 'Cmnty Svs Asst Lvgs4',\n",
       "       'Com  Lrg Retail Food', 'Rec  Social Organiza',\n",
       "       'Cmnty Svc  W  Leaseh', 'Com  Bar', 'Com Dlrship Sls&Svc',\n",
       "       'Com Prking Garage De', 'Rec  Indoor Spt Faci',\n",
       "       'Cmnty Svc  Prof Asso', 'Cmnty Svc  Govt Lshl',\n",
       "       'Rec  Entrtn Amuse(Un', 'Cmnty Svc  Hospital',\n",
       "       'Com  Dining Establis'], dtype=object)"
      ]
     },
     "execution_count": 119,
     "metadata": {},
     "output_type": "execute_result"
    }
   ],
   "source": [
    "# Check 'landclass' categories\n",
    "\n",
    "df_2['landclass'].unique()"
   ]
  },
  {
   "cell_type": "code",
   "execution_count": 174,
   "id": "560fca13-82c5-4ede-8dc6-4939e0131a89",
   "metadata": {
    "execution": {
     "iopub.execute_input": "2025-01-28T20:13:09.391347Z",
     "iopub.status.busy": "2025-01-28T20:13:09.389292Z",
     "iopub.status.idle": "2025-01-28T20:13:09.401418Z",
     "shell.execute_reply": "2025-01-28T20:13:09.400559Z",
     "shell.execute_reply.started": "2025-01-28T20:13:09.391312Z"
    }
   },
   "outputs": [
    {
     "data": {
      "text/plain": [
       "(278471, 24)"
      ]
     },
     "execution_count": 174,
     "metadata": {},
     "output_type": "execute_result"
    }
   ],
   "source": [
    "df_2.shape"
   ]
  },
  {
   "cell_type": "markdown",
   "id": "6d14a214-8ec3-4fc7-95fe-b377edd085f1",
   "metadata": {},
   "source": [
    "#### Create Landclass Grouping Column"
   ]
  },
  {
   "cell_type": "code",
   "execution_count": 265,
   "id": "3fc0401b-47e3-4afd-8a26-4be732fa55a3",
   "metadata": {
    "execution": {
     "iopub.execute_input": "2025-01-28T20:59:23.356760Z",
     "iopub.status.busy": "2025-01-28T20:59:23.356380Z",
     "iopub.status.idle": "2025-01-28T20:59:26.477412Z",
     "shell.execute_reply": "2025-01-28T20:59:26.476372Z",
     "shell.execute_reply.started": "2025-01-28T20:59:23.356736Z"
    }
   },
   "outputs": [
    {
     "name": "stderr",
     "output_type": "stream",
     "text": [
      "/tmp/ipykernel_177/3412284645.py:28: SettingWithCopyWarning: \n",
      "A value is trying to be set on a copy of a slice from a DataFrame.\n",
      "Try using .loc[row_indexer,col_indexer] = value instead\n",
      "\n",
      "See the caveats in the documentation: https://pandas.pydata.org/pandas-docs/stable/user_guide/indexing.html#returning-a-view-versus-a-copy\n",
      "  df_2['landgroup'] = df_2.apply(land_group, axis=1)\n"
     ]
    }
   ],
   "source": [
    "# Create a Flag that groups together 'landclass' variables by their commonalities\n",
    "\n",
    "def land_group(row):\n",
    "    if row['landclass'] in ['Residential Less Than 10 Acres', 'Acres Greater Than 10 With House', 'Manufactured Home', 'Res  Residential (Un', 'Res  Mobile Home', 'Res  3 Family', 'Res  Estate', 'Res  Dwg + 1 Mbl Hm', 'Res  2 Mh Or Mh Site', 'Res  Dwg + 2 Mbl Hms', 'Res  4 Family', 'Res  Historical', 'Res  1 Family', 'Res Twnh W  Land', 'Res  Condominium', 'Res  2 Family', 'Res Twnh W  Lnd S4', 'Res  1 Mh Or Mh Site', \"Res  Multiple Dwg'S\", 'Res  Homeowners Asso', 'Res  Rural Residenti', 'Res  Lshld Improv']:\n",
    "        return 'Residential'\n",
    "    elif row['landclass'] in ['Commercial', 'Com  Homeowners Asso', 'Com  1 Sty Sm Multi', 'Com  Lumber Yrds Saw', 'Com  Salvage Yard', 'Com  Misc Services', 'Com  W  Leasehold', 'Com  Bank W  Office', 'Com  Standard Bank', 'Com  Snack Bars', 'Com  Dwntwn Row Atta', 'Com  Living Accomm', 'Com  Trucking Termin', 'Com  Ret Svs Leaseho', 'Com  Inns B&B Rm Hou', 'Com  Leasehold W  Ac', 'Com  Motel', 'Com  Historical', 'Com  Bank & Office L', 'Com  Dwntwn Row Deta', 'Com  Self Ser Car Wa', 'Com  Manual Car Wash', 'Com  Night Clubs', 'Com  Lrg Retail Food', 'Com  Bar', 'Com Dlrship Sls&Svc', 'Com Prking Garage De', 'Com  Dining Establis', 'Com  Office Condo', 'Com  Drive In Bank', 'Com  Auto Car Wash', 'Com  Apt Garden S42', 'Com  Multi Use Condo', 'Com  Fast Food', 'Com  Parking Lots Su', 'Com  Whse Storage', 'Com  Office Bldg', 'Com  Retail Services', 'Com  Auto Body Tire', 'Com  Banks & Offices', 'Com  Dining Leasehol', 'Com  Apt Garden', 'Com  Commercial (Und', 'Com  Svc & Gas Stati', 'Com  Motor Vehicle S', 'Com  Mobile Home Par', 'Com  Funeral Home', 'Com Conv Store W O G', 'Com  Conv Store W  G', 'Com  Professional Bl', 'Com  Area Shop Ctrs', 'Com  Regional Shop C', 'Com  Restaurants', 'Com  Hotel', 'Com  Mini Warehouses', 'Com Auto Dlr Sls&Svc', 'Com  Converted Resid', 'Com  1 Sty Sm Sgl Us', 'C0M  Lrg Retail Outl', 'Com  Diners & Lunch', 'Com  Vet Clinic', 'Com  Multi Use Capab']:\n",
    "        return 'Commercial'\n",
    "    elif row['landclass'] in ['Industrial', 'Ind  Biotech   Bioph', 'Ind  Info Tech   Tel', 'Ind  Environmental S', 'Ind  Lshld Improv', 'Ind  Industrial (Und', 'Ind Pharmaceutical H', 'Ind  W  Leasehold', 'Ind  Misc Research', 'Ind  Microelectronic', 'Ind  Manuf Processin']:\n",
    "        return 'Industrial'\n",
    "    elif row['landclass'] in ['Vac Res  Underwater', 'Vacant', 'Vac Com  Developer', 'Vac Prv Utl  Sewage', 'Vac Developer Utilit', 'Vac Conservation Eas', 'Vac Ag  W  Non Lvg I', 'Vac Ag  Other Rural', 'Vac Res  Homeowners', 'Vacant Commercial', 'Vac Res  Lot Sml Tra', 'Vac Res  Developer', 'Vacant Land (Undiff)', 'Vacant Industrial', 'Vac Com  W  Leasehol', 'Vacres Lt Smltr Side', 'Vacant Community Ser', 'Vac Res  < 10 Acres', 'Vac Res  Rural < 10', 'Vacant Private Utili', 'Vac Res  W  Sml Impr', 'Vacres Lt Smltr Rear', 'Vac Com  Condo Assoc', 'Vac Comm Svc  Grvl P', 'Vac Ag  10 Acres Or']:\n",
    "        return 'Vacant'\n",
    "    elif row['landclass'] in ['Cmnty Svc  College', 'Cmnty Svc  Govt Hwy', 'Cmnty Svc  Otr Edu F', 'Cmnty Svc  Welfare', 'Cmnty Svc  Misc', 'Cmnty Svc Dclt Ld&I', 'Cmnty Svc  Rcrtnl Fa', 'Cmnty Svc Hme Fr Agd', 'Cmnty Svc Edu Prk Lt', 'Cmnty Svc  Church Sc', 'Cmnty Svc  Gov Pub P', 'Cmnty Svc  Rds Str P', 'Cmnty Svc Cemtery Ta', 'Cmnty Svc  Govt Bldg', 'Cmnty Svc  Health', 'Cmnty Svc  Gov Prk G', 'Cmnty Svc  Other Hlt', 'Cmnty Svc  Abc Store', 'Cmnty Svc  Special S', 'Cmnty Svc  Correctio', 'Cmnty Svs Asst Lvgs4', 'Cmnty Svc  W  Leaseh', 'Cmnty Svc  Prof Asso', 'Cmnty Svc  Govt Lshl', 'Cmnty Svc  Hospital', 'Cmnty Svc  Police Fi', 'Community Svcs (Undi', 'Cmnty Svc  Library', 'Cmnty Svc Cemtery Ex', 'Cmnty Svc  School', 'Cmnty Svc Church Prk', 'Cmnty Svc  Church', 'Cmnty Svc  Child Day', 'Cmnty Svc  Bnvlnt As', 'Cmnty Svc  Religious', 'Cmnty Svs Asstd Lvg', 'Cmnty Svc Church Prs', 'Cmnty Svc  Education', 'Cmnty Svc  Cultural']:\n",
    "        return 'Community Service'\n",
    "    elif row['landclass'] in ['Apartment', 'Mobile Home Park', 'Condominium', 'Com Apt High Ri', 'Retirement Home', 'Com Apt Dwg Con', 'Condo Complex']:\n",
    "        return 'Multi-Family Residential'\n",
    "    elif row['landclass'] in ['Agriculture', 'Horticulture', 'Ag  Year Round', 'Present Use Agricult', 'Present Use Forestry', 'Ag  1 Family', 'Present Use Horticul']:\n",
    "        return 'Agriculture'\n",
    "    elif row['landclass'] in ['Golf Course', 'Rec  Other Misc', 'Rec  Athletic Fields', 'Rec  Outdoor Spt Lsh', 'Rec  Golf Course', 'Rec  Outdoor Swimmin', 'Rec  Ymca Or Ywca', 'Rec  Motion Pic Thea', 'Rec  Parks', 'Rec  Bowling', 'Rec  Tv & Radio Stud', 'Rec  Social Organiza', 'Rec  Indoor Spt Faci', 'Rec  Entrtn Amuse(Un', 'Rec  Country Club', 'Rec  Outdoor Sport A']:\n",
    "        return 'Recreation'\n",
    "    elif row['landclass'] in ['Water/Sewer System', 'Publ Svc  Gas Transm', 'Publ Svc  Water Supp', 'Publ Svc  Water', 'Publ Svc  Waste Disp', 'Publ Svc  Railroads', 'Publ Svc  Elec Trans', 'Publ Svc  Sewer & Wa', 'Publ Svc  Transporta', 'Publ Svc  Telephone']:\n",
    "        return 'Public Service'\n",
    "    elif row['landclass'] in ['Exempt', 'Hoa', 'Part Exempt', 'Historic', 'Forestry', 'Cemetery', 'Acre With Improvement, No House', 'State Assessed', 'Wild Parks State Pro', 'Wild Parks Fdrl Proj', 'Unk Leasehold Condo']:\n",
    "        return 'Miscellaneous'\n",
    "    else:\n",
    "        return 'Other'\n",
    "\n",
    "# Apply the function to create the new column\n",
    "df_2['landgroup'] = df_2.apply(land_group, axis=1)\n"
   ]
  },
  {
   "cell_type": "code",
   "execution_count": 268,
   "id": "87a2fd80-1e1b-4579-a584-25e62a7c3e8c",
   "metadata": {
    "execution": {
     "iopub.execute_input": "2025-01-28T20:59:30.949776Z",
     "iopub.status.busy": "2025-01-28T20:59:30.949472Z",
     "iopub.status.idle": "2025-01-28T20:59:30.984717Z",
     "shell.execute_reply": "2025-01-28T20:59:30.983894Z",
     "shell.execute_reply.started": "2025-01-28T20:59:30.949755Z"
    },
    "scrolled": true
   },
   "outputs": [
    {
     "data": {
      "text/plain": [
       "landgroup\n",
       "Residential                 234996\n",
       "Vacant                       19773\n",
       "Miscellaneous                13717\n",
       "Commercial                    5484\n",
       "Multi-Family Residential      1382\n",
       "Industrial                    1099\n",
       "Agriculture                    899\n",
       "Community Service              631\n",
       "Public Service                 413\n",
       "Recreation                      77\n",
       "Name: count, dtype: int64"
      ]
     },
     "execution_count": 268,
     "metadata": {},
     "output_type": "execute_result"
    }
   ],
   "source": [
    "# Check the counts for each group within 'landgroup'\n",
    "\n",
    "df_2['landgroup'].value_counts()"
   ]
  },
  {
   "cell_type": "markdown",
   "id": "59bb6614-9ce6-4332-9b58-dacf7ff60640",
   "metadata": {},
   "source": [
    "### 2. Ensure no missing data (e.g. Zip Codes)"
   ]
  },
  {
   "cell_type": "markdown",
   "id": "0e52a307-16e1-431c-8813-ed916d96bb6f",
   "metadata": {
    "jp-MarkdownHeadingCollapsed": true
   },
   "source": [
    "#### A. Use ZCTA .shp files to find missing zip codes"
   ]
  },
  {
   "cell_type": "code",
   "execution_count": 200,
   "id": "6793422b-e426-41fc-88ad-71110086492f",
   "metadata": {
    "execution": {
     "iopub.execute_input": "2025-01-28T20:41:09.289342Z",
     "iopub.status.busy": "2025-01-28T20:41:09.288935Z",
     "iopub.status.idle": "2025-01-28T20:41:09.454048Z",
     "shell.execute_reply": "2025-01-28T20:41:09.453209Z",
     "shell.execute_reply.started": "2025-01-28T20:41:09.289318Z"
    }
   },
   "outputs": [
    {
     "data": {
      "text/plain": [
       "location                0\n",
       "deedacres               0\n",
       "landclass               0\n",
       "totalstructures     61019\n",
       "totalunits          61019\n",
       "propertydesc           21\n",
       "bldgvalue               0\n",
       "landvalue               0\n",
       "landsalevalue           0\n",
       "landsaledate       191198\n",
       "totalsalevalue          0\n",
       "totalsaledate       61423\n",
       "county                  0\n",
       "totalbldgsqft       36010\n",
       "phycity               186\n",
       "phyzip               2474\n",
       "shape_starea            0\n",
       "shape_stlength          0\n",
       "yearbuilt           85707\n",
       "geo_shape               0\n",
       "geo_point_2d            0\n",
       "latitude                0\n",
       "longitude               0\n",
       "landgroup               0\n",
       "dtype: int64"
      ]
     },
     "execution_count": 200,
     "metadata": {},
     "output_type": "execute_result"
    }
   ],
   "source": [
    "# There are 2474 missing zip codes. This information might be found using the ZCTA shape files.\n",
    "\n",
    "df_2.isna().sum()"
   ]
  },
  {
   "cell_type": "code",
   "execution_count": 219,
   "id": "319572c5-a6f2-4e05-8628-59fc339715a1",
   "metadata": {
    "execution": {
     "iopub.execute_input": "2025-01-28T20:45:05.583366Z",
     "iopub.status.busy": "2025-01-28T20:45:05.582946Z",
     "iopub.status.idle": "2025-01-28T20:45:05.771728Z",
     "shell.execute_reply": "2025-01-28T20:45:05.770840Z",
     "shell.execute_reply.started": "2025-01-28T20:45:05.583342Z"
    }
   },
   "outputs": [
    {
     "name": "stderr",
     "output_type": "stream",
     "text": [
      "/tmp/ipykernel_177/1768146854.py:3: SettingWithCopyWarning: \n",
      "A value is trying to be set on a copy of a slice from a DataFrame.\n",
      "Try using .loc[row_indexer,col_indexer] = value instead\n",
      "\n",
      "See the caveats in the documentation: https://pandas.pydata.org/pandas-docs/stable/user_guide/indexing.html#returning-a-view-versus-a-copy\n",
      "  df_2['phyzip'] = df_2['phyzip'].astype(str).str.zfill(5)\n"
     ]
    }
   ],
   "source": [
    "# Convert ZIP codes to strings \n",
    "\n",
    "df_2['phyzip'] = df_2['phyzip'].astype(str).str.zfill(5)"
   ]
  },
  {
   "cell_type": "code",
   "execution_count": 252,
   "id": "646fb6be-486f-4b7b-ac77-52eaa53a303c",
   "metadata": {
    "execution": {
     "iopub.execute_input": "2025-01-28T20:51:49.542945Z",
     "iopub.status.busy": "2025-01-28T20:51:49.542650Z",
     "iopub.status.idle": "2025-01-28T20:51:49.946560Z",
     "shell.execute_reply": "2025-01-28T20:51:49.945561Z",
     "shell.execute_reply.started": "2025-01-28T20:51:49.542924Z"
    }
   },
   "outputs": [],
   "source": [
    "# Create a geo dataframe\n",
    "\n",
    "gdf_properties = gpd.GeoDataFrame(\n",
    "    df_2, \n",
    "    geometry=gpd.points_from_xy(df_2.longitude, df_2.latitude),\n",
    "    crs=\"EPSG:4326\"\n",
    ")"
   ]
  },
  {
   "cell_type": "code",
   "execution_count": 255,
   "id": "20f0717b-ae87-48d3-a3f4-967799f94e46",
   "metadata": {
    "execution": {
     "iopub.execute_input": "2025-01-28T20:51:53.330450Z",
     "iopub.status.busy": "2025-01-28T20:51:53.330084Z",
     "iopub.status.idle": "2025-01-28T20:51:54.593055Z",
     "shell.execute_reply": "2025-01-28T20:51:54.592052Z",
     "shell.execute_reply.started": "2025-01-28T20:51:53.330417Z"
    }
   },
   "outputs": [
    {
     "name": "stderr",
     "output_type": "stream",
     "text": [
      "/tmp/ipykernel_177/2598967121.py:3: UserWarning: CRS mismatch between the CRS of left geometries and the CRS of right geometries.\n",
      "Use `to_crs()` to reproject one of the input geometries to match the CRS of the other.\n",
      "\n",
      "Left CRS: EPSG:4326\n",
      "Right CRS: EPSG:4269\n",
      "\n",
      "  joined_gdf = gpd.sjoin(gdf_properties, zcta_gdf, how=\"left\", predicate=\"within\")\n"
     ]
    }
   ],
   "source": [
    "# Perform a spacial join\n",
    "\n",
    "joined_gdf = gpd.sjoin(gdf_properties, zcta_gdf, how=\"left\", predicate=\"within\")"
   ]
  },
  {
   "cell_type": "code",
   "execution_count": 258,
   "id": "38b6e167-89b1-4f42-bb0e-db21e519e61f",
   "metadata": {
    "execution": {
     "iopub.execute_input": "2025-01-28T20:53:13.588852Z",
     "iopub.status.busy": "2025-01-28T20:53:13.588472Z",
     "iopub.status.idle": "2025-01-28T20:53:13.639384Z",
     "shell.execute_reply": "2025-01-28T20:53:13.637310Z",
     "shell.execute_reply.started": "2025-01-28T20:53:13.588825Z"
    }
   },
   "outputs": [],
   "source": [
    "# Update missing zip codes\n",
    "\n",
    "df_2.loc[df_2['phyzip'].isnull(), 'phyzip'] = joined_gdf.loc[df_2['phyzip'].isnull(), 'ZCTA5CE20']"
   ]
  },
  {
   "cell_type": "code",
   "execution_count": 281,
   "id": "f1bf7ac1-6ea2-4f55-abc1-6dcce1cc7b0c",
   "metadata": {
    "execution": {
     "iopub.execute_input": "2025-01-28T21:01:47.685774Z",
     "iopub.status.busy": "2025-01-28T21:01:47.685202Z",
     "iopub.status.idle": "2025-01-28T21:01:47.715005Z",
     "shell.execute_reply": "2025-01-28T21:01:47.714377Z",
     "shell.execute_reply.started": "2025-01-28T21:01:47.685749Z"
    }
   },
   "outputs": [
    {
     "data": {
      "text/plain": [
       "0"
      ]
     },
     "execution_count": 281,
     "metadata": {},
     "output_type": "execute_result"
    }
   ],
   "source": [
    "# Checking for missing zip codes after the above - yay no more missing!\n",
    "\n",
    "df_2['phyzip'].isna().sum()"
   ]
  },
  {
   "cell_type": "markdown",
   "id": "e770c6b3-9616-4eb2-a7fd-fd9aa7e42b18",
   "metadata": {},
   "source": [
    "#### B. Check Aggregates as Additional Way to Verify Missing Data (e.g. \"$0\" values)"
   ]
  },
  {
   "cell_type": "code",
   "execution_count": 476,
   "id": "ba054776-1d04-4b92-b1c7-0dde575d09af",
   "metadata": {
    "execution": {
     "iopub.execute_input": "2025-01-28T22:24:09.987750Z",
     "iopub.status.busy": "2025-01-28T22:24:09.985928Z",
     "iopub.status.idle": "2025-01-28T22:24:10.000562Z",
     "shell.execute_reply": "2025-01-28T22:24:09.999746Z",
     "shell.execute_reply.started": "2025-01-28T22:24:09.987715Z"
    }
   },
   "outputs": [],
   "source": [
    "pd.set_option('display.float_format', lambda x: f'{x:,.2f}')"
   ]
  },
  {
   "cell_type": "code",
   "execution_count": 479,
   "id": "c3fcf07c-21f4-43fc-851e-0b5a2d525143",
   "metadata": {
    "execution": {
     "iopub.execute_input": "2025-01-28T22:24:13.541996Z",
     "iopub.status.busy": "2025-01-28T22:24:13.541637Z",
     "iopub.status.idle": "2025-01-28T22:24:13.678669Z",
     "shell.execute_reply": "2025-01-28T22:24:13.677634Z",
     "shell.execute_reply.started": "2025-01-28T22:24:13.541964Z"
    }
   },
   "outputs": [
    {
     "data": {
      "text/plain": [
       "min               0.00\n",
       "max      12,003,000.00\n",
       "median      292,937.00\n",
       "mean        331,678.32\n",
       "std         233,943.64\n",
       "Name: totalsalevalue, dtype: float64"
      ]
     },
     "execution_count": 479,
     "metadata": {},
     "output_type": "execute_result"
    }
   ],
   "source": [
    "# Check aggregate values (min, max, mean, median, std dev) of numerical columns for any extreme values\n",
    "\n",
    "residential_stats = df_2[df_2['landgroup'] == 'Residential']['totalsalevalue'].agg(['min', 'max', 'median', 'mean', 'std'])\n",
    "residential_stats"
   ]
  },
  {
   "cell_type": "code",
   "execution_count": 574,
   "id": "ffa0f5eb-b5f5-4b30-a067-5c51bae9e349",
   "metadata": {
    "execution": {
     "iopub.execute_input": "2025-01-28T23:03:46.665716Z",
     "iopub.status.busy": "2025-01-28T23:03:46.665263Z",
     "iopub.status.idle": "2025-01-28T23:03:46.715764Z",
     "shell.execute_reply": "2025-01-28T23:03:46.714916Z",
     "shell.execute_reply.started": "2025-01-28T23:03:46.665692Z"
    }
   },
   "outputs": [
    {
     "data": {
      "text/plain": [
       "(13306, 25)"
      ]
     },
     "execution_count": 574,
     "metadata": {},
     "output_type": "execute_result"
    }
   ],
   "source": [
    "residential = df_2[(df_2['landgroup'] == 'Residential') & (df_2['totalsalevalue'] < 40000)]\n",
    "residential.shape"
   ]
  },
  {
   "cell_type": "markdown",
   "id": "66402d3a-c04e-4e69-952a-80d018ac7870",
   "metadata": {},
   "source": [
    "##### Notes on Missing $0 Values in TotalSaleValue\n",
    "\n",
    "1. After exploring the different sale value columns, a new column called 'calcvalue' will be created to be either by 1) the totalsalevalue amount, 2) the sum of the land and the building value if the totalsalevalue amount is $0, or 3) the sum of bldgvalue and landvalue if this amount is higher than the totatsalevalue (when not $0). The reason for this, is that we want the best estimate of property value. Assuming that land and buildings are appraised by legal entities or home insurance companies, etc, there must be a reason for the land and building values, and those should not be devalued by a lower total sale value (though there could be more of a story here).\n",
    "\n",
    "2. There might still be some inaccurate values in totalsalevalue as it might be equal to only the land value or the building value if there is an empty value for either. So later on, it may be necessary to remove the rows that don't provide a solid total calculated value of the property. However, this could also be dependent on the landclass type--for example, a mobile home would only be valued for it's building, not necessarily the land. "
   ]
  },
  {
   "cell_type": "code",
   "execution_count": 556,
   "id": "b9a1244e-2382-47ba-b12f-954abb9f5251",
   "metadata": {
    "execution": {
     "iopub.execute_input": "2025-01-28T22:59:40.762121Z",
     "iopub.status.busy": "2025-01-28T22:59:40.761749Z",
     "iopub.status.idle": "2025-01-28T22:59:40.878388Z",
     "shell.execute_reply": "2025-01-28T22:59:40.877458Z",
     "shell.execute_reply.started": "2025-01-28T22:59:40.762088Z"
    }
   },
   "outputs": [
    {
     "name": "stderr",
     "output_type": "stream",
     "text": [
      "/tmp/ipykernel_177/230829196.py:5: SettingWithCopyWarning: \n",
      "A value is trying to be set on a copy of a slice from a DataFrame.\n",
      "Try using .loc[row_indexer,col_indexer] = value instead\n",
      "\n",
      "See the caveats in the documentation: https://pandas.pydata.org/pandas-docs/stable/user_guide/indexing.html#returning-a-view-versus-a-copy\n",
      "  df_2['calcvalue'] = np.where(df_2['totalsalevalue'] > 0,\n"
     ]
    }
   ],
   "source": [
    "# Use the numpy \"where\" function to create rules around new column \"calcvalue\"\n",
    "\n",
    "import numpy as np\n",
    "\n",
    "df_2['calcvalue'] = np.where(df_2['totalsalevalue'] > 0,\n",
    "                             np.where((df_2['bldgvalue'] + df_2['landvalue']) > df_2['totalsalevalue'],\n",
    "                                      df_2['bldgvalue'] + df_2['landvalue'],\n",
    "                                      df_2['totalsalevalue']),\n",
    "                             df_2['bldgvalue'] + df_2['landvalue'])"
   ]
  },
  {
   "cell_type": "code",
   "execution_count": 559,
   "id": "61f5415e-77aa-4277-881b-3c9eaea928a9",
   "metadata": {
    "execution": {
     "iopub.execute_input": "2025-01-28T22:59:45.356495Z",
     "iopub.status.busy": "2025-01-28T22:59:45.356143Z",
     "iopub.status.idle": "2025-01-28T22:59:45.407192Z",
     "shell.execute_reply": "2025-01-28T22:59:45.406185Z",
     "shell.execute_reply.started": "2025-01-28T22:59:45.356471Z"
    }
   },
   "outputs": [
    {
     "data": {
      "text/plain": [
       "(0, 25)"
      ]
     },
     "execution_count": 559,
     "metadata": {},
     "output_type": "execute_result"
    }
   ],
   "source": [
    "residential = df_2[(df_2['landgroup'] == 'Residential') & (df_2['calcvalue'] == 0)]\n",
    "residential.shape"
   ]
  },
  {
   "cell_type": "code",
   "execution_count": 562,
   "id": "b15bc7d3-3826-40bf-945b-2fcb979be678",
   "metadata": {
    "execution": {
     "iopub.execute_input": "2025-01-28T22:59:49.056187Z",
     "iopub.status.busy": "2025-01-28T22:59:49.055516Z",
     "iopub.status.idle": "2025-01-28T22:59:49.321834Z",
     "shell.execute_reply": "2025-01-28T22:59:49.320961Z",
     "shell.execute_reply.started": "2025-01-28T22:59:49.056154Z"
    }
   },
   "outputs": [
    {
     "data": {
      "text/plain": [
       "min               1.00\n",
       "max      12,003,000.00\n",
       "median      476,294.00\n",
       "mean        531,864.03\n",
       "std         308,626.70\n",
       "Name: calcvalue, dtype: float64"
      ]
     },
     "execution_count": 562,
     "metadata": {},
     "output_type": "execute_result"
    }
   ],
   "source": [
    "# Check aggregate values (min, max, mean, median, std dev) of numerical columns for any extreme values\n",
    "\n",
    "residential_stats = df_2[df_2['landgroup'] == 'Residential']['calcvalue'].agg(['min', 'max', 'median', 'mean', 'std'])\n",
    "residential_stats"
   ]
  },
  {
   "cell_type": "code",
   "execution_count": 571,
   "id": "56f2a08b-d337-40fd-a868-5b6016aa6663",
   "metadata": {
    "execution": {
     "iopub.execute_input": "2025-01-28T23:00:28.582455Z",
     "iopub.status.busy": "2025-01-28T23:00:28.581689Z",
     "iopub.status.idle": "2025-01-28T23:00:28.673360Z",
     "shell.execute_reply": "2025-01-28T23:00:28.672442Z",
     "shell.execute_reply.started": "2025-01-28T23:00:28.582417Z"
    }
   },
   "outputs": [
    {
     "data": {
      "text/plain": [
       "(207, 25)"
      ]
     },
     "execution_count": 571,
     "metadata": {},
     "output_type": "execute_result"
    }
   ],
   "source": [
    "residential_2 = df_2[(df_2['landgroup'] == 'Residential') & (df_2['calcvalue'] < 40000)]\n",
    "residential_2.shape"
   ]
  },
  {
   "cell_type": "markdown",
   "id": "1f769e26-89d1-4566-aeb1-302aab09b5fd",
   "metadata": {},
   "source": [
    "##### \"calcvalue\" Notes:\n",
    "\n",
    "This might be a better approach for the analysis as we have a lot fewer rows below $40,000 (from 13306 to 207). Although the std deviation when up by around 100,000 which is interesting. \n",
    "\n",
    "\n",
    "There are also no more $0 for our total calculated property value which is great!\n",
    "\n",
    "Will leave the $1 outliers for now since they are smaller in number, and will proceed with the analysis."
   ]
  },
  {
   "cell_type": "markdown",
   "id": "2ae4857f-a40a-4f0b-919b-b4ca677c5bb6",
   "metadata": {},
   "source": [
    "#### C. Check deedacres for \"0\" Values "
   ]
  },
  {
   "cell_type": "code",
   "execution_count": 631,
   "id": "abdf3fcd-ae0d-43ee-9721-c09acb03d617",
   "metadata": {
    "execution": {
     "iopub.execute_input": "2025-01-28T23:38:09.329807Z",
     "iopub.status.busy": "2025-01-28T23:38:09.329357Z",
     "iopub.status.idle": "2025-01-28T23:38:09.456573Z",
     "shell.execute_reply": "2025-01-28T23:38:09.455680Z",
     "shell.execute_reply.started": "2025-01-28T23:38:09.329754Z"
    }
   },
   "outputs": [
    {
     "data": {
      "text/plain": [
       "min        0.00\n",
       "max      195.97\n",
       "median     0.23\n",
       "mean       0.40\n",
       "std        1.13\n",
       "Name: deedacres, dtype: float64"
      ]
     },
     "execution_count": 631,
     "metadata": {},
     "output_type": "execute_result"
    }
   ],
   "source": [
    "# Check aggregate values (min, max, mean, median, std dev) of numerical columns for any extreme values\n",
    "\n",
    "deedacres_stats = df_2[df_2['landgroup'] == 'Residential']['deedacres'].agg(['min', 'max', 'median', 'mean', 'std'])\n",
    "deedacres_stats"
   ]
  },
  {
   "cell_type": "code",
   "execution_count": 634,
   "id": "702e8ca6-8f04-48d5-b21e-eca0d2104ef4",
   "metadata": {
    "execution": {
     "iopub.execute_input": "2025-01-28T23:39:11.887955Z",
     "iopub.status.busy": "2025-01-28T23:39:11.886283Z",
     "iopub.status.idle": "2025-01-28T23:39:11.957662Z",
     "shell.execute_reply": "2025-01-28T23:39:11.956669Z",
     "shell.execute_reply.started": "2025-01-28T23:39:11.887918Z"
    }
   },
   "outputs": [
    {
     "data": {
      "text/plain": [
       "(1571, 25)"
      ]
     },
     "execution_count": 634,
     "metadata": {},
     "output_type": "execute_result"
    }
   ],
   "source": [
    "deedacres_stats = df_2[(df_2['landgroup'] == 'Residential') & (df_2['deedacres'] == 0)]\n",
    "deedacres_stats.shape"
   ]
  },
  {
   "cell_type": "markdown",
   "id": "4927fb35-23b8-43e5-9b43-c8fcf8cc63c7",
   "metadata": {},
   "source": [
    "##### Notes:\n",
    "\n",
    "Will leave these 0 acres in case this could indicate that the property is for the building only (like a mobile home)"
   ]
  },
  {
   "cell_type": "markdown",
   "id": "d85989ec-c82f-425d-82d5-54d4be44e645",
   "metadata": {},
   "source": [
    "### 3. Check for Duplicate Rows"
   ]
  },
  {
   "cell_type": "code",
   "execution_count": 535,
   "id": "e77af1dc-0b30-434c-9232-64bb3eb6bdc5",
   "metadata": {
    "execution": {
     "iopub.execute_input": "2025-01-28T22:49:53.049319Z",
     "iopub.status.busy": "2025-01-28T22:49:53.048757Z",
     "iopub.status.idle": "2025-01-28T22:49:53.566539Z",
     "shell.execute_reply": "2025-01-28T22:49:53.565870Z",
     "shell.execute_reply.started": "2025-01-28T22:49:53.049285Z"
    }
   },
   "outputs": [
    {
     "data": {
      "text/plain": [
       "0"
      ]
     },
     "execution_count": 535,
     "metadata": {},
     "output_type": "execute_result"
    }
   ],
   "source": [
    "# Checks for duplicate rows - 3 duplicate rows detected\n",
    "\n",
    "dups = df_2.duplicated()\n",
    "dups.sum()"
   ]
  },
  {
   "cell_type": "code",
   "execution_count": 324,
   "id": "51dc7200-8851-4bf0-9ab6-599a7ee7a132",
   "metadata": {
    "execution": {
     "iopub.execute_input": "2025-01-28T21:18:01.910437Z",
     "iopub.status.busy": "2025-01-28T21:18:01.910066Z",
     "iopub.status.idle": "2025-01-28T21:18:02.620458Z",
     "shell.execute_reply": "2025-01-28T21:18:02.619533Z",
     "shell.execute_reply.started": "2025-01-28T21:18:01.910405Z"
    }
   },
   "outputs": [
    {
     "data": {
      "text/html": [
       "<div>\n",
       "<style scoped>\n",
       "    .dataframe tbody tr th:only-of-type {\n",
       "        vertical-align: middle;\n",
       "    }\n",
       "\n",
       "    .dataframe tbody tr th {\n",
       "        vertical-align: top;\n",
       "    }\n",
       "\n",
       "    .dataframe thead th {\n",
       "        text-align: right;\n",
       "    }\n",
       "</style>\n",
       "<table border=\"1\" class=\"dataframe\">\n",
       "  <thead>\n",
       "    <tr style=\"text-align: right;\">\n",
       "      <th></th>\n",
       "      <th>location</th>\n",
       "      <th>deedacres</th>\n",
       "      <th>landclass</th>\n",
       "      <th>totalstructures</th>\n",
       "      <th>totalunits</th>\n",
       "      <th>propertydesc</th>\n",
       "      <th>bldgvalue</th>\n",
       "      <th>landvalue</th>\n",
       "      <th>landsalevalue</th>\n",
       "      <th>landsaledate</th>\n",
       "      <th>totalsalevalue</th>\n",
       "      <th>totalsaledate</th>\n",
       "      <th>county</th>\n",
       "      <th>totalbldgsqft</th>\n",
       "      <th>phycity</th>\n",
       "      <th>phyzip</th>\n",
       "      <th>shape_starea</th>\n",
       "      <th>shape_stlength</th>\n",
       "      <th>yearbuilt</th>\n",
       "      <th>geo_shape</th>\n",
       "      <th>geo_point_2d</th>\n",
       "      <th>latitude</th>\n",
       "      <th>longitude</th>\n",
       "      <th>landgroup</th>\n",
       "    </tr>\n",
       "  </thead>\n",
       "  <tbody>\n",
       "    <tr>\n",
       "      <th>228530</th>\n",
       "      <td>5015 Southpark Dr</td>\n",
       "      <td>0.0</td>\n",
       "      <td>Vac Com  Condo Assoc</td>\n",
       "      <td>NaN</td>\n",
       "      <td>NaN</td>\n",
       "      <td>SOUTHPARK OFFICE CONDOS/B LDG 1/COMMON SPACE P...</td>\n",
       "      <td>0</td>\n",
       "      <td>1</td>\n",
       "      <td>1</td>\n",
       "      <td>NaT</td>\n",
       "      <td>1</td>\n",
       "      <td>NaT</td>\n",
       "      <td>Durham</td>\n",
       "      <td>&lt;NA&gt;</td>\n",
       "      <td>Durham</td>\n",
       "      <td>27713</td>\n",
       "      <td>193654.5611</td>\n",
       "      <td>1823.332932</td>\n",
       "      <td>NaT</td>\n",
       "      <td>b\"\\x01\\x03\\x00\\x00\\x00\\x01\\x00\\x00\\x00\\x08\\x00...</td>\n",
       "      <td>b'\\x01\\x01\\x00\\x00\\x00\\xe8\\x00?DT\\xbcS\\xc0B\\xd...</td>\n",
       "      <td>35.912495</td>\n",
       "      <td>-78.942643</td>\n",
       "      <td>Vacant</td>\n",
       "    </tr>\n",
       "    <tr>\n",
       "      <th>267988</th>\n",
       "      <td>5015 Southpark Dr</td>\n",
       "      <td>0.0</td>\n",
       "      <td>Vac Com  Condo Assoc</td>\n",
       "      <td>NaN</td>\n",
       "      <td>NaN</td>\n",
       "      <td>SOUTHPARK OFFICE CONDOS/B LDG 1/COMMON SPACE P...</td>\n",
       "      <td>0</td>\n",
       "      <td>1</td>\n",
       "      <td>1</td>\n",
       "      <td>NaT</td>\n",
       "      <td>1</td>\n",
       "      <td>NaT</td>\n",
       "      <td>Durham</td>\n",
       "      <td>&lt;NA&gt;</td>\n",
       "      <td>Durham</td>\n",
       "      <td>27713</td>\n",
       "      <td>193654.5611</td>\n",
       "      <td>1823.332932</td>\n",
       "      <td>NaT</td>\n",
       "      <td>b\"\\x01\\x03\\x00\\x00\\x00\\x01\\x00\\x00\\x00\\x08\\x00...</td>\n",
       "      <td>b'\\x01\\x01\\x00\\x00\\x00\\xe8\\x00?DT\\xbcS\\xc0B\\xd...</td>\n",
       "      <td>35.912495</td>\n",
       "      <td>-78.942643</td>\n",
       "      <td>Vacant</td>\n",
       "    </tr>\n",
       "    <tr>\n",
       "      <th>268141</th>\n",
       "      <td>5015 Southpark Dr</td>\n",
       "      <td>0.0</td>\n",
       "      <td>Vac Com  Condo Assoc</td>\n",
       "      <td>NaN</td>\n",
       "      <td>NaN</td>\n",
       "      <td>SOUTHPARK OFFICE CONDOS/B LDG 1/COMMON SPACE P...</td>\n",
       "      <td>0</td>\n",
       "      <td>1</td>\n",
       "      <td>1</td>\n",
       "      <td>NaT</td>\n",
       "      <td>1</td>\n",
       "      <td>NaT</td>\n",
       "      <td>Durham</td>\n",
       "      <td>&lt;NA&gt;</td>\n",
       "      <td>Durham</td>\n",
       "      <td>27713</td>\n",
       "      <td>193654.5611</td>\n",
       "      <td>1823.332932</td>\n",
       "      <td>NaT</td>\n",
       "      <td>b\"\\x01\\x03\\x00\\x00\\x00\\x01\\x00\\x00\\x00\\x08\\x00...</td>\n",
       "      <td>b'\\x01\\x01\\x00\\x00\\x00\\xe8\\x00?DT\\xbcS\\xc0B\\xd...</td>\n",
       "      <td>35.912495</td>\n",
       "      <td>-78.942643</td>\n",
       "      <td>Vacant</td>\n",
       "    </tr>\n",
       "  </tbody>\n",
       "</table>\n",
       "</div>"
      ],
      "text/plain": [
       "                 location  deedacres             landclass  totalstructures  \\\n",
       "228530  5015 Southpark Dr        0.0  Vac Com  Condo Assoc              NaN   \n",
       "267988  5015 Southpark Dr        0.0  Vac Com  Condo Assoc              NaN   \n",
       "268141  5015 Southpark Dr        0.0  Vac Com  Condo Assoc              NaN   \n",
       "\n",
       "        totalunits                                       propertydesc  \\\n",
       "228530         NaN  SOUTHPARK OFFICE CONDOS/B LDG 1/COMMON SPACE P...   \n",
       "267988         NaN  SOUTHPARK OFFICE CONDOS/B LDG 1/COMMON SPACE P...   \n",
       "268141         NaN  SOUTHPARK OFFICE CONDOS/B LDG 1/COMMON SPACE P...   \n",
       "\n",
       "        bldgvalue  landvalue  landsalevalue landsaledate  totalsalevalue  \\\n",
       "228530          0          1              1          NaT               1   \n",
       "267988          0          1              1          NaT               1   \n",
       "268141          0          1              1          NaT               1   \n",
       "\n",
       "       totalsaledate  county  totalbldgsqft phycity phyzip  shape_starea  \\\n",
       "228530           NaT  Durham           <NA>  Durham  27713   193654.5611   \n",
       "267988           NaT  Durham           <NA>  Durham  27713   193654.5611   \n",
       "268141           NaT  Durham           <NA>  Durham  27713   193654.5611   \n",
       "\n",
       "        shape_stlength yearbuilt  \\\n",
       "228530     1823.332932       NaT   \n",
       "267988     1823.332932       NaT   \n",
       "268141     1823.332932       NaT   \n",
       "\n",
       "                                                geo_shape  \\\n",
       "228530  b\"\\x01\\x03\\x00\\x00\\x00\\x01\\x00\\x00\\x00\\x08\\x00...   \n",
       "267988  b\"\\x01\\x03\\x00\\x00\\x00\\x01\\x00\\x00\\x00\\x08\\x00...   \n",
       "268141  b\"\\x01\\x03\\x00\\x00\\x00\\x01\\x00\\x00\\x00\\x08\\x00...   \n",
       "\n",
       "                                             geo_point_2d   latitude  \\\n",
       "228530  b'\\x01\\x01\\x00\\x00\\x00\\xe8\\x00?DT\\xbcS\\xc0B\\xd...  35.912495   \n",
       "267988  b'\\x01\\x01\\x00\\x00\\x00\\xe8\\x00?DT\\xbcS\\xc0B\\xd...  35.912495   \n",
       "268141  b'\\x01\\x01\\x00\\x00\\x00\\xe8\\x00?DT\\xbcS\\xc0B\\xd...  35.912495   \n",
       "\n",
       "        longitude landgroup  \n",
       "228530 -78.942643    Vacant  \n",
       "267988 -78.942643    Vacant  \n",
       "268141 -78.942643    Vacant  "
      ]
     },
     "execution_count": 324,
     "metadata": {},
     "output_type": "execute_result"
    }
   ],
   "source": [
    "df_2[df_2.duplicated()]"
   ]
  },
  {
   "cell_type": "code",
   "execution_count": 328,
   "id": "9708c2b1-be5e-4196-9006-5e4452706c1a",
   "metadata": {
    "execution": {
     "iopub.execute_input": "2025-01-28T21:25:39.501534Z",
     "iopub.status.busy": "2025-01-28T21:25:39.501195Z",
     "iopub.status.idle": "2025-01-28T21:25:40.335907Z",
     "shell.execute_reply": "2025-01-28T21:25:40.334944Z",
     "shell.execute_reply.started": "2025-01-28T21:25:39.501501Z"
    }
   },
   "outputs": [],
   "source": [
    "# Drop duplicate rows\n",
    "\n",
    "df_2 = df_2.drop_duplicates()"
   ]
  },
  {
   "cell_type": "code",
   "execution_count": 334,
   "id": "64af95ad-6063-4c56-a4e2-0f7b0eaa026e",
   "metadata": {
    "execution": {
     "iopub.execute_input": "2025-01-28T21:26:12.159157Z",
     "iopub.status.busy": "2025-01-28T21:26:12.157518Z",
     "iopub.status.idle": "2025-01-28T21:26:13.296927Z",
     "shell.execute_reply": "2025-01-28T21:26:13.287722Z",
     "shell.execute_reply.started": "2025-01-28T21:26:12.159119Z"
    }
   },
   "outputs": [
    {
     "data": {
      "text/html": [
       "<div>\n",
       "<style scoped>\n",
       "    .dataframe tbody tr th:only-of-type {\n",
       "        vertical-align: middle;\n",
       "    }\n",
       "\n",
       "    .dataframe tbody tr th {\n",
       "        vertical-align: top;\n",
       "    }\n",
       "\n",
       "    .dataframe thead th {\n",
       "        text-align: right;\n",
       "    }\n",
       "</style>\n",
       "<table border=\"1\" class=\"dataframe\">\n",
       "  <thead>\n",
       "    <tr style=\"text-align: right;\">\n",
       "      <th></th>\n",
       "      <th>location</th>\n",
       "      <th>deedacres</th>\n",
       "      <th>landclass</th>\n",
       "      <th>totalstructures</th>\n",
       "      <th>totalunits</th>\n",
       "      <th>propertydesc</th>\n",
       "      <th>bldgvalue</th>\n",
       "      <th>landvalue</th>\n",
       "      <th>landsalevalue</th>\n",
       "      <th>landsaledate</th>\n",
       "      <th>totalsalevalue</th>\n",
       "      <th>totalsaledate</th>\n",
       "      <th>county</th>\n",
       "      <th>totalbldgsqft</th>\n",
       "      <th>phycity</th>\n",
       "      <th>phyzip</th>\n",
       "      <th>shape_starea</th>\n",
       "      <th>shape_stlength</th>\n",
       "      <th>yearbuilt</th>\n",
       "      <th>geo_shape</th>\n",
       "      <th>geo_point_2d</th>\n",
       "      <th>latitude</th>\n",
       "      <th>longitude</th>\n",
       "      <th>landgroup</th>\n",
       "    </tr>\n",
       "  </thead>\n",
       "  <tbody>\n",
       "  </tbody>\n",
       "</table>\n",
       "</div>"
      ],
      "text/plain": [
       "Empty DataFrame\n",
       "Columns: [location, deedacres, landclass, totalstructures, totalunits, propertydesc, bldgvalue, landvalue, landsalevalue, landsaledate, totalsalevalue, totalsaledate, county, totalbldgsqft, phycity, phyzip, shape_starea, shape_stlength, yearbuilt, geo_shape, geo_point_2d, latitude, longitude, landgroup]\n",
       "Index: []"
      ]
     },
     "execution_count": 334,
     "metadata": {},
     "output_type": "execute_result"
    }
   ],
   "source": [
    "# Duplicate rows eliminated\n",
    "\n",
    "df_2[df_2.duplicated()]"
   ]
  },
  {
   "cell_type": "markdown",
   "id": "08ad48c1-12ef-4b0e-a95e-b7a2eafbab67",
   "metadata": {},
   "source": [
    "### 4. Extreme Values Check"
   ]
  },
  {
   "cell_type": "code",
   "execution_count": 578,
   "id": "1975f82d-112c-4e0f-a8cd-a79bcf611b5b",
   "metadata": {
    "execution": {
     "iopub.execute_input": "2025-01-28T23:05:01.545896Z",
     "iopub.status.busy": "2025-01-28T23:05:01.545275Z",
     "iopub.status.idle": "2025-01-28T23:05:02.169560Z",
     "shell.execute_reply": "2025-01-28T23:05:02.168524Z",
     "shell.execute_reply.started": "2025-01-28T23:05:01.545861Z"
    }
   },
   "outputs": [
    {
     "data": {
      "image/png": "[encoded data removed]",
      "text/plain": [
       "<Figure size 640x480 with 1 Axes>"
      ]
     },
     "metadata": {},
     "output_type": "display_data"
    }
   ],
   "source": [
    "# Filter the DataFrame for 'Res  2 Family'\n",
    "hist_1 = df_2[df_2['landgroup'] == 'Residential']\n",
    "\n",
    "# Create the histogram\n",
    "hist_1['calcvalue'].hist(bins=20, edgecolor='black')\n",
    "\n",
    "# Customize the plot\n",
    "plt.title('Histogram of Residential Total Sale Values')\n",
    "plt.xlabel('Total Sale Value')\n",
    "plt.ylabel('Frequency')\n",
    "\n",
    "# Display the plot\n",
    "plt.show()"
   ]
  },
  {
   "cell_type": "markdown",
   "id": "fcbc998b-22e7-40cc-a767-4c698942f91d",
   "metadata": {
    "jp-MarkdownHeadingCollapsed": true
   },
   "source": [
    "# 05. Explore Data & Hypothesize"
   ]
  },
  {
   "cell_type": "markdown",
   "id": "bfec3119-eb39-46b0-9caa-1d2b29632004",
   "metadata": {},
   "source": [
    "### 1. Explore data visually using scatterplots"
   ]
  },
  {
   "cell_type": "code",
   "execution_count": 699,
   "id": "1a218fc3-bf8a-4a5a-92b2-fba7a6289b40",
   "metadata": {
    "execution": {
     "iopub.execute_input": "2025-01-29T00:05:30.190253Z",
     "iopub.status.busy": "2025-01-29T00:05:30.189747Z",
     "iopub.status.idle": "2025-01-29T00:05:30.288773Z",
     "shell.execute_reply": "2025-01-29T00:05:30.288071Z",
     "shell.execute_reply.started": "2025-01-29T00:05:30.190208Z"
    }
   },
   "outputs": [
    {
     "data": {
      "text/plain": [
       "(234996, 2)"
      ]
     },
     "execution_count": 699,
     "metadata": {},
     "output_type": "execute_result"
    }
   ],
   "source": [
    "# Simplify the data being extracted for analysis by making a subset dataframe \"res_value\"\n",
    "\n",
    "res_value = df_2[df_2['landgroup'] == 'Residential'][['deedacres', 'calcvalue']]\n",
    "res_value.shape"
   ]
  },
  {
   "cell_type": "code",
   "execution_count": 696,
   "id": "ce91be0b-9138-42be-b3a1-46b6742521cd",
   "metadata": {
    "execution": {
     "iopub.execute_input": "2025-01-29T00:05:13.680817Z",
     "iopub.status.busy": "2025-01-29T00:05:13.680538Z",
     "iopub.status.idle": "2025-01-29T00:05:14.496120Z",
     "shell.execute_reply": "2025-01-29T00:05:14.495283Z",
     "shell.execute_reply.started": "2025-01-29T00:05:13.680795Z"
    }
   },
   "outputs": [
    {
     "data": {
      "image/png": "[encoded data removed]",
      "text/plain": [
       "<Figure size 640x480 with 1 Axes>"
      ]
     },
     "metadata": {},
     "output_type": "display_data"
    }
   ],
   "source": [
    "# Create a scatterplot using matplotlib for another look at how the chosen variables plot against each other.\n",
    "\n",
    "res_value.plot(x = 'deedacres', y='calcvalue',style='o') # The style option creates a scatterplot; without it, we only have lines.\n",
    "plt.title('Acreage Size vs Est. Property Value')  \n",
    "plt.xlabel('Acreage on Deed')  \n",
    "plt.ylabel('Est. Property Value (million)')  \n",
    "plt.show()"
   ]
  },
  {
   "cell_type": "markdown",
   "id": "8d1ad27f-8f3f-4820-af47-f95fa05581d3",
   "metadata": {},
   "source": [
    "### 2. State Hypothesis"
   ]
  },
  {
   "cell_type": "markdown",
   "id": "f9e59fe4-87fd-4db2-962c-249f140a560b",
   "metadata": {},
   "source": [
    "If the acreage size of the property increase, the estimated property value will also increase."
   ]
  },
  {
   "cell_type": "markdown",
   "id": "8492807e-7450-4044-a3d8-4bc1a104898e",
   "metadata": {
    "jp-MarkdownHeadingCollapsed": true
   },
   "source": [
    "# 06. Prep for Linear Regression"
   ]
  },
  {
   "cell_type": "markdown",
   "id": "4d1b5000-48dd-44dc-a0c3-a56b67ef01df",
   "metadata": {},
   "source": [
    "### 1. Reshape variables into NumPy arrays"
   ]
  },
  {
   "cell_type": "code",
   "execution_count": 705,
   "id": "5a00a093-8401-4985-bc08-fba181594676",
   "metadata": {
    "execution": {
     "iopub.execute_input": "2025-01-29T00:08:10.951954Z",
     "iopub.status.busy": "2025-01-29T00:08:10.950411Z",
     "iopub.status.idle": "2025-01-29T00:08:10.962612Z",
     "shell.execute_reply": "2025-01-29T00:08:10.959362Z",
     "shell.execute_reply.started": "2025-01-29T00:08:10.951920Z"
    }
   },
   "outputs": [],
   "source": [
    "# Reshape the variables into NumPy arrays and put them into separate objects.\n",
    "\n",
    "X = res_value['deedacres'].values.reshape(-1,1)\n",
    "y = res_value['calcvalue'].values.reshape(-1,1)"
   ]
  },
  {
   "cell_type": "code",
   "execution_count": 709,
   "id": "e95a1513-f045-4056-92b9-e505344f067a",
   "metadata": {
    "execution": {
     "iopub.execute_input": "2025-01-29T00:08:26.957973Z",
     "iopub.status.busy": "2025-01-29T00:08:26.957661Z",
     "iopub.status.idle": "2025-01-29T00:08:26.971270Z",
     "shell.execute_reply": "2025-01-29T00:08:26.970439Z",
     "shell.execute_reply.started": "2025-01-29T00:08:26.957951Z"
    }
   },
   "outputs": [
    {
     "data": {
      "text/plain": [
       "array([[0.15],\n",
       "       [0.16],\n",
       "       [0.22],\n",
       "       ...,\n",
       "       [0.64],\n",
       "       [0.07],\n",
       "       [0.09]])"
      ]
     },
     "execution_count": 709,
     "metadata": {},
     "output_type": "execute_result"
    }
   ],
   "source": [
    "X"
   ]
  },
  {
   "cell_type": "code",
   "execution_count": 712,
   "id": "b45ccd10-ecfe-4573-a07a-bb61fadb18fb",
   "metadata": {
    "execution": {
     "iopub.execute_input": "2025-01-29T00:08:34.980226Z",
     "iopub.status.busy": "2025-01-29T00:08:34.979980Z",
     "iopub.status.idle": "2025-01-29T00:08:34.993978Z",
     "shell.execute_reply": "2025-01-29T00:08:34.993165Z",
     "shell.execute_reply.started": "2025-01-29T00:08:34.980207Z"
    }
   },
   "outputs": [
    {
     "data": {
      "text/plain": [
       "array([[235414],\n",
       "       [220192],\n",
       "       [351648],\n",
       "       ...,\n",
       "       [82896],\n",
       "       [291123],\n",
       "       [160865]], dtype=object)"
      ]
     },
     "execution_count": 712,
     "metadata": {},
     "output_type": "execute_result"
    }
   ],
   "source": [
    "y"
   ]
  },
  {
   "cell_type": "markdown",
   "id": "b800a024-b29c-42e0-9b3b-dc462c670610",
   "metadata": {},
   "source": [
    "### 2. Split data into training & test sets"
   ]
  },
  {
   "cell_type": "code",
   "execution_count": 717,
   "id": "7bddd3cc-94e7-405b-9413-48fae7ebe49c",
   "metadata": {
    "execution": {
     "iopub.execute_input": "2025-01-29T00:09:06.337065Z",
     "iopub.status.busy": "2025-01-29T00:09:06.336714Z",
     "iopub.status.idle": "2025-01-29T00:09:06.391549Z",
     "shell.execute_reply": "2025-01-29T00:09:06.390796Z",
     "shell.execute_reply.started": "2025-01-29T00:09:06.337041Z"
    }
   },
   "outputs": [],
   "source": [
    "# Split data into a training set and a test set.\n",
    "\n",
    "X_train, X_test, y_train, y_test = train_test_split(X, y, test_size=0.3, random_state=0)"
   ]
  },
  {
   "cell_type": "markdown",
   "id": "d3987baa-37a7-4906-a07b-8822d944ed62",
   "metadata": {
    "jp-MarkdownHeadingCollapsed": true
   },
   "source": [
    "# 07. Run Linear Regression"
   ]
  },
  {
   "cell_type": "markdown",
   "id": "ae561a92-25b1-4e5f-b8e7-cdb85a2abf0c",
   "metadata": {},
   "source": [
    "### 1. Fit model on training set"
   ]
  },
  {
   "cell_type": "code",
   "execution_count": 722,
   "id": "e6673ca1-2bd8-497b-b24d-2afa8f719706",
   "metadata": {
    "execution": {
     "iopub.execute_input": "2025-01-29T00:09:37.686715Z",
     "iopub.status.busy": "2025-01-29T00:09:37.686329Z",
     "iopub.status.idle": "2025-01-29T00:09:37.704706Z",
     "shell.execute_reply": "2025-01-29T00:09:37.704073Z",
     "shell.execute_reply.started": "2025-01-29T00:09:37.686692Z"
    }
   },
   "outputs": [],
   "source": [
    "# Create a regression object.\n",
    "\n",
    "regression = LinearRegression()  # This is the regression object, which will be fit onto the training set."
   ]
  },
  {
   "cell_type": "code",
   "execution_count": 726,
   "id": "3aca7467-8793-442e-9aeb-919b9ba52719",
   "metadata": {
    "execution": {
     "iopub.execute_input": "2025-01-29T00:09:50.728152Z",
     "iopub.status.busy": "2025-01-29T00:09:50.727770Z",
     "iopub.status.idle": "2025-01-29T00:09:50.848008Z",
     "shell.execute_reply": "2025-01-29T00:09:50.847173Z",
     "shell.execute_reply.started": "2025-01-29T00:09:50.728126Z"
    }
   },
   "outputs": [
    {
     "data": {
      "text/html": [
       "<style>#sk-container-id-1 {color: black;}#sk-container-id-1 pre{padding: 0;}#sk-container-id-1 div.sk-toggleable {background-color: white;}#sk-container-id-1 label.sk-toggleable__label {cursor: pointer;display: block;width: 100%;margin-bottom: 0;padding: 0.3em;box-sizing: border-box;text-align: center;}#sk-container-id-1 label.sk-toggleable__label-arrow:before {content: \"▸\";float: left;margin-right: 0.25em;color: #696969;}#sk-container-id-1 label.sk-toggleable__label-arrow:hover:before {color: black;}#sk-container-id-1 div.sk-estimator:hover label.sk-toggleable__label-arrow:before {color: black;}#sk-container-id-1 div.sk-toggleable__content {max-height: 0;max-width: 0;overflow: hidden;text-align: left;background-color: #f0f8ff;}#sk-container-id-1 div.sk-toggleable__content pre {margin: 0.2em;color: black;border-radius: 0.25em;background-color: #f0f8ff;}#sk-container-id-1 input.sk-toggleable__control:checked~div.sk-toggleable__content {max-height: 200px;max-width: 100%;overflow: auto;}#sk-container-id-1 input.sk-toggleable__control:checked~label.sk-toggleable__label-arrow:before {content: \"▾\";}#sk-container-id-1 div.sk-estimator input.sk-toggleable__control:checked~label.sk-toggleable__label {background-color: #d4ebff;}#sk-container-id-1 div.sk-label input.sk-toggleable__control:checked~label.sk-toggleable__label {background-color: #d4ebff;}#sk-container-id-1 input.sk-hidden--visually {border: 0;clip: rect(1px 1px 1px 1px);clip: rect(1px, 1px, 1px, 1px);height: 1px;margin: -1px;overflow: hidden;padding: 0;position: absolute;width: 1px;}#sk-container-id-1 div.sk-estimator {font-family: monospace;background-color: #f0f8ff;border: 1px dotted black;border-radius: 0.25em;box-sizing: border-box;margin-bottom: 0.5em;}#sk-container-id-1 div.sk-estimator:hover {background-color: #d4ebff;}#sk-container-id-1 div.sk-parallel-item::after {content: \"\";width: 100%;border-bottom: 1px solid gray;flex-grow: 1;}#sk-container-id-1 div.sk-label:hover label.sk-toggleable__label {background-color: #d4ebff;}#sk-container-id-1 div.sk-serial::before {content: \"\";position: absolute;border-left: 1px solid gray;box-sizing: border-box;top: 0;bottom: 0;left: 50%;z-index: 0;}#sk-container-id-1 div.sk-serial {display: flex;flex-direction: column;align-items: center;background-color: white;padding-right: 0.2em;padding-left: 0.2em;position: relative;}#sk-container-id-1 div.sk-item {position: relative;z-index: 1;}#sk-container-id-1 div.sk-parallel {display: flex;align-items: stretch;justify-content: center;background-color: white;position: relative;}#sk-container-id-1 div.sk-item::before, #sk-container-id-1 div.sk-parallel-item::before {content: \"\";position: absolute;border-left: 1px solid gray;box-sizing: border-box;top: 0;bottom: 0;left: 50%;z-index: -1;}#sk-container-id-1 div.sk-parallel-item {display: flex;flex-direction: column;z-index: 1;position: relative;background-color: white;}#sk-container-id-1 div.sk-parallel-item:first-child::after {align-self: flex-end;width: 50%;}#sk-container-id-1 div.sk-parallel-item:last-child::after {align-self: flex-start;width: 50%;}#sk-container-id-1 div.sk-parallel-item:only-child::after {width: 0;}#sk-container-id-1 div.sk-dashed-wrapped {border: 1px dashed gray;margin: 0 0.4em 0.5em 0.4em;box-sizing: border-box;padding-bottom: 0.4em;background-color: white;}#sk-container-id-1 div.sk-label label {font-family: monospace;font-weight: bold;display: inline-block;line-height: 1.2em;}#sk-container-id-1 div.sk-label-container {text-align: center;}#sk-container-id-1 div.sk-container {/* jupyter's `normalize.less` sets `[hidden] { display: none; }` but bootstrap.min.css set `[hidden] { display: none !important; }` so we also need the `!important` here to be able to override the default hidden behavior on the sphinx rendered scikit-learn.org. See: https://github.com/scikit-learn/scikit-learn/issues/21755 */display: inline-block !important;position: relative;}#sk-container-id-1 div.sk-text-repr-fallback {display: none;}</style><div id=\"sk-container-id-1\" class=\"sk-top-container\"><div class=\"sk-text-repr-fallback\"><pre>LinearRegression()</pre><b>In a Jupyter environment, please rerun this cell to show the HTML representation or trust the notebook. <br />On GitHub, the HTML representation is unable to render, please try loading this page with nbviewer.org.</b></div><div class=\"sk-container\" hidden><div class=\"sk-item\"><div class=\"sk-estimator sk-toggleable\"><input class=\"sk-toggleable__control sk-hidden--visually\" id=\"sk-estimator-id-1\" type=\"checkbox\" checked><label for=\"sk-estimator-id-1\" class=\"sk-toggleable__label sk-toggleable__label-arrow\">LinearRegression</label><div class=\"sk-toggleable__content\"><pre>LinearRegression()</pre></div></div></div></div></div>"
      ],
      "text/plain": [
       "LinearRegression()"
      ]
     },
     "execution_count": 726,
     "metadata": {},
     "output_type": "execute_result"
    }
   ],
   "source": [
    "# Fit the regression object onto the training set.\n",
    "\n",
    "regression.fit(X_train, y_train)"
   ]
  },
  {
   "cell_type": "markdown",
   "id": "976cebba-13a5-4bd4-ba85-19557601b4dc",
   "metadata": {},
   "source": [
    "### 2. Create prediction for y on test set"
   ]
  },
  {
   "cell_type": "code",
   "execution_count": 731,
   "id": "2423e180-6ef9-4ded-9101-1b304ff662c0",
   "metadata": {
    "execution": {
     "iopub.execute_input": "2025-01-29T00:10:29.225912Z",
     "iopub.status.busy": "2025-01-29T00:10:29.225363Z",
     "iopub.status.idle": "2025-01-29T00:10:29.240139Z",
     "shell.execute_reply": "2025-01-29T00:10:29.239298Z",
     "shell.execute_reply.started": "2025-01-29T00:10:29.225881Z"
    }
   },
   "outputs": [],
   "source": [
    "# Predict the values of y using X.\n",
    "\n",
    "y_predicted = regression.predict(X_test)"
   ]
  },
  {
   "cell_type": "markdown",
   "id": "f5739ccf-cbc5-46c2-b61a-8f4f7ae5280e",
   "metadata": {},
   "source": [
    "### 3. Create a plot showing regression line on test set"
   ]
  },
  {
   "cell_type": "code",
   "execution_count": 735,
   "id": "779ff50a-1095-4172-929c-76eb7fe9db0b",
   "metadata": {
    "execution": {
     "iopub.execute_input": "2025-01-29T00:11:44.400016Z",
     "iopub.status.busy": "2025-01-29T00:11:44.399700Z",
     "iopub.status.idle": "2025-01-29T00:11:44.734223Z",
     "shell.execute_reply": "2025-01-29T00:11:44.733400Z",
     "shell.execute_reply.started": "2025-01-29T00:11:44.399994Z"
    }
   },
   "outputs": [
    {
     "data": {
      "image/png": "[encoded data removed]",
      "text/plain": [
       "<Figure size 640x480 with 1 Axes>"
      ]
     },
     "metadata": {},
     "output_type": "display_data"
    }
   ],
   "source": [
    "# Create a plot that shows the regression line from the model on the test set.\n",
    "\n",
    "plot_test = plt\n",
    "plot_test.scatter(X_test, y_test, color='gray', s = 15)\n",
    "plot_test.plot(X_test, y_predicted, color='red', linewidth =3)\n",
    "plot_test.title('Acreage Size vs Est. Property Value (Test set)')\n",
    "plot_test.xlabel('Acreage on Deed')\n",
    "plot_test.ylabel('Est. Property Value (million)')\n",
    "plot_test.show()"
   ]
  },
  {
   "cell_type": "markdown",
   "id": "d63e1b97-d1ba-42bc-80ed-c7bf9e2f8847",
   "metadata": {},
   "source": [
    "#### Interpretation Notes:\n",
    "\n",
    "At first glance, you see a slightly upward slope, so we know there's somewhat of a correlation, though it's not a strong one. We need to validate further with the MSE, R2, & Y predicted values to better understand the model performance."
   ]
  },
  {
   "cell_type": "markdown",
   "id": "2dcc375b-6fe3-4a90-ab0d-646b0bdf5881",
   "metadata": {},
   "source": [
    "### 4. Check model performance statistics"
   ]
  },
  {
   "cell_type": "markdown",
   "id": "8c1a8b48-d14f-4ff0-925f-6e171b7e825f",
   "metadata": {},
   "source": [
    "#### MSE Score & R2 Score"
   ]
  },
  {
   "cell_type": "code",
   "execution_count": 740,
   "id": "baff604d-1392-4ef3-96ea-0eb1966b623d",
   "metadata": {
    "execution": {
     "iopub.execute_input": "2025-01-29T00:12:20.243231Z",
     "iopub.status.busy": "2025-01-29T00:12:20.242855Z",
     "iopub.status.idle": "2025-01-29T00:12:20.274213Z",
     "shell.execute_reply": "2025-01-29T00:12:20.273589Z",
     "shell.execute_reply.started": "2025-01-29T00:12:20.243201Z"
    }
   },
   "outputs": [],
   "source": [
    "# Create objects that contain the model summary statistics.\n",
    "\n",
    "rmse = mean_squared_error(y_test, y_predicted) # This is the mean squared error\n",
    "r2 = r2_score(y_test, y_predicted) # This is the R2 score. "
   ]
  },
  {
   "cell_type": "code",
   "execution_count": 745,
   "id": "feb9125c-c258-4275-b9f7-c61b488e9910",
   "metadata": {
    "execution": {
     "iopub.execute_input": "2025-01-29T00:12:45.560990Z",
     "iopub.status.busy": "2025-01-29T00:12:45.560052Z",
     "iopub.status.idle": "2025-01-29T00:12:45.575496Z",
     "shell.execute_reply": "2025-01-29T00:12:45.574580Z",
     "shell.execute_reply.started": "2025-01-29T00:12:45.560955Z"
    }
   },
   "outputs": [
    {
     "name": "stdout",
     "output_type": "stream",
     "text": [
      "Slope: [[63580.99663623]]\n",
      "Mean squared error:  88578293796.30373\n",
      "R2 score:  0.058812969645524626\n"
     ]
    }
   ],
   "source": [
    "# Print the model summary statistics. This is where you evaluate the performance of the model.\n",
    "\n",
    "print('Slope:' ,regression.coef_)\n",
    "print('Mean squared error: ', rmse)\n",
    "print('R2 score: ', r2)"
   ]
  },
  {
   "cell_type": "markdown",
   "id": "11cff902-a850-4d92-a24a-ed1c920e70f7",
   "metadata": {},
   "source": [
    "#### Y Predicted"
   ]
  },
  {
   "cell_type": "code",
   "execution_count": 753,
   "id": "4b6ca8da-e037-4cb7-8c70-084953dfbb62",
   "metadata": {
    "execution": {
     "iopub.execute_input": "2025-01-29T00:14:04.496948Z",
     "iopub.status.busy": "2025-01-29T00:14:04.496355Z",
     "iopub.status.idle": "2025-01-29T00:14:04.511885Z",
     "shell.execute_reply": "2025-01-29T00:14:04.511078Z",
     "shell.execute_reply.started": "2025-01-29T00:14:04.496914Z"
    }
   },
   "outputs": [
    {
     "data": {
      "text/plain": [
       "array([[520358.40084258],\n",
       "       [529259.74037165],\n",
       "       [526080.69053984],\n",
       "       ...,\n",
       "       [512092.87127987],\n",
       "       [511457.06131351],\n",
       "       [509549.63141442]])"
      ]
     },
     "execution_count": 753,
     "metadata": {},
     "output_type": "execute_result"
    }
   ],
   "source": [
    "y_predicted"
   ]
  },
  {
   "cell_type": "code",
   "execution_count": 761,
   "id": "27fec290-8f5f-4c8c-9834-17c5bcc784c7",
   "metadata": {
    "execution": {
     "iopub.execute_input": "2025-01-29T00:15:33.689686Z",
     "iopub.status.busy": "2025-01-29T00:15:33.689088Z",
     "iopub.status.idle": "2025-01-29T00:15:33.726054Z",
     "shell.execute_reply": "2025-01-29T00:15:33.725342Z",
     "shell.execute_reply.started": "2025-01-29T00:15:33.689659Z"
    }
   },
   "outputs": [
    {
     "data": {
      "text/html": [
       "<div>\n",
       "<style scoped>\n",
       "    .dataframe tbody tr th:only-of-type {\n",
       "        vertical-align: middle;\n",
       "    }\n",
       "\n",
       "    .dataframe tbody tr th {\n",
       "        vertical-align: top;\n",
       "    }\n",
       "\n",
       "    .dataframe thead th {\n",
       "        text-align: right;\n",
       "    }\n",
       "</style>\n",
       "<table border=\"1\" class=\"dataframe\">\n",
       "  <thead>\n",
       "    <tr style=\"text-align: right;\">\n",
       "      <th></th>\n",
       "      <th>Actual</th>\n",
       "      <th>Predicted</th>\n",
       "    </tr>\n",
       "  </thead>\n",
       "  <tbody>\n",
       "    <tr>\n",
       "      <th>0</th>\n",
       "      <td>1021209</td>\n",
       "      <td>520,358.40</td>\n",
       "    </tr>\n",
       "    <tr>\n",
       "      <th>1</th>\n",
       "      <td>821100</td>\n",
       "      <td>529,259.74</td>\n",
       "    </tr>\n",
       "    <tr>\n",
       "      <th>2</th>\n",
       "      <td>178665</td>\n",
       "      <td>526,080.69</td>\n",
       "    </tr>\n",
       "    <tr>\n",
       "      <th>3</th>\n",
       "      <td>449000</td>\n",
       "      <td>517,179.35</td>\n",
       "    </tr>\n",
       "    <tr>\n",
       "      <th>4</th>\n",
       "      <td>1329930</td>\n",
       "      <td>634,168.38</td>\n",
       "    </tr>\n",
       "    <tr>\n",
       "      <th>5</th>\n",
       "      <td>320276</td>\n",
       "      <td>509,549.63</td>\n",
       "    </tr>\n",
       "    <tr>\n",
       "      <th>6</th>\n",
       "      <td>498520</td>\n",
       "      <td>521,630.02</td>\n",
       "    </tr>\n",
       "    <tr>\n",
       "      <th>7</th>\n",
       "      <td>705689</td>\n",
       "      <td>524,173.26</td>\n",
       "    </tr>\n",
       "    <tr>\n",
       "      <th>8</th>\n",
       "      <td>63420</td>\n",
       "      <td>553,420.52</td>\n",
       "    </tr>\n",
       "    <tr>\n",
       "      <th>9</th>\n",
       "      <td>172899</td>\n",
       "      <td>507,006.39</td>\n",
       "    </tr>\n",
       "    <tr>\n",
       "      <th>10</th>\n",
       "      <td>365122</td>\n",
       "      <td>519,086.78</td>\n",
       "    </tr>\n",
       "    <tr>\n",
       "      <th>11</th>\n",
       "      <td>634560</td>\n",
       "      <td>716,187.87</td>\n",
       "    </tr>\n",
       "    <tr>\n",
       "      <th>12</th>\n",
       "      <td>275684</td>\n",
       "      <td>510,821.25</td>\n",
       "    </tr>\n",
       "    <tr>\n",
       "      <th>13</th>\n",
       "      <td>350027</td>\n",
       "      <td>515,907.73</td>\n",
       "    </tr>\n",
       "    <tr>\n",
       "      <th>14</th>\n",
       "      <td>433239</td>\n",
       "      <td>517,815.16</td>\n",
       "    </tr>\n",
       "    <tr>\n",
       "      <th>15</th>\n",
       "      <td>469082</td>\n",
       "      <td>526,080.69</td>\n",
       "    </tr>\n",
       "    <tr>\n",
       "      <th>16</th>\n",
       "      <td>387116</td>\n",
       "      <td>531,167.17</td>\n",
       "    </tr>\n",
       "    <tr>\n",
       "      <th>17</th>\n",
       "      <td>695302</td>\n",
       "      <td>572,494.82</td>\n",
       "    </tr>\n",
       "    <tr>\n",
       "      <th>18</th>\n",
       "      <td>230531</td>\n",
       "      <td>554,692.14</td>\n",
       "    </tr>\n",
       "    <tr>\n",
       "      <th>19</th>\n",
       "      <td>146766</td>\n",
       "      <td>509,549.63</td>\n",
       "    </tr>\n",
       "    <tr>\n",
       "      <th>20</th>\n",
       "      <td>873385</td>\n",
       "      <td>569,951.58</td>\n",
       "    </tr>\n",
       "    <tr>\n",
       "      <th>21</th>\n",
       "      <td>403764</td>\n",
       "      <td>514,636.11</td>\n",
       "    </tr>\n",
       "    <tr>\n",
       "      <th>22</th>\n",
       "      <td>510000</td>\n",
       "      <td>512,728.68</td>\n",
       "    </tr>\n",
       "    <tr>\n",
       "      <th>23</th>\n",
       "      <td>148813</td>\n",
       "      <td>513,364.49</td>\n",
       "    </tr>\n",
       "    <tr>\n",
       "      <th>24</th>\n",
       "      <td>434171</td>\n",
       "      <td>519,086.78</td>\n",
       "    </tr>\n",
       "    <tr>\n",
       "      <th>25</th>\n",
       "      <td>1611182</td>\n",
       "      <td>711,737.20</td>\n",
       "    </tr>\n",
       "    <tr>\n",
       "      <th>26</th>\n",
       "      <td>482180</td>\n",
       "      <td>517,815.16</td>\n",
       "    </tr>\n",
       "    <tr>\n",
       "      <th>27</th>\n",
       "      <td>738111</td>\n",
       "      <td>525,444.88</td>\n",
       "    </tr>\n",
       "    <tr>\n",
       "      <th>28</th>\n",
       "      <td>278051</td>\n",
       "      <td>510,821.25</td>\n",
       "    </tr>\n",
       "    <tr>\n",
       "      <th>29</th>\n",
       "      <td>372613</td>\n",
       "      <td>509,549.63</td>\n",
       "    </tr>\n",
       "  </tbody>\n",
       "</table>\n",
       "</div>"
      ],
      "text/plain": [
       "     Actual  Predicted\n",
       "0   1021209 520,358.40\n",
       "1    821100 529,259.74\n",
       "2    178665 526,080.69\n",
       "3    449000 517,179.35\n",
       "4   1329930 634,168.38\n",
       "5    320276 509,549.63\n",
       "6    498520 521,630.02\n",
       "7    705689 524,173.26\n",
       "8     63420 553,420.52\n",
       "9    172899 507,006.39\n",
       "10   365122 519,086.78\n",
       "11   634560 716,187.87\n",
       "12   275684 510,821.25\n",
       "13   350027 515,907.73\n",
       "14   433239 517,815.16\n",
       "15   469082 526,080.69\n",
       "16   387116 531,167.17\n",
       "17   695302 572,494.82\n",
       "18   230531 554,692.14\n",
       "19   146766 509,549.63\n",
       "20   873385 569,951.58\n",
       "21   403764 514,636.11\n",
       "22   510000 512,728.68\n",
       "23   148813 513,364.49\n",
       "24   434171 519,086.78\n",
       "25  1611182 711,737.20\n",
       "26   482180 517,815.16\n",
       "27   738111 525,444.88\n",
       "28   278051 510,821.25\n",
       "29   372613 509,549.63"
      ]
     },
     "execution_count": 761,
     "metadata": {},
     "output_type": "execute_result"
    }
   ],
   "source": [
    "# Create a dataframe comparing the actual and predicted values of y.\n",
    "\n",
    "data = pd.DataFrame({'Actual': y_test.flatten(), 'Predicted': y_predicted.flatten()})\n",
    "data.head(30)"
   ]
  },
  {
   "cell_type": "markdown",
   "id": "9c540dfd-a5b3-4f04-8dfe-5092119e8c42",
   "metadata": {},
   "source": [
    "### 5. Compare predicted w/ actual y values"
   ]
  },
  {
   "cell_type": "code",
   "execution_count": 769,
   "id": "5d4cad3c-c090-49e8-9142-fe10f993ab4f",
   "metadata": {
    "execution": {
     "iopub.execute_input": "2025-01-29T00:16:25.756445Z",
     "iopub.status.busy": "2025-01-29T00:16:25.755861Z",
     "iopub.status.idle": "2025-01-29T00:16:25.790225Z",
     "shell.execute_reply": "2025-01-29T00:16:25.789142Z",
     "shell.execute_reply.started": "2025-01-29T00:16:25.756423Z"
    }
   },
   "outputs": [],
   "source": [
    "# Predict.\n",
    "\n",
    "y_predicted_train = regression.predict(X_train) # This is predicting X_train!"
   ]
  },
  {
   "cell_type": "code",
   "execution_count": 773,
   "id": "cbf1afb5-655c-4280-a6ed-fb70464f8439",
   "metadata": {
    "execution": {
     "iopub.execute_input": "2025-01-29T00:16:42.792032Z",
     "iopub.status.busy": "2025-01-29T00:16:42.791485Z",
     "iopub.status.idle": "2025-01-29T00:16:42.851414Z",
     "shell.execute_reply": "2025-01-29T00:16:42.850697Z",
     "shell.execute_reply.started": "2025-01-29T00:16:42.792005Z"
    }
   },
   "outputs": [],
   "source": [
    "rmse = mean_squared_error(y_train, y_predicted_train)\n",
    "r2 = r2_score(y_train, y_predicted_train)"
   ]
  },
  {
   "cell_type": "code",
   "execution_count": 777,
   "id": "dcb92210-939e-419b-afe2-8b0534df0535",
   "metadata": {
    "execution": {
     "iopub.execute_input": "2025-01-29T00:17:01.119117Z",
     "iopub.status.busy": "2025-01-29T00:17:01.118762Z",
     "iopub.status.idle": "2025-01-29T00:17:01.139241Z",
     "shell.execute_reply": "2025-01-29T00:17:01.138404Z",
     "shell.execute_reply.started": "2025-01-29T00:17:01.119097Z"
    }
   },
   "outputs": [
    {
     "name": "stdout",
     "output_type": "stream",
     "text": [
      "Slope: [[63580.99663623]]\n",
      "Mean squared error:  90043291954.08092\n",
      "R2 score:  0.059462624380393736\n"
     ]
    }
   ],
   "source": [
    "print('Slope:' ,regression.coef_)\n",
    "print('Mean squared error: ', rmse)\n",
    "print('R2 score: ', r2)"
   ]
  },
  {
   "cell_type": "code",
   "execution_count": 784,
   "id": "1a91263c-4f6f-47b3-9f3c-19754943a3d5",
   "metadata": {
    "execution": {
     "iopub.execute_input": "2025-01-29T00:18:24.481927Z",
     "iopub.status.busy": "2025-01-29T00:18:24.481247Z",
     "iopub.status.idle": "2025-01-29T00:18:24.939085Z",
     "shell.execute_reply": "2025-01-29T00:18:24.938232Z",
     "shell.execute_reply.started": "2025-01-29T00:18:24.481893Z"
    }
   },
   "outputs": [
    {
     "data": {
      "image/png": "[encoded data removed]",
      "text/plain": [
       "<Figure size 640x480 with 1 Axes>"
      ]
     },
     "metadata": {},
     "output_type": "display_data"
    }
   ],
   "source": [
    "# Visualizing the training set results.\n",
    "\n",
    "plot_test = plt\n",
    "plot_test.scatter(X_train, y_train, color='green', s = 15)\n",
    "plot_test.plot(X_train, y_predicted_train, color='red', linewidth =3)\n",
    "plot_test.title('Acreage Size vs Est. Property Value (Train set)')\n",
    "plot_test.xlabel('Acreage on Deed')\n",
    "plot_test.ylabel('Est. Property Value (million)')\n",
    "plot_test.show()"
   ]
  },
  {
   "cell_type": "markdown",
   "id": "03279153-709c-4723-8971-250c72aa38d1",
   "metadata": {
    "execution": {
     "iopub.execute_input": "2025-01-29T00:36:46.230293Z",
     "iopub.status.busy": "2025-01-29T00:36:46.229592Z",
     "iopub.status.idle": "2025-01-29T00:36:46.243721Z",
     "shell.execute_reply": "2025-01-29T00:36:46.242914Z",
     "shell.execute_reply.started": "2025-01-29T00:36:46.230260Z"
    }
   },
   "source": [
    "#### Model Performance Notes:\n",
    "\n",
    "1. Slope:\n",
    "   - Both test and train sets have the same slope: 63580.99663623\n",
    "   - This indicates consistency in the relationship between the independent and dependent variables across both sets.\n",
    "\n",
    "2. R-squared (R2) score:\n",
    "   - Test set: 0.0588 (5.88%)\n",
    "   - Train set: 0.0595 (5.95%)\n",
    "   - These low R2 values suggest that the model explains only about 6% of the variability in the data, which is quite low (on a scale from 0 - 1; 1 being a perfect fit).\n",
    "\n",
    "3. Mean Squared Error (MSE):\n",
    "   - Test set: 88,578,293,796\n",
    "   - Train set: 90,043,291,954\n",
    "   - The MSE values are quite large, indicating significant prediction errors."
   ]
  },
  {
   "cell_type": "markdown",
   "id": "c06f25c5-8215-4c02-ba78-0f58bc237985",
   "metadata": {},
   "source": [
    "##### Potential Issues:\r\n",
    "- Non-linear relationship: the data might have a non-linear relationship that a linear model can't capture.\r\n",
    "- Missing variables: There might be other factors influencing the dependent variable that aren't included in the model (e.g. mobile home where price of land isn't accounted for or perhaps other factors such as the types of residential land classes grouped together within the \"residential\" group).\r\n",
    "- Outliers or high variability: the data contains outliers that's already known (missing acreage, $1 property value, etc) that is not helping with this low model performance."
   ]
  },
  {
   "cell_type": "markdown",
   "id": "0585e68e-dd8e-40bd-a71c-6c6cc5357210",
   "metadata": {},
   "source": [
    "- Explore your data visually to understand the relationship between variables.\r\n",
    "- Consider non-linear models or adding polynomial terms.\r\n",
    "- Look for other relevant features that could improve the model.\r\n",
    "- Check for and possibly remove outliers.\r\n",
    "\r\n",
    "Bottom line is that only 6% R2 is a poor indication of a correlation and does not support the hypothesis with the variables in their current state."
   ]
  },
  {
   "cell_type": "markdown",
   "id": "45b596b3-0827-4959-a919-771b79b44504",
   "metadata": {
    "jp-MarkdownHeadingCollapsed": true
   },
   "source": [
    "# 08. Export Datasets"
   ]
  },
  {
   "cell_type": "code",
   "execution_count": 805,
   "id": "3112974d-a422-454c-ad5b-9100c761494e",
   "metadata": {
    "execution": {
     "iopub.execute_input": "2025-01-29T00:44:24.926275Z",
     "iopub.status.busy": "2025-01-29T00:44:24.925901Z",
     "iopub.status.idle": "2025-01-29T00:44:27.348474Z",
     "shell.execute_reply": "2025-01-29T00:44:27.347451Z",
     "shell.execute_reply.started": "2025-01-29T00:44:24.926256Z"
    }
   },
   "outputs": [],
   "source": [
    "#### Export cleaned df_2 data into the Prepared Data folder\n",
    "\n",
    "df_2.to_parquet(os.path.join(path, '01 Datasets','02 Prepared Data', 'cary_grouped.parquet'), compression = 'snappy')"
   ]
  }
 ],
 "metadata": {
  "kernelspec": {
   "display_name": "anaconda-2024.02-py310",
   "language": "python",
   "name": "conda-env-anaconda-2024.02-py310-py"
  },
  "language_info": {
   "codemirror_mode": {
    "name": "ipython",
    "version": 3
   },
   "file_extension": ".py",
   "mimetype": "text/x-python",
   "name": "python",
   "nbconvert_exporter": "python",
   "pygments_lexer": "ipython3",
   "version": "3.10.14"
  }
 },
 "nbformat": 4,
 "nbformat_minor": 5
}
