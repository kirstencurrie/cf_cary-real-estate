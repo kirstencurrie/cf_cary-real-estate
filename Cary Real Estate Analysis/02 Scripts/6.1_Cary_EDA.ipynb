{
 "cells": [
  {
   "cell_type": "markdown",
   "id": "77f2c674-bb55-4f90-9fbe-d71da6e818b5",
   "metadata": {},
   "source": [
    "# 6.1 Cary Exploratory Analysis"
   ]
  },
  {
   "cell_type": "markdown",
   "id": "0d94a751-58d5-4a1e-aa88-d92e4db9ea46",
   "metadata": {},
   "source": [
    "## Contents:\n",
    "\n",
    "01. Install Libraries\n",
    "02. Import Libraries\n",
    "03. Import Datasets\n",
    "04. Explore Data\n",
    "    - Explores various columns within the dataset\n",
    "05. Clean Data\n",
    "    - Drops unnecessary columns\n",
    "    - Drops rows null for 'location' column\n",
    "    - Converts various column types such as time columns or incorrect floats\n",
    "    - Normalizes capitalization\n",
    "06. Export Cleaned Data"
   ]
  },
  {
   "cell_type": "markdown",
   "id": "6dd8a2c7-c486-4dea-91c9-b6bef3665b0d",
   "metadata": {
    "jp-MarkdownHeadingCollapsed": true
   },
   "source": [
    "# 01. Install Libraries"
   ]
  },
  {
   "cell_type": "code",
   "execution_count": 128,
   "id": "98f1e961-b353-4295-a072-f1af6f5686a2",
   "metadata": {
    "execution": {
     "iopub.execute_input": "2025-01-25T23:35:15.989471Z",
     "iopub.status.busy": "2025-01-25T23:35:15.989002Z",
     "iopub.status.idle": "2025-01-25T23:35:16.008294Z",
     "shell.execute_reply": "2025-01-25T23:35:16.007392Z",
     "shell.execute_reply.started": "2025-01-25T23:35:15.989450Z"
    }
   },
   "outputs": [
    {
     "ename": "SyntaxError",
     "evalue": "invalid syntax (1909072461.py, line 3)",
     "output_type": "error",
     "traceback": [
      "\u001b[0;36m  Cell \u001b[0;32mIn[128], line 3\u001b[0;36m\u001b[0m\n\u001b[0;31m    pip install geopandas\u001b[0m\n\u001b[0m        ^\u001b[0m\n\u001b[0;31mSyntaxError\u001b[0m\u001b[0;31m:\u001b[0m invalid syntax\n"
     ]
    }
   ],
   "source": [
    "# Install geopandas\n",
    "\n",
    "pip install geopandas"
   ]
  },
  {
   "cell_type": "markdown",
   "id": "aca32110-94b0-4f5f-87a5-5e39ab459ffc",
   "metadata": {
    "jp-MarkdownHeadingCollapsed": true
   },
   "source": [
    "# 02. Import Libraries"
   ]
  },
  {
   "cell_type": "code",
   "execution_count": 131,
   "id": "485e519f-f051-4a90-9964-11d949a89e4d",
   "metadata": {
    "execution": {
     "iopub.execute_input": "2025-01-25T23:35:22.176574Z",
     "iopub.status.busy": "2025-01-25T23:35:22.176115Z",
     "iopub.status.idle": "2025-01-25T23:35:26.030757Z",
     "shell.execute_reply": "2025-01-25T23:35:26.030176Z",
     "shell.execute_reply.started": "2025-01-25T23:35:22.176552Z"
    }
   },
   "outputs": [],
   "source": [
    "import pandas as pd\n",
    "import numpy as npa\n",
    "import geopandas as gpd\n",
    "from shapely import wkb\n",
    "import matplotlib.pyplot as plt"
   ]
  },
  {
   "cell_type": "code",
   "execution_count": 134,
   "id": "555afdd4-8183-4e25-821c-950c640f4153",
   "metadata": {
    "execution": {
     "iopub.execute_input": "2025-01-25T23:35:31.549552Z",
     "iopub.status.busy": "2025-01-25T23:35:31.549205Z",
     "iopub.status.idle": "2025-01-25T23:35:31.566095Z",
     "shell.execute_reply": "2025-01-25T23:35:31.565466Z",
     "shell.execute_reply.started": "2025-01-25T23:35:31.549529Z"
    }
   },
   "outputs": [
    {
     "name": "stdout",
     "output_type": "stream",
     "text": [
      "2.1.4\n",
      "1.26.4\n",
      "1.0.1\n"
     ]
    }
   ],
   "source": [
    "# Confirming that pandas & numpy were imported by printing versions\n",
    "\n",
    "print(pd.__version__)\n",
    "print(npa.__version__)\n",
    "print(gpd.__version__)"
   ]
  },
  {
   "cell_type": "markdown",
   "id": "7aaf7087-d73e-436d-b3c4-15762c814a3c",
   "metadata": {
    "jp-MarkdownHeadingCollapsed": true
   },
   "source": [
    "# 03. Import Datasets"
   ]
  },
  {
   "cell_type": "code",
   "execution_count": 137,
   "id": "c29874e1-3c5b-4f63-a571-28a385a573a8",
   "metadata": {
    "execution": {
     "iopub.execute_input": "2025-01-25T23:35:35.329334Z",
     "iopub.status.busy": "2025-01-25T23:35:35.328938Z",
     "iopub.status.idle": "2025-01-25T23:35:35.346783Z",
     "shell.execute_reply": "2025-01-25T23:35:35.346089Z",
     "shell.execute_reply.started": "2025-01-25T23:35:35.329314Z"
    }
   },
   "outputs": [],
   "source": [
    "# Defines path as intro file path for Cary Real Estate project\n",
    "\n",
    "path = r'/home/0668a905-109d-4403-be59-0a04abf51dd9/Cary Real Estate Analysis'"
   ]
  },
  {
   "cell_type": "code",
   "execution_count": 140,
   "id": "f574f28e-c638-4271-be93-ced3c738b509",
   "metadata": {
    "execution": {
     "iopub.execute_input": "2025-01-25T23:35:37.821537Z",
     "iopub.status.busy": "2025-01-25T23:35:37.821136Z",
     "iopub.status.idle": "2025-01-25T23:35:39.872878Z",
     "shell.execute_reply": "2025-01-25T23:35:39.871954Z",
     "shell.execute_reply.started": "2025-01-25T23:35:37.821516Z"
    }
   },
   "outputs": [],
   "source": [
    "# Imports original dataset\n",
    "\n",
    "df = pd.read_parquet(os.path.join(path, '01 Datasets', '01 Original Data', 'property.parquet'))"
   ]
  },
  {
   "cell_type": "code",
   "execution_count": 143,
   "id": "7c261a32-e902-4a80-9d1a-9e1401a3ab76",
   "metadata": {
    "execution": {
     "iopub.execute_input": "2025-01-25T23:35:44.035436Z",
     "iopub.status.busy": "2025-01-25T23:35:44.034790Z",
     "iopub.status.idle": "2025-01-25T23:35:44.053482Z",
     "shell.execute_reply": "2025-01-25T23:35:44.052747Z",
     "shell.execute_reply.started": "2025-01-25T23:35:44.035413Z"
    }
   },
   "outputs": [],
   "source": [
    "# Set the display option to show all columns\n",
    "\n",
    "pd.set_option('display.max_columns', None)"
   ]
  },
  {
   "cell_type": "markdown",
   "id": "3dadf4e9-dd90-4351-be7b-a59cd74e0e96",
   "metadata": {
    "jp-MarkdownHeadingCollapsed": true
   },
   "source": [
    "# 04. Explore Data"
   ]
  },
  {
   "cell_type": "code",
   "execution_count": 146,
   "id": "a5cf614c-776a-4c73-a0b8-495de0f387a6",
   "metadata": {
    "execution": {
     "iopub.execute_input": "2025-01-25T23:35:46.400559Z",
     "iopub.status.busy": "2025-01-25T23:35:46.400083Z",
     "iopub.status.idle": "2025-01-25T23:35:46.483082Z",
     "shell.execute_reply": "2025-01-25T23:35:46.482210Z",
     "shell.execute_reply.started": "2025-01-25T23:35:46.400534Z"
    }
   },
   "outputs": [
    {
     "data": {
      "text/html": [
       "<div>\n",
       "<style scoped>\n",
       "    .dataframe tbody tr th:only-of-type {\n",
       "        vertical-align: middle;\n",
       "    }\n",
       "\n",
       "    .dataframe tbody tr th {\n",
       "        vertical-align: top;\n",
       "    }\n",
       "\n",
       "    .dataframe thead th {\n",
       "        text-align: right;\n",
       "    }\n",
       "</style>\n",
       "<table border=\"1\" class=\"dataframe\">\n",
       "  <thead>\n",
       "    <tr style=\"text-align: right;\">\n",
       "      <th></th>\n",
       "      <th>pin</th>\n",
       "      <th>pin10</th>\n",
       "      <th>realid</th>\n",
       "      <th>owner</th>\n",
       "      <th>owner2</th>\n",
       "      <th>owneradd1</th>\n",
       "      <th>owneradd2</th>\n",
       "      <th>owneradd3</th>\n",
       "      <th>location</th>\n",
       "      <th>calcacreage</th>\n",
       "      <th>deedacres</th>\n",
       "      <th>streetnumber</th>\n",
       "      <th>streetmisc</th>\n",
       "      <th>streetprefix</th>\n",
       "      <th>streetname</th>\n",
       "      <th>streettype</th>\n",
       "      <th>streetsuffix</th>\n",
       "      <th>landclass</th>\n",
       "      <th>lclass</th>\n",
       "      <th>totalstructures</th>\n",
       "      <th>totalunits</th>\n",
       "      <th>propertydesc</th>\n",
       "      <th>bldgvalue</th>\n",
       "      <th>landvalue</th>\n",
       "      <th>landsalevalue</th>\n",
       "      <th>landsaledate</th>\n",
       "      <th>totalsalevalue</th>\n",
       "      <th>totalsaledate</th>\n",
       "      <th>deedbook</th>\n",
       "      <th>deedpage</th>\n",
       "      <th>wc_city</th>\n",
       "      <th>cary_city</th>\n",
       "      <th>wc_etj</th>\n",
       "      <th>township</th>\n",
       "      <th>apaownership</th>\n",
       "      <th>apaactivity</th>\n",
       "      <th>apafunction</th>\n",
       "      <th>apastructure</th>\n",
       "      <th>apasite</th>\n",
       "      <th>wc_zoning</th>\n",
       "      <th>billingclass</th>\n",
       "      <th>apaownershipdesc</th>\n",
       "      <th>apaactivitydesc</th>\n",
       "      <th>apafunctiondesc</th>\n",
       "      <th>apastructuredesc</th>\n",
       "      <th>apasitedesc</th>\n",
       "      <th>county</th>\n",
       "      <th>totalbldgsqft</th>\n",
       "      <th>typeanduse</th>\n",
       "      <th>typedecode</th>\n",
       "      <th>phycity</th>\n",
       "      <th>phyzip</th>\n",
       "      <th>utilities</th>\n",
       "      <th>ownerwholename</th>\n",
       "      <th>reallink</th>\n",
       "      <th>deedlink</th>\n",
       "      <th>shape_starea</th>\n",
       "      <th>shape_stlength</th>\n",
       "      <th>yearbuilt</th>\n",
       "      <th>chathamaddress</th>\n",
       "      <th>geo_shape</th>\n",
       "      <th>geo_point_2d</th>\n",
       "    </tr>\n",
       "  </thead>\n",
       "  <tbody>\n",
       "    <tr>\n",
       "      <th>0</th>\n",
       "      <td>None</td>\n",
       "      <td>0729574551</td>\n",
       "      <td>94866</td>\n",
       "      <td>None</td>\n",
       "      <td>None</td>\n",
       "      <td>38 SAINT PAUL AVE</td>\n",
       "      <td>None</td>\n",
       "      <td>None</td>\n",
       "      <td>613 HANSON RD</td>\n",
       "      <td>0.15</td>\n",
       "      <td>0.15</td>\n",
       "      <td>613.0</td>\n",
       "      <td>None</td>\n",
       "      <td>None</td>\n",
       "      <td>HANSON</td>\n",
       "      <td>RD</td>\n",
       "      <td>None</td>\n",
       "      <td>RES  1 FAMILY</td>\n",
       "      <td>None</td>\n",
       "      <td>NaN</td>\n",
       "      <td>NaN</td>\n",
       "      <td>BAY POINTE/PH:03/LT#099 PL000161-000365</td>\n",
       "      <td>195234.0</td>\n",
       "      <td>40180.0</td>\n",
       "      <td>40180.0</td>\n",
       "      <td>None</td>\n",
       "      <td>235414.0</td>\n",
       "      <td>2017-10-27</td>\n",
       "      <td>008297</td>\n",
       "      <td>00762</td>\n",
       "      <td>None</td>\n",
       "      <td>None</td>\n",
       "      <td>None</td>\n",
       "      <td>NONE</td>\n",
       "      <td>NaN</td>\n",
       "      <td>NaN</td>\n",
       "      <td>NaN</td>\n",
       "      <td>NaN</td>\n",
       "      <td>NaN</td>\n",
       "      <td>None</td>\n",
       "      <td>None</td>\n",
       "      <td>None</td>\n",
       "      <td>None</td>\n",
       "      <td>None</td>\n",
       "      <td>None</td>\n",
       "      <td>None</td>\n",
       "      <td>Durham</td>\n",
       "      <td>2080.0</td>\n",
       "      <td>None</td>\n",
       "      <td>None</td>\n",
       "      <td>DURHAM</td>\n",
       "      <td>27713.0</td>\n",
       "      <td>None</td>\n",
       "      <td>None</td>\n",
       "      <td>https://taxcama.dconc.gov/camapwa/PropertySumm...</td>\n",
       "      <td>https://rodweb.dconc.gov/web/user/disclaimer</td>\n",
       "      <td>6451.097435</td>\n",
       "      <td>336.681551</td>\n",
       "      <td>None</td>\n",
       "      <td>None</td>\n",
       "      <td>b'\\x01\\x03\\x00\\x00\\x00\\x01\\x00\\x00\\x00\\x05\\x00...</td>\n",
       "      <td>b'\\x01\\x01\\x00\\x00\\x00;\\x87\\xfc\\xe6~\\xbaS\\xc09...</td>\n",
       "    </tr>\n",
       "    <tr>\n",
       "      <th>1</th>\n",
       "      <td>None</td>\n",
       "      <td>0729576438</td>\n",
       "      <td>94863</td>\n",
       "      <td>None</td>\n",
       "      <td>None</td>\n",
       "      <td>2908 LONDON BELL DR</td>\n",
       "      <td>None</td>\n",
       "      <td>None</td>\n",
       "      <td>619 HANSON RD</td>\n",
       "      <td>0.16</td>\n",
       "      <td>0.16</td>\n",
       "      <td>619.0</td>\n",
       "      <td>None</td>\n",
       "      <td>None</td>\n",
       "      <td>HANSON</td>\n",
       "      <td>RD</td>\n",
       "      <td>None</td>\n",
       "      <td>RES  1 FAMILY</td>\n",
       "      <td>None</td>\n",
       "      <td>NaN</td>\n",
       "      <td>NaN</td>\n",
       "      <td>BAY POINTE/PH:03/LT#096 PL000161-000365</td>\n",
       "      <td>179487.0</td>\n",
       "      <td>40705.0</td>\n",
       "      <td>40705.0</td>\n",
       "      <td>None</td>\n",
       "      <td>220192.0</td>\n",
       "      <td>2023-12-05</td>\n",
       "      <td>010023</td>\n",
       "      <td>00570</td>\n",
       "      <td>None</td>\n",
       "      <td>None</td>\n",
       "      <td>None</td>\n",
       "      <td>NONE</td>\n",
       "      <td>NaN</td>\n",
       "      <td>NaN</td>\n",
       "      <td>NaN</td>\n",
       "      <td>NaN</td>\n",
       "      <td>NaN</td>\n",
       "      <td>None</td>\n",
       "      <td>None</td>\n",
       "      <td>None</td>\n",
       "      <td>None</td>\n",
       "      <td>None</td>\n",
       "      <td>None</td>\n",
       "      <td>None</td>\n",
       "      <td>Durham</td>\n",
       "      <td>1906.0</td>\n",
       "      <td>None</td>\n",
       "      <td>None</td>\n",
       "      <td>DURHAM</td>\n",
       "      <td>27713.0</td>\n",
       "      <td>None</td>\n",
       "      <td>None</td>\n",
       "      <td>https://taxcama.dconc.gov/camapwa/PropertySumm...</td>\n",
       "      <td>https://rodweb.dconc.gov/web/user/disclaimer</td>\n",
       "      <td>7096.203754</td>\n",
       "      <td>354.824260</td>\n",
       "      <td>None</td>\n",
       "      <td>None</td>\n",
       "      <td>b'\\x01\\x03\\x00\\x00\\x00\\x01\\x00\\x00\\x00\\x07\\x00...</td>\n",
       "      <td>b'\\x01\\x01\\x00\\x00\\x00\\xa3U\\xce\\xfat\\xbaS\\xc0\\...</td>\n",
       "    </tr>\n",
       "    <tr>\n",
       "      <th>2</th>\n",
       "      <td>None</td>\n",
       "      <td>0717996109</td>\n",
       "      <td>94079</td>\n",
       "      <td>None</td>\n",
       "      <td>None</td>\n",
       "      <td>1411 CARRICKFERGUS CT</td>\n",
       "      <td>None</td>\n",
       "      <td>None</td>\n",
       "      <td>1411 CARRICKFERGUS CT</td>\n",
       "      <td>0.22</td>\n",
       "      <td>0.22</td>\n",
       "      <td>1411.0</td>\n",
       "      <td>None</td>\n",
       "      <td>None</td>\n",
       "      <td>CARRICKFERGUS</td>\n",
       "      <td>CT</td>\n",
       "      <td>None</td>\n",
       "      <td>RES  1 FAMILY</td>\n",
       "      <td>None</td>\n",
       "      <td>NaN</td>\n",
       "      <td>NaN</td>\n",
       "      <td>OAKHAVEN/LT#15 PL000161-000075</td>\n",
       "      <td>275711.0</td>\n",
       "      <td>75937.0</td>\n",
       "      <td>75937.0</td>\n",
       "      <td>None</td>\n",
       "      <td>351648.0</td>\n",
       "      <td>None</td>\n",
       "      <td>004939</td>\n",
       "      <td>00353</td>\n",
       "      <td>None</td>\n",
       "      <td>None</td>\n",
       "      <td>None</td>\n",
       "      <td>NONE</td>\n",
       "      <td>NaN</td>\n",
       "      <td>NaN</td>\n",
       "      <td>NaN</td>\n",
       "      <td>NaN</td>\n",
       "      <td>NaN</td>\n",
       "      <td>None</td>\n",
       "      <td>None</td>\n",
       "      <td>None</td>\n",
       "      <td>None</td>\n",
       "      <td>None</td>\n",
       "      <td>None</td>\n",
       "      <td>None</td>\n",
       "      <td>Durham</td>\n",
       "      <td>3200.0</td>\n",
       "      <td>None</td>\n",
       "      <td>None</td>\n",
       "      <td>DURHAM</td>\n",
       "      <td>27713.0</td>\n",
       "      <td>None</td>\n",
       "      <td>None</td>\n",
       "      <td>https://taxcama.dconc.gov/camapwa/PropertySumm...</td>\n",
       "      <td>https://rodweb.dconc.gov/web/user/disclaimer</td>\n",
       "      <td>9361.373133</td>\n",
       "      <td>405.469398</td>\n",
       "      <td>None</td>\n",
       "      <td>None</td>\n",
       "      <td>b'\\x01\\x03\\x00\\x00\\x00\\x01\\x00\\x00\\x00\\x1d\\x00...</td>\n",
       "      <td>b'\\x01\\x01\\x00\\x00\\x00\\xdf\\\\\\xfe\\x8d\\xc3\\xbbS\\...</td>\n",
       "    </tr>\n",
       "    <tr>\n",
       "      <th>3</th>\n",
       "      <td>None</td>\n",
       "      <td>0729577019</td>\n",
       "      <td>94847</td>\n",
       "      <td>None</td>\n",
       "      <td>None</td>\n",
       "      <td>4532 SHADY SIDE LN</td>\n",
       "      <td>None</td>\n",
       "      <td>None</td>\n",
       "      <td>4532 SHADY SIDE LN</td>\n",
       "      <td>0.13</td>\n",
       "      <td>0.13</td>\n",
       "      <td>4532.0</td>\n",
       "      <td>None</td>\n",
       "      <td>None</td>\n",
       "      <td>SHADY SIDE</td>\n",
       "      <td>LN</td>\n",
       "      <td>None</td>\n",
       "      <td>RES  1 FAMILY</td>\n",
       "      <td>None</td>\n",
       "      <td>NaN</td>\n",
       "      <td>NaN</td>\n",
       "      <td>BAY POINTE/PH:03/LT#069 PL000161-000365</td>\n",
       "      <td>203620.0</td>\n",
       "      <td>39480.0</td>\n",
       "      <td>39480.0</td>\n",
       "      <td>None</td>\n",
       "      <td>243100.0</td>\n",
       "      <td>None</td>\n",
       "      <td>006115</td>\n",
       "      <td>00981</td>\n",
       "      <td>None</td>\n",
       "      <td>None</td>\n",
       "      <td>None</td>\n",
       "      <td>NONE</td>\n",
       "      <td>NaN</td>\n",
       "      <td>NaN</td>\n",
       "      <td>NaN</td>\n",
       "      <td>NaN</td>\n",
       "      <td>NaN</td>\n",
       "      <td>None</td>\n",
       "      <td>None</td>\n",
       "      <td>None</td>\n",
       "      <td>None</td>\n",
       "      <td>None</td>\n",
       "      <td>None</td>\n",
       "      <td>None</td>\n",
       "      <td>Durham</td>\n",
       "      <td>2308.0</td>\n",
       "      <td>None</td>\n",
       "      <td>None</td>\n",
       "      <td>DURHAM</td>\n",
       "      <td>27713.0</td>\n",
       "      <td>None</td>\n",
       "      <td>None</td>\n",
       "      <td>https://taxcama.dconc.gov/camapwa/PropertySumm...</td>\n",
       "      <td>https://rodweb.dconc.gov/web/user/disclaimer</td>\n",
       "      <td>5588.978748</td>\n",
       "      <td>310.423891</td>\n",
       "      <td>None</td>\n",
       "      <td>None</td>\n",
       "      <td>b'\\x01\\x03\\x00\\x00\\x00\\x01\\x00\\x00\\x00\\x07\\x00...</td>\n",
       "      <td>b'\\x01\\x01\\x00\\x00\\x00\\x036\\xbd\\x00q\\xbaS\\xc0\\...</td>\n",
       "    </tr>\n",
       "    <tr>\n",
       "      <th>4</th>\n",
       "      <td>None</td>\n",
       "      <td>0739031025</td>\n",
       "      <td>95258</td>\n",
       "      <td>None</td>\n",
       "      <td>None</td>\n",
       "      <td>3608 RAMBIR DR</td>\n",
       "      <td>None</td>\n",
       "      <td>None</td>\n",
       "      <td>3608 RANBIR DR</td>\n",
       "      <td>0.28</td>\n",
       "      <td>0.28</td>\n",
       "      <td>3608.0</td>\n",
       "      <td>None</td>\n",
       "      <td>None</td>\n",
       "      <td>RANBIR</td>\n",
       "      <td>DR</td>\n",
       "      <td>None</td>\n",
       "      <td>RES  1 FAMILY</td>\n",
       "      <td>None</td>\n",
       "      <td>NaN</td>\n",
       "      <td>NaN</td>\n",
       "      <td>LOCHSIDE/PH:01/LT#105 PL000165-000308</td>\n",
       "      <td>163464.0</td>\n",
       "      <td>57600.0</td>\n",
       "      <td>57600.0</td>\n",
       "      <td>None</td>\n",
       "      <td>221064.0</td>\n",
       "      <td>2013-06-27</td>\n",
       "      <td>007301</td>\n",
       "      <td>00787</td>\n",
       "      <td>None</td>\n",
       "      <td>None</td>\n",
       "      <td>None</td>\n",
       "      <td>NONE</td>\n",
       "      <td>NaN</td>\n",
       "      <td>NaN</td>\n",
       "      <td>NaN</td>\n",
       "      <td>NaN</td>\n",
       "      <td>NaN</td>\n",
       "      <td>None</td>\n",
       "      <td>None</td>\n",
       "      <td>None</td>\n",
       "      <td>None</td>\n",
       "      <td>None</td>\n",
       "      <td>None</td>\n",
       "      <td>None</td>\n",
       "      <td>Durham</td>\n",
       "      <td>1567.0</td>\n",
       "      <td>None</td>\n",
       "      <td>None</td>\n",
       "      <td>DURHAM</td>\n",
       "      <td>27713.0</td>\n",
       "      <td>None</td>\n",
       "      <td>None</td>\n",
       "      <td>https://taxcama.dconc.gov/camapwa/PropertySumm...</td>\n",
       "      <td>https://rodweb.dconc.gov/web/user/disclaimer</td>\n",
       "      <td>12205.491128</td>\n",
       "      <td>453.505217</td>\n",
       "      <td>None</td>\n",
       "      <td>None</td>\n",
       "      <td>b'\\x01\\x03\\x00\\x00\\x00\\x01\\x00\\x00\\x00\\x07\\x00...</td>\n",
       "      <td>b'\\x01\\x01\\x00\\x00\\x00d\\xc3\\x03\\x0f}\\xb9S\\xc0\\...</td>\n",
       "    </tr>\n",
       "    <tr>\n",
       "      <th>...</th>\n",
       "      <td>...</td>\n",
       "      <td>...</td>\n",
       "      <td>...</td>\n",
       "      <td>...</td>\n",
       "      <td>...</td>\n",
       "      <td>...</td>\n",
       "      <td>...</td>\n",
       "      <td>...</td>\n",
       "      <td>...</td>\n",
       "      <td>...</td>\n",
       "      <td>...</td>\n",
       "      <td>...</td>\n",
       "      <td>...</td>\n",
       "      <td>...</td>\n",
       "      <td>...</td>\n",
       "      <td>...</td>\n",
       "      <td>...</td>\n",
       "      <td>...</td>\n",
       "      <td>...</td>\n",
       "      <td>...</td>\n",
       "      <td>...</td>\n",
       "      <td>...</td>\n",
       "      <td>...</td>\n",
       "      <td>...</td>\n",
       "      <td>...</td>\n",
       "      <td>...</td>\n",
       "      <td>...</td>\n",
       "      <td>...</td>\n",
       "      <td>...</td>\n",
       "      <td>...</td>\n",
       "      <td>...</td>\n",
       "      <td>...</td>\n",
       "      <td>...</td>\n",
       "      <td>...</td>\n",
       "      <td>...</td>\n",
       "      <td>...</td>\n",
       "      <td>...</td>\n",
       "      <td>...</td>\n",
       "      <td>...</td>\n",
       "      <td>...</td>\n",
       "      <td>...</td>\n",
       "      <td>...</td>\n",
       "      <td>...</td>\n",
       "      <td>...</td>\n",
       "      <td>...</td>\n",
       "      <td>...</td>\n",
       "      <td>...</td>\n",
       "      <td>...</td>\n",
       "      <td>...</td>\n",
       "      <td>...</td>\n",
       "      <td>...</td>\n",
       "      <td>...</td>\n",
       "      <td>...</td>\n",
       "      <td>...</td>\n",
       "      <td>...</td>\n",
       "      <td>...</td>\n",
       "      <td>...</td>\n",
       "      <td>...</td>\n",
       "      <td>...</td>\n",
       "      <td>...</td>\n",
       "      <td>...</td>\n",
       "      <td>...</td>\n",
       "    </tr>\n",
       "    <tr>\n",
       "      <th>294511</th>\n",
       "      <td>None</td>\n",
       "      <td>0820981446</td>\n",
       "      <td>125740</td>\n",
       "      <td>None</td>\n",
       "      <td>None</td>\n",
       "      <td>141 COFIELD CIRCLE</td>\n",
       "      <td>None</td>\n",
       "      <td>None</td>\n",
       "      <td>419 CECIL ST</td>\n",
       "      <td>0.09</td>\n",
       "      <td>0.09</td>\n",
       "      <td>419.0</td>\n",
       "      <td>None</td>\n",
       "      <td>None</td>\n",
       "      <td>CECIL</td>\n",
       "      <td>ST</td>\n",
       "      <td>None</td>\n",
       "      <td>RES  1 FAMILY</td>\n",
       "      <td>None</td>\n",
       "      <td>NaN</td>\n",
       "      <td>NaN</td>\n",
       "      <td>PROP-PROPERTIES4U LLC/TR# 03 PL000206-000025</td>\n",
       "      <td>133615.0</td>\n",
       "      <td>27250.0</td>\n",
       "      <td>27250.0</td>\n",
       "      <td>None</td>\n",
       "      <td>160865.0</td>\n",
       "      <td>2023-06-09</td>\n",
       "      <td>009932</td>\n",
       "      <td>00225</td>\n",
       "      <td>None</td>\n",
       "      <td>None</td>\n",
       "      <td>None</td>\n",
       "      <td>NONE</td>\n",
       "      <td>NaN</td>\n",
       "      <td>NaN</td>\n",
       "      <td>NaN</td>\n",
       "      <td>NaN</td>\n",
       "      <td>NaN</td>\n",
       "      <td>None</td>\n",
       "      <td>None</td>\n",
       "      <td>None</td>\n",
       "      <td>None</td>\n",
       "      <td>None</td>\n",
       "      <td>None</td>\n",
       "      <td>None</td>\n",
       "      <td>Durham</td>\n",
       "      <td>1184.0</td>\n",
       "      <td>None</td>\n",
       "      <td>None</td>\n",
       "      <td>DURHAM</td>\n",
       "      <td>27707.0</td>\n",
       "      <td>None</td>\n",
       "      <td>None</td>\n",
       "      <td>https://taxcama.dconc.gov/camapwa/PropertySumm...</td>\n",
       "      <td>https://rodweb.dconc.gov/web/user/disclaimer</td>\n",
       "      <td>3917.013134</td>\n",
       "      <td>282.904290</td>\n",
       "      <td>None</td>\n",
       "      <td>None</td>\n",
       "      <td>b'\\x01\\x03\\x00\\x00\\x00\\x01\\x00\\x00\\x00\\x0f\\x00...</td>\n",
       "      <td>b'\\x01\\x01\\x00\\x00\\x00\\x84\\xe9\\xd0\"\\xb2\\xb9S\\x...</td>\n",
       "    </tr>\n",
       "    <tr>\n",
       "      <th>294512</th>\n",
       "      <td>None</td>\n",
       "      <td>0769825914</td>\n",
       "      <td>125555</td>\n",
       "      <td>None</td>\n",
       "      <td>None</td>\n",
       "      <td>1511 SUNDAY DR STE 100</td>\n",
       "      <td>None</td>\n",
       "      <td>None</td>\n",
       "      <td>7110 CRESTED IRIS PL</td>\n",
       "      <td>0.52</td>\n",
       "      <td>0.52</td>\n",
       "      <td>7110.0</td>\n",
       "      <td>None</td>\n",
       "      <td>None</td>\n",
       "      <td>CRESTED IRIS</td>\n",
       "      <td>PL</td>\n",
       "      <td>None</td>\n",
       "      <td>UNK LEASEHOLD CONDO</td>\n",
       "      <td>None</td>\n",
       "      <td>NaN</td>\n",
       "      <td>NaN</td>\n",
       "      <td>SYKES PROPERTY/PH:02&amp;03/O S#01 PL000206-000038</td>\n",
       "      <td>0.0</td>\n",
       "      <td>143262.0</td>\n",
       "      <td>143262.0</td>\n",
       "      <td>None</td>\n",
       "      <td>143262.0</td>\n",
       "      <td>None</td>\n",
       "      <td>009282</td>\n",
       "      <td>00045</td>\n",
       "      <td>None</td>\n",
       "      <td>None</td>\n",
       "      <td>None</td>\n",
       "      <td>NONE</td>\n",
       "      <td>NaN</td>\n",
       "      <td>NaN</td>\n",
       "      <td>NaN</td>\n",
       "      <td>NaN</td>\n",
       "      <td>NaN</td>\n",
       "      <td>None</td>\n",
       "      <td>None</td>\n",
       "      <td>None</td>\n",
       "      <td>None</td>\n",
       "      <td>None</td>\n",
       "      <td>None</td>\n",
       "      <td>None</td>\n",
       "      <td>Durham</td>\n",
       "      <td>NaN</td>\n",
       "      <td>None</td>\n",
       "      <td>None</td>\n",
       "      <td>DURHAM</td>\n",
       "      <td>27703.0</td>\n",
       "      <td>None</td>\n",
       "      <td>None</td>\n",
       "      <td>https://taxcama.dconc.gov/camapwa/PropertySumm...</td>\n",
       "      <td>https://rodweb.dconc.gov/web/user/disclaimer</td>\n",
       "      <td>22470.577615</td>\n",
       "      <td>678.041253</td>\n",
       "      <td>None</td>\n",
       "      <td>None</td>\n",
       "      <td>b'\\x01\\x03\\x00\\x00\\x00\\x01\\x00\\x00\\x00\\x1b\\x00...</td>\n",
       "      <td>b'\\x01\\x01\\x00\\x00\\x00t\\xf7\\x90v0\\xb1S\\xc0\\x00...</td>\n",
       "    </tr>\n",
       "    <tr>\n",
       "      <th>294513</th>\n",
       "      <td>None</td>\n",
       "      <td>0749090971</td>\n",
       "      <td>125595</td>\n",
       "      <td>None</td>\n",
       "      <td>None</td>\n",
       "      <td>4700 HOMEWOOD CT SUITE 380</td>\n",
       "      <td>None</td>\n",
       "      <td>None</td>\n",
       "      <td>0 CHANNEL DROP DR</td>\n",
       "      <td>0.16</td>\n",
       "      <td>0.16</td>\n",
       "      <td>0.0</td>\n",
       "      <td>None</td>\n",
       "      <td>None</td>\n",
       "      <td>CHANNEL DROP</td>\n",
       "      <td>DR</td>\n",
       "      <td>None</td>\n",
       "      <td>VAC RES  DEVELOPER</td>\n",
       "      <td>None</td>\n",
       "      <td>NaN</td>\n",
       "      <td>NaN</td>\n",
       "      <td>ATWATER/PH:02/PRIVATE ACCESS PL000206-000052</td>\n",
       "      <td>0.0</td>\n",
       "      <td>1000.0</td>\n",
       "      <td>1000.0</td>\n",
       "      <td>None</td>\n",
       "      <td>1000.0</td>\n",
       "      <td>None</td>\n",
       "      <td>009915</td>\n",
       "      <td>00457</td>\n",
       "      <td>None</td>\n",
       "      <td>None</td>\n",
       "      <td>None</td>\n",
       "      <td>612</td>\n",
       "      <td>NaN</td>\n",
       "      <td>NaN</td>\n",
       "      <td>NaN</td>\n",
       "      <td>NaN</td>\n",
       "      <td>NaN</td>\n",
       "      <td>None</td>\n",
       "      <td>None</td>\n",
       "      <td>None</td>\n",
       "      <td>None</td>\n",
       "      <td>None</td>\n",
       "      <td>None</td>\n",
       "      <td>None</td>\n",
       "      <td>Durham</td>\n",
       "      <td>NaN</td>\n",
       "      <td>None</td>\n",
       "      <td>None</td>\n",
       "      <td>DURHAM</td>\n",
       "      <td>27703.0</td>\n",
       "      <td>None</td>\n",
       "      <td>None</td>\n",
       "      <td>https://taxcama.dconc.gov/camapwa/PropertySumm...</td>\n",
       "      <td>https://rodweb.dconc.gov/web/user/disclaimer</td>\n",
       "      <td>6813.471356</td>\n",
       "      <td>458.346710</td>\n",
       "      <td>None</td>\n",
       "      <td>None</td>\n",
       "      <td>b'\\x01\\x03\\x00\\x00\\x00\\x01\\x00\\x00\\x00\\x19\\x00...</td>\n",
       "      <td>b'\\x01\\x01\\x00\\x00\\x00\\x18\\xa1e\\x05V\\xb7S\\xc0\\...</td>\n",
       "    </tr>\n",
       "    <tr>\n",
       "      <th>294514</th>\n",
       "      <td>None</td>\n",
       "      <td>0717327725</td>\n",
       "      <td>125852</td>\n",
       "      <td>None</td>\n",
       "      <td>None</td>\n",
       "      <td>2002 NOLA LN</td>\n",
       "      <td>None</td>\n",
       "      <td>None</td>\n",
       "      <td>2002 NOLA LN</td>\n",
       "      <td>0.03</td>\n",
       "      <td>0.03</td>\n",
       "      <td>2002.0</td>\n",
       "      <td>None</td>\n",
       "      <td>None</td>\n",
       "      <td>NOLA</td>\n",
       "      <td>LN</td>\n",
       "      <td>None</td>\n",
       "      <td>VACRES LT SMLTR SIDE</td>\n",
       "      <td>None</td>\n",
       "      <td>NaN</td>\n",
       "      <td>NaN</td>\n",
       "      <td>751 SOUTH/PH:01C/LT#178 PL000206-000135</td>\n",
       "      <td>192508.0</td>\n",
       "      <td>72000.0</td>\n",
       "      <td>72000.0</td>\n",
       "      <td>None</td>\n",
       "      <td>264508.0</td>\n",
       "      <td>2023-06-27</td>\n",
       "      <td>009941</td>\n",
       "      <td>00249</td>\n",
       "      <td>None</td>\n",
       "      <td>None</td>\n",
       "      <td>None</td>\n",
       "      <td>NONE</td>\n",
       "      <td>NaN</td>\n",
       "      <td>NaN</td>\n",
       "      <td>NaN</td>\n",
       "      <td>NaN</td>\n",
       "      <td>NaN</td>\n",
       "      <td>None</td>\n",
       "      <td>None</td>\n",
       "      <td>None</td>\n",
       "      <td>None</td>\n",
       "      <td>None</td>\n",
       "      <td>None</td>\n",
       "      <td>None</td>\n",
       "      <td>Durham</td>\n",
       "      <td>1936.0</td>\n",
       "      <td>None</td>\n",
       "      <td>None</td>\n",
       "      <td>DURHAM</td>\n",
       "      <td>27713.0</td>\n",
       "      <td>None</td>\n",
       "      <td>None</td>\n",
       "      <td>https://taxcama.dconc.gov/camapwa/PropertySumm...</td>\n",
       "      <td>https://rodweb.dconc.gov/web/user/disclaimer</td>\n",
       "      <td>1451.983589</td>\n",
       "      <td>175.999131</td>\n",
       "      <td>None</td>\n",
       "      <td>None</td>\n",
       "      <td>b'\\x01\\x03\\x00\\x00\\x00\\x01\\x00\\x00\\x00\\x05\\x00...</td>\n",
       "      <td>b'\\x01\\x01\\x00\\x00\\x00U\\x9f`\\x0e\\t\\xbdS\\xc0\\x9...</td>\n",
       "    </tr>\n",
       "    <tr>\n",
       "      <th>294515</th>\n",
       "      <td>None</td>\n",
       "      <td>0769826985</td>\n",
       "      <td>125509</td>\n",
       "      <td>None</td>\n",
       "      <td>None</td>\n",
       "      <td>7105 CRESTED IRIS PL</td>\n",
       "      <td>None</td>\n",
       "      <td>None</td>\n",
       "      <td>7105 CRESTED IRIS PL</td>\n",
       "      <td>0.14</td>\n",
       "      <td>0.14</td>\n",
       "      <td>7105.0</td>\n",
       "      <td>None</td>\n",
       "      <td>None</td>\n",
       "      <td>CRESTED IRIS</td>\n",
       "      <td>PL</td>\n",
       "      <td>None</td>\n",
       "      <td>VAC RES  LOT SML TRA</td>\n",
       "      <td>None</td>\n",
       "      <td>NaN</td>\n",
       "      <td>NaN</td>\n",
       "      <td>SYKES PROPERTY/PH:02&amp;03/L T#07 PL000206-000038</td>\n",
       "      <td>363472.0</td>\n",
       "      <td>107730.0</td>\n",
       "      <td>107730.0</td>\n",
       "      <td>None</td>\n",
       "      <td>471202.0</td>\n",
       "      <td>2023-04-25</td>\n",
       "      <td>009904</td>\n",
       "      <td>00165</td>\n",
       "      <td>None</td>\n",
       "      <td>None</td>\n",
       "      <td>None</td>\n",
       "      <td>NONE</td>\n",
       "      <td>NaN</td>\n",
       "      <td>NaN</td>\n",
       "      <td>NaN</td>\n",
       "      <td>NaN</td>\n",
       "      <td>NaN</td>\n",
       "      <td>None</td>\n",
       "      <td>None</td>\n",
       "      <td>None</td>\n",
       "      <td>None</td>\n",
       "      <td>None</td>\n",
       "      <td>None</td>\n",
       "      <td>None</td>\n",
       "      <td>Durham</td>\n",
       "      <td>2607.0</td>\n",
       "      <td>None</td>\n",
       "      <td>None</td>\n",
       "      <td>DURHAM</td>\n",
       "      <td>27703.0</td>\n",
       "      <td>None</td>\n",
       "      <td>None</td>\n",
       "      <td>https://taxcama.dconc.gov/camapwa/PropertySumm...</td>\n",
       "      <td>https://rodweb.dconc.gov/web/user/disclaimer</td>\n",
       "      <td>5879.885807</td>\n",
       "      <td>337.995551</td>\n",
       "      <td>None</td>\n",
       "      <td>None</td>\n",
       "      <td>b'\\x01\\x03\\x00\\x00\\x00\\x01\\x00\\x00\\x00\\x05\\x00...</td>\n",
       "      <td>b'\\x01\\x01\\x00\\x00\\x00\\xa1\"\\xf9\\xf3&amp;\\xb1S\\xc0\\...</td>\n",
       "    </tr>\n",
       "  </tbody>\n",
       "</table>\n",
       "<p>294516 rows × 62 columns</p>\n",
       "</div>"
      ],
      "text/plain": [
       "         pin       pin10  realid owner owner2                   owneradd1  \\\n",
       "0       None  0729574551   94866  None   None           38 SAINT PAUL AVE   \n",
       "1       None  0729576438   94863  None   None         2908 LONDON BELL DR   \n",
       "2       None  0717996109   94079  None   None       1411 CARRICKFERGUS CT   \n",
       "3       None  0729577019   94847  None   None          4532 SHADY SIDE LN   \n",
       "4       None  0739031025   95258  None   None              3608 RAMBIR DR   \n",
       "...      ...         ...     ...   ...    ...                         ...   \n",
       "294511  None  0820981446  125740  None   None          141 COFIELD CIRCLE   \n",
       "294512  None  0769825914  125555  None   None      1511 SUNDAY DR STE 100   \n",
       "294513  None  0749090971  125595  None   None  4700 HOMEWOOD CT SUITE 380   \n",
       "294514  None  0717327725  125852  None   None                2002 NOLA LN   \n",
       "294515  None  0769826985  125509  None   None        7105 CRESTED IRIS PL   \n",
       "\n",
       "       owneradd2 owneradd3               location  calcacreage  deedacres  \\\n",
       "0           None      None          613 HANSON RD         0.15       0.15   \n",
       "1           None      None          619 HANSON RD         0.16       0.16   \n",
       "2           None      None  1411 CARRICKFERGUS CT         0.22       0.22   \n",
       "3           None      None     4532 SHADY SIDE LN         0.13       0.13   \n",
       "4           None      None         3608 RANBIR DR         0.28       0.28   \n",
       "...          ...       ...                    ...          ...        ...   \n",
       "294511      None      None           419 CECIL ST         0.09       0.09   \n",
       "294512      None      None   7110 CRESTED IRIS PL         0.52       0.52   \n",
       "294513      None      None      0 CHANNEL DROP DR         0.16       0.16   \n",
       "294514      None      None           2002 NOLA LN         0.03       0.03   \n",
       "294515      None      None   7105 CRESTED IRIS PL         0.14       0.14   \n",
       "\n",
       "        streetnumber streetmisc streetprefix     streetname streettype  \\\n",
       "0              613.0       None         None         HANSON         RD   \n",
       "1              619.0       None         None         HANSON         RD   \n",
       "2             1411.0       None         None  CARRICKFERGUS         CT   \n",
       "3             4532.0       None         None     SHADY SIDE         LN   \n",
       "4             3608.0       None         None         RANBIR         DR   \n",
       "...              ...        ...          ...            ...        ...   \n",
       "294511         419.0       None         None          CECIL         ST   \n",
       "294512        7110.0       None         None   CRESTED IRIS         PL   \n",
       "294513           0.0       None         None   CHANNEL DROP         DR   \n",
       "294514        2002.0       None         None           NOLA         LN   \n",
       "294515        7105.0       None         None   CRESTED IRIS         PL   \n",
       "\n",
       "       streetsuffix             landclass lclass  totalstructures  totalunits  \\\n",
       "0              None         RES  1 FAMILY   None              NaN         NaN   \n",
       "1              None         RES  1 FAMILY   None              NaN         NaN   \n",
       "2              None         RES  1 FAMILY   None              NaN         NaN   \n",
       "3              None         RES  1 FAMILY   None              NaN         NaN   \n",
       "4              None         RES  1 FAMILY   None              NaN         NaN   \n",
       "...             ...                   ...    ...              ...         ...   \n",
       "294511         None         RES  1 FAMILY   None              NaN         NaN   \n",
       "294512         None   UNK LEASEHOLD CONDO   None              NaN         NaN   \n",
       "294513         None    VAC RES  DEVELOPER   None              NaN         NaN   \n",
       "294514         None  VACRES LT SMLTR SIDE   None              NaN         NaN   \n",
       "294515         None  VAC RES  LOT SML TRA   None              NaN         NaN   \n",
       "\n",
       "                                          propertydesc  bldgvalue  landvalue  \\\n",
       "0              BAY POINTE/PH:03/LT#099 PL000161-000365   195234.0    40180.0   \n",
       "1              BAY POINTE/PH:03/LT#096 PL000161-000365   179487.0    40705.0   \n",
       "2                       OAKHAVEN/LT#15 PL000161-000075   275711.0    75937.0   \n",
       "3              BAY POINTE/PH:03/LT#069 PL000161-000365   203620.0    39480.0   \n",
       "4                LOCHSIDE/PH:01/LT#105 PL000165-000308   163464.0    57600.0   \n",
       "...                                                ...        ...        ...   \n",
       "294511    PROP-PROPERTIES4U LLC/TR# 03 PL000206-000025   133615.0    27250.0   \n",
       "294512  SYKES PROPERTY/PH:02&03/O S#01 PL000206-000038        0.0   143262.0   \n",
       "294513    ATWATER/PH:02/PRIVATE ACCESS PL000206-000052        0.0     1000.0   \n",
       "294514         751 SOUTH/PH:01C/LT#178 PL000206-000135   192508.0    72000.0   \n",
       "294515  SYKES PROPERTY/PH:02&03/L T#07 PL000206-000038   363472.0   107730.0   \n",
       "\n",
       "        landsalevalue landsaledate  totalsalevalue totalsaledate deedbook  \\\n",
       "0             40180.0         None        235414.0    2017-10-27   008297   \n",
       "1             40705.0         None        220192.0    2023-12-05   010023   \n",
       "2             75937.0         None        351648.0          None   004939   \n",
       "3             39480.0         None        243100.0          None   006115   \n",
       "4             57600.0         None        221064.0    2013-06-27   007301   \n",
       "...               ...          ...             ...           ...      ...   \n",
       "294511        27250.0         None        160865.0    2023-06-09   009932   \n",
       "294512       143262.0         None        143262.0          None   009282   \n",
       "294513         1000.0         None          1000.0          None   009915   \n",
       "294514        72000.0         None        264508.0    2023-06-27   009941   \n",
       "294515       107730.0         None        471202.0    2023-04-25   009904   \n",
       "\n",
       "       deedpage wc_city cary_city wc_etj township  apaownership  apaactivity  \\\n",
       "0         00762    None      None   None     NONE           NaN          NaN   \n",
       "1         00570    None      None   None     NONE           NaN          NaN   \n",
       "2         00353    None      None   None     NONE           NaN          NaN   \n",
       "3         00981    None      None   None     NONE           NaN          NaN   \n",
       "4         00787    None      None   None     NONE           NaN          NaN   \n",
       "...         ...     ...       ...    ...      ...           ...          ...   \n",
       "294511    00225    None      None   None     NONE           NaN          NaN   \n",
       "294512    00045    None      None   None     NONE           NaN          NaN   \n",
       "294513    00457    None      None   None      612           NaN          NaN   \n",
       "294514    00249    None      None   None     NONE           NaN          NaN   \n",
       "294515    00165    None      None   None     NONE           NaN          NaN   \n",
       "\n",
       "        apafunction  apastructure  apasite wc_zoning billingclass  \\\n",
       "0               NaN           NaN      NaN      None         None   \n",
       "1               NaN           NaN      NaN      None         None   \n",
       "2               NaN           NaN      NaN      None         None   \n",
       "3               NaN           NaN      NaN      None         None   \n",
       "4               NaN           NaN      NaN      None         None   \n",
       "...             ...           ...      ...       ...          ...   \n",
       "294511          NaN           NaN      NaN      None         None   \n",
       "294512          NaN           NaN      NaN      None         None   \n",
       "294513          NaN           NaN      NaN      None         None   \n",
       "294514          NaN           NaN      NaN      None         None   \n",
       "294515          NaN           NaN      NaN      None         None   \n",
       "\n",
       "       apaownershipdesc apaactivitydesc apafunctiondesc apastructuredesc  \\\n",
       "0                  None            None            None             None   \n",
       "1                  None            None            None             None   \n",
       "2                  None            None            None             None   \n",
       "3                  None            None            None             None   \n",
       "4                  None            None            None             None   \n",
       "...                 ...             ...             ...              ...   \n",
       "294511             None            None            None             None   \n",
       "294512             None            None            None             None   \n",
       "294513             None            None            None             None   \n",
       "294514             None            None            None             None   \n",
       "294515             None            None            None             None   \n",
       "\n",
       "       apasitedesc  county  totalbldgsqft typeanduse typedecode phycity  \\\n",
       "0             None  Durham         2080.0       None       None  DURHAM   \n",
       "1             None  Durham         1906.0       None       None  DURHAM   \n",
       "2             None  Durham         3200.0       None       None  DURHAM   \n",
       "3             None  Durham         2308.0       None       None  DURHAM   \n",
       "4             None  Durham         1567.0       None       None  DURHAM   \n",
       "...            ...     ...            ...        ...        ...     ...   \n",
       "294511        None  Durham         1184.0       None       None  DURHAM   \n",
       "294512        None  Durham            NaN       None       None  DURHAM   \n",
       "294513        None  Durham            NaN       None       None  DURHAM   \n",
       "294514        None  Durham         1936.0       None       None  DURHAM   \n",
       "294515        None  Durham         2607.0       None       None  DURHAM   \n",
       "\n",
       "         phyzip utilities ownerwholename  \\\n",
       "0       27713.0      None           None   \n",
       "1       27713.0      None           None   \n",
       "2       27713.0      None           None   \n",
       "3       27713.0      None           None   \n",
       "4       27713.0      None           None   \n",
       "...         ...       ...            ...   \n",
       "294511  27707.0      None           None   \n",
       "294512  27703.0      None           None   \n",
       "294513  27703.0      None           None   \n",
       "294514  27713.0      None           None   \n",
       "294515  27703.0      None           None   \n",
       "\n",
       "                                                 reallink  \\\n",
       "0       https://taxcama.dconc.gov/camapwa/PropertySumm...   \n",
       "1       https://taxcama.dconc.gov/camapwa/PropertySumm...   \n",
       "2       https://taxcama.dconc.gov/camapwa/PropertySumm...   \n",
       "3       https://taxcama.dconc.gov/camapwa/PropertySumm...   \n",
       "4       https://taxcama.dconc.gov/camapwa/PropertySumm...   \n",
       "...                                                   ...   \n",
       "294511  https://taxcama.dconc.gov/camapwa/PropertySumm...   \n",
       "294512  https://taxcama.dconc.gov/camapwa/PropertySumm...   \n",
       "294513  https://taxcama.dconc.gov/camapwa/PropertySumm...   \n",
       "294514  https://taxcama.dconc.gov/camapwa/PropertySumm...   \n",
       "294515  https://taxcama.dconc.gov/camapwa/PropertySumm...   \n",
       "\n",
       "                                            deedlink  shape_starea  \\\n",
       "0       https://rodweb.dconc.gov/web/user/disclaimer   6451.097435   \n",
       "1       https://rodweb.dconc.gov/web/user/disclaimer   7096.203754   \n",
       "2       https://rodweb.dconc.gov/web/user/disclaimer   9361.373133   \n",
       "3       https://rodweb.dconc.gov/web/user/disclaimer   5588.978748   \n",
       "4       https://rodweb.dconc.gov/web/user/disclaimer  12205.491128   \n",
       "...                                              ...           ...   \n",
       "294511  https://rodweb.dconc.gov/web/user/disclaimer   3917.013134   \n",
       "294512  https://rodweb.dconc.gov/web/user/disclaimer  22470.577615   \n",
       "294513  https://rodweb.dconc.gov/web/user/disclaimer   6813.471356   \n",
       "294514  https://rodweb.dconc.gov/web/user/disclaimer   1451.983589   \n",
       "294515  https://rodweb.dconc.gov/web/user/disclaimer   5879.885807   \n",
       "\n",
       "        shape_stlength yearbuilt chathamaddress  \\\n",
       "0           336.681551      None           None   \n",
       "1           354.824260      None           None   \n",
       "2           405.469398      None           None   \n",
       "3           310.423891      None           None   \n",
       "4           453.505217      None           None   \n",
       "...                ...       ...            ...   \n",
       "294511      282.904290      None           None   \n",
       "294512      678.041253      None           None   \n",
       "294513      458.346710      None           None   \n",
       "294514      175.999131      None           None   \n",
       "294515      337.995551      None           None   \n",
       "\n",
       "                                                geo_shape  \\\n",
       "0       b'\\x01\\x03\\x00\\x00\\x00\\x01\\x00\\x00\\x00\\x05\\x00...   \n",
       "1       b'\\x01\\x03\\x00\\x00\\x00\\x01\\x00\\x00\\x00\\x07\\x00...   \n",
       "2       b'\\x01\\x03\\x00\\x00\\x00\\x01\\x00\\x00\\x00\\x1d\\x00...   \n",
       "3       b'\\x01\\x03\\x00\\x00\\x00\\x01\\x00\\x00\\x00\\x07\\x00...   \n",
       "4       b'\\x01\\x03\\x00\\x00\\x00\\x01\\x00\\x00\\x00\\x07\\x00...   \n",
       "...                                                   ...   \n",
       "294511  b'\\x01\\x03\\x00\\x00\\x00\\x01\\x00\\x00\\x00\\x0f\\x00...   \n",
       "294512  b'\\x01\\x03\\x00\\x00\\x00\\x01\\x00\\x00\\x00\\x1b\\x00...   \n",
       "294513  b'\\x01\\x03\\x00\\x00\\x00\\x01\\x00\\x00\\x00\\x19\\x00...   \n",
       "294514  b'\\x01\\x03\\x00\\x00\\x00\\x01\\x00\\x00\\x00\\x05\\x00...   \n",
       "294515  b'\\x01\\x03\\x00\\x00\\x00\\x01\\x00\\x00\\x00\\x05\\x00...   \n",
       "\n",
       "                                             geo_point_2d  \n",
       "0       b'\\x01\\x01\\x00\\x00\\x00;\\x87\\xfc\\xe6~\\xbaS\\xc09...  \n",
       "1       b'\\x01\\x01\\x00\\x00\\x00\\xa3U\\xce\\xfat\\xbaS\\xc0\\...  \n",
       "2       b'\\x01\\x01\\x00\\x00\\x00\\xdf\\\\\\xfe\\x8d\\xc3\\xbbS\\...  \n",
       "3       b'\\x01\\x01\\x00\\x00\\x00\\x036\\xbd\\x00q\\xbaS\\xc0\\...  \n",
       "4       b'\\x01\\x01\\x00\\x00\\x00d\\xc3\\x03\\x0f}\\xb9S\\xc0\\...  \n",
       "...                                                   ...  \n",
       "294511  b'\\x01\\x01\\x00\\x00\\x00\\x84\\xe9\\xd0\"\\xb2\\xb9S\\x...  \n",
       "294512  b'\\x01\\x01\\x00\\x00\\x00t\\xf7\\x90v0\\xb1S\\xc0\\x00...  \n",
       "294513  b'\\x01\\x01\\x00\\x00\\x00\\x18\\xa1e\\x05V\\xb7S\\xc0\\...  \n",
       "294514  b'\\x01\\x01\\x00\\x00\\x00U\\x9f`\\x0e\\t\\xbdS\\xc0\\x9...  \n",
       "294515  b'\\x01\\x01\\x00\\x00\\x00\\xa1\"\\xf9\\xf3&\\xb1S\\xc0\\...  \n",
       "\n",
       "[294516 rows x 62 columns]"
      ]
     },
     "execution_count": 146,
     "metadata": {},
     "output_type": "execute_result"
    }
   ],
   "source": [
    "# Print all Columns of entire dataframe\n",
    "\n",
    "df"
   ]
  },
  {
   "cell_type": "code",
   "execution_count": 149,
   "id": "4e9c41b2-af29-4756-a051-b3416b9876ec",
   "metadata": {
    "execution": {
     "iopub.execute_input": "2025-01-25T23:35:50.466957Z",
     "iopub.status.busy": "2025-01-25T23:35:50.466475Z",
     "iopub.status.idle": "2025-01-25T23:35:50.487784Z",
     "shell.execute_reply": "2025-01-25T23:35:50.486280Z",
     "shell.execute_reply.started": "2025-01-25T23:35:50.466928Z"
    }
   },
   "outputs": [
    {
     "name": "stdout",
     "output_type": "stream",
     "text": [
      "(294516, 62)\n"
     ]
    }
   ],
   "source": [
    "# Get Dataset Size\n",
    "\n",
    "print(df.shape)"
   ]
  },
  {
   "cell_type": "markdown",
   "id": "0473974c-c308-4b22-a1f7-d96fe3fb921d",
   "metadata": {},
   "source": [
    "## Explore landclass Column"
   ]
  },
  {
   "cell_type": "code",
   "execution_count": 152,
   "id": "b7ebda13-e0f0-447c-bddc-9fb6db31da8b",
   "metadata": {
    "execution": {
     "iopub.execute_input": "2025-01-25T23:35:53.947967Z",
     "iopub.status.busy": "2025-01-25T23:35:53.947543Z",
     "iopub.status.idle": "2025-01-25T23:35:53.972300Z",
     "shell.execute_reply": "2025-01-25T23:35:53.971723Z",
     "shell.execute_reply.started": "2025-01-25T23:35:53.947940Z"
    }
   },
   "outputs": [
    {
     "data": {
      "text/plain": [
       "array(['RES  1 FAMILY', 'RES TWNH W  LAND', 'COM  OFFICE CONDO',\n",
       "       'VAC RES  HOMEOWNERS', 'VACANT COMMERCIAL', 'VAC RES  LOT SML TRA',\n",
       "       'RES  CONDOMINIUM', 'CMNTY SVC  POLICE FI', 'WILD PARKS FDRL PROJ',\n",
       "       'COM  DRIVE IN BANK', 'RES  2 FAMILY', 'COM  AUTO CAR WASH',\n",
       "       'VAC RES  DEVELOPER', 'VACANT LAND (UNDIFF)',\n",
       "       'COM  APT GARDEN S42', 'COM  MULTI USE CONDO',\n",
       "       'UNK LEASEHOLD CONDO', 'VACANT INDUSTRIAL', 'COMMUNITY SVCS (UNDI',\n",
       "       'VAC COM  W  LEASEHOL', 'COM  FAST FOOD', 'VACRES LT SMLTR SIDE',\n",
       "       'COM  PARKING LOTS SU', 'COM  WHSE STORAGE', 'COM  OFFICE BLDG',\n",
       "       'PUBL SVC  RAILROADS', 'IND  MISC RESEARCH',\n",
       "       'VACANT COMMUNITY SER', 'PUBL SVC  ELEC TRANS',\n",
       "       'VAC RES  < 10 ACRES', 'COM  RETAIL SERVICES',\n",
       "       'VAC RES  RURAL < 10', 'PRESENT USE AGRICULT',\n",
       "       'COM  AUTO BODY TIRE', 'VACANT PRIVATE UTILI',\n",
       "       'CMNTY SVC  LIBRARY', 'VAC RES  W  SML IMPR',\n",
       "       'IND  MICROELECTRONIC', 'COM  BANKS & OFFICES',\n",
       "       'PUBL SVC  SEWER & WA', 'PRESENT USE FORESTRY',\n",
       "       'CMNTY SVC CEMTERY EX', 'VACRES LT SMLTR REAR', 'AG  1 FAMILY',\n",
       "       'VAC COM  CONDO ASSOC', 'COM  DINING LEASEHOL', 'COM  APT GARDEN',\n",
       "       'COM  COMMERCIAL (UND', 'CMNTY SVC  SCHOOL', 'RES TWNH W  LND S4',\n",
       "       'COM  SVC & GAS STATI', 'COM  MOTOR VEHICLE S',\n",
       "       'COM  MOBILE HOME PAR', 'VAC COMM SVC  GRVL P',\n",
       "       'RES  1 MH OR MH SITE', 'PUBL SVC  TRANSPORTA',\n",
       "       'CMNTY SVC CHURCH PRK', 'REC  COUNTRY CLUB', 'COM  FUNERAL HOME',\n",
       "       'CMNTY SVC  CHURCH', 'CMNTY SVC  CHILD DAY',\n",
       "       'CMNTY SVC  BNVLNT AS', 'COM CONV STORE W O G',\n",
       "       'IND  MANUF PROCESSIN', 'COM  CONV STORE W  G',\n",
       "       'PRESENT USE HORTICUL', 'CMNTY SVC  RELIGIOUS',\n",
       "       'CMNTY SVS ASSTD LVG', 'VAC AG  10 ACRES OR',\n",
       "       \"RES  MULTIPLE DWG'S\", 'RES  HOMEOWNERS ASSO',\n",
       "       'COM  PROFESSIONAL BL', 'CMNTY SVC CHURCH PRS',\n",
       "       'COM  AREA SHOP CTRS', 'COM  REGIONAL SHOP C',\n",
       "       'RES  RURAL RESIDENTI', 'REC  OUTDOOR SPORT A',\n",
       "       'RES  LSHLD IMPROV', 'COM  RESTAURANTS', 'COM  HOTEL',\n",
       "       'COM  MINI WAREHOUSES', 'COM AUTO DLR SLS&SVC',\n",
       "       'COM  CONVERTED RESID', 'COM  1 STY SM SGL US',\n",
       "       'C0M  LRG RETAIL OUTL', 'PUBL SVC  TELEPHONE',\n",
       "       'COM  DINERS & LUNCH', 'CMNTY SVC  EDUCATION',\n",
       "       'CMNTY SVC  CULTURAL', 'COM  VET CLINIC', 'COM  MULTI USE CAPAB',\n",
       "       'VAC RES  UNDERWATER', 'CMNTY SVC  COLLEGE',\n",
       "       'Residential Less Than 10 Acres', 'EXEMPT', 'Vacant', 'Commercial',\n",
       "       'HOA', 'Part Exempt', 'Industrial', 'Condo Complex', 'Agriculture',\n",
       "       'Historic', 'Golf Course', 'Forestry', 'Cemetery',\n",
       "       'Acre With Improvement, No House',\n",
       "       'Acres Greater Than 10 With House', 'Apartment',\n",
       "       'Manufactured Home', 'State Assessed', 'Horticulture',\n",
       "       'Water/Sewer System', 'Mobile Home Park', 'CMNTY SVC  GOVT HWY',\n",
       "       'CMNTY SVC  OTR EDU F', 'VAC COM  DEVELOPER', None,\n",
       "       'RES  MOBILE HOME', 'RES  RESIDENTIAL (UN', 'VAC DEVELOPER UTILIT',\n",
       "       'VAC AG  OTHER RURAL', 'RES  3 FAMILY', 'Condominium',\n",
       "       'COM  HOMEOWNERS ASSO', 'COM  1 STY SM MULTI',\n",
       "       'CMNTY SVC  WELFARE', 'COM  LUMBER YRDS SAW',\n",
       "       'IND  BIOTECH   BIOPH', 'IND  INFO TECH   TEL',\n",
       "       'COM  SALVAGE YARD', 'IND  ENVIRONMENTAL S', 'CMNTY SVC  MISC',\n",
       "       'COM  MISC SERVICES', 'PUBL SVC  GAS TRANSM',\n",
       "       'PUBL SVC  WATER SUPP', 'VAC PRV UTL  SEWAGE', 'COM  W  LEASEHOLD',\n",
       "       'COM  BANK W  OFFICE', 'IND  LSHLD IMPROV', 'COM APT HIGH RI',\n",
       "       'COM  STANDARD BANK', 'IND  INDUSTRIAL (UND',\n",
       "       'IND PHARMACEUTICAL H', 'Retirement Home', 'COM  SNACK BARS',\n",
       "       'CMNTY SVC DCLT LD&I', 'COM  DWNTWN ROW ATTA',\n",
       "       'CMNTY SVC  RCRTNL FA', 'COM  LIVING ACCOMM',\n",
       "       'CMNTY SVC HME FR AGD', 'CMNTY SVC EDU PRK LT',\n",
       "       'CMNTY SVC  CHURCH SC', 'COM APT DWG CON', 'CMNTY SVC  GOV PUB P',\n",
       "       'COM  GAS FUEL OIL ST', 'REC  OTHER MISC', 'REC  ATHLETIC FIELDS',\n",
       "       'CMNTY SVC  RDS STR P', 'AG  YEAR ROUND', 'RES  ESTATE',\n",
       "       'RES  DWG + 1 MBL HM', 'COM  TRUCKING TERMIN',\n",
       "       'CMNTY SVC CEMTERY TA', 'RES  2 MH OR MH SITE',\n",
       "       'REC  OUTDOOR SPT LSH', 'VAC CONSERVATION EAS',\n",
       "       'COM  RET SVS LEASEHO', 'REC  GOLF COURSE', 'COM  INNS B&B RM HOU',\n",
       "       'REC  OUTDOOR SWIMMIN', 'IND  W  LEASEHOLD',\n",
       "       'COM  LEASEHOLD W  AC', 'CMNTY SVC  GOVT BLDG', 'COM  MOTEL',\n",
       "       'RES  DWG + 2 MBL HMS', 'PUBL SVC  WATER', 'VAC AG  W  NON LVG I',\n",
       "       'CMNTY SVC  HEALTH', 'REC  YMCA OR YWCA', 'RES  4 FAMILY',\n",
       "       'RES  HISTORICAL', 'COM  HISTORICAL', 'COM  BANK & OFFICE L',\n",
       "       'COM  DWNTWN ROW DETA', 'COM  SELF SER CAR WA',\n",
       "       'COM  MANUAL CAR WASH', 'CMNTY SVC  GOV PRK G',\n",
       "       'CMNTY SVC  OTHER HLT', 'REC  MOTION PIC THEA', 'REC  PARKS',\n",
       "       'WILD PARKS STATE PRO', 'CMNTY SVC  ABC STORE',\n",
       "       'CMNTY SVC  SPECIAL S', 'PUBL SVC  WASTE DISP', 'REC  BOWLING',\n",
       "       'COM  NIGHT CLUBS', 'REC  TV & RADIO STUD', 'CMNTY SVC  CORRECTIO',\n",
       "       'CMNTY SVS ASST LVGS4', 'COM  LRG RETAIL FOOD',\n",
       "       'REC  SOCIAL ORGANIZA', 'CMNTY SVC  W  LEASEH', 'COM  BAR',\n",
       "       'COM DLRSHIP SLS&SVC', 'COM PRKING GARAGE DE',\n",
       "       'REC  INDOOR SPT FACI', 'CMNTY SVC  PROF ASSO',\n",
       "       'CMNTY SVC  HOSPITAL', 'CMNTY SVC  GOVT LSHL',\n",
       "       'REC  ENTRTN AMUSE(UN', 'COM  DINING ESTABLIS'], dtype=object)"
      ]
     },
     "execution_count": 152,
     "metadata": {},
     "output_type": "execute_result"
    }
   ],
   "source": [
    "# Explore unique names of the landclass column\n",
    "\n",
    "df['landclass'].unique()"
   ]
  },
  {
   "cell_type": "code",
   "execution_count": null,
   "id": "5252417c-017e-44a7-a821-69ca880840c2",
   "metadata": {
    "execution": {
     "iopub.status.busy": "2025-01-25T23:35:09.073659Z",
     "iopub.status.idle": "2025-01-25T23:35:09.073902Z",
     "shell.execute_reply": "2025-01-25T23:35:09.073795Z",
     "shell.execute_reply.started": "2025-01-25T23:35:09.073785Z"
    }
   },
   "outputs": [],
   "source": [
    "# Find null values in landclass column\n",
    "\n",
    "df['landclass'].isna().sum()"
   ]
  },
  {
   "cell_type": "markdown",
   "id": "c6704738-8f1d-43d3-8be6-20805420d745",
   "metadata": {},
   "source": [
    "## Explore lclass Column"
   ]
  },
  {
   "cell_type": "code",
   "execution_count": 352,
   "id": "a8906553-a14b-4b96-ad50-acbdb39fc9e4",
   "metadata": {
    "execution": {
     "iopub.execute_input": "2025-01-26T04:40:14.633845Z",
     "iopub.status.busy": "2025-01-26T04:40:14.633363Z",
     "iopub.status.idle": "2025-01-26T04:40:14.658004Z",
     "shell.execute_reply": "2025-01-26T04:40:14.657235Z",
     "shell.execute_reply.started": "2025-01-26T04:40:14.633819Z"
    }
   },
   "outputs": [
    {
     "data": {
      "text/plain": [
       "array([None, 'R', 'E', 'V', 'C', 'I', 'P', 'D', 'O', 'F', 'H', 'U', 'Y',\n",
       "       'J', 'A', 'B', 'G', 'M', 'S', 'Z', 'W', 'T', 'N', 'K'],\n",
       "      dtype=object)"
      ]
     },
     "execution_count": 352,
     "metadata": {},
     "output_type": "execute_result"
    }
   ],
   "source": [
    "# Explore unique names of the lclass column\n",
    "\n",
    "df['lclass'].unique()"
   ]
  },
  {
   "cell_type": "code",
   "execution_count": 355,
   "id": "eab237bb-9412-4c89-bafc-95e84ce7dd48",
   "metadata": {
    "execution": {
     "iopub.execute_input": "2025-01-26T04:40:43.769730Z",
     "iopub.status.busy": "2025-01-26T04:40:43.769363Z",
     "iopub.status.idle": "2025-01-26T04:40:43.797580Z",
     "shell.execute_reply": "2025-01-26T04:40:43.796440Z",
     "shell.execute_reply.started": "2025-01-26T04:40:43.769706Z"
    }
   },
   "outputs": [
    {
     "data": {
      "text/plain": [
       "23"
      ]
     },
     "execution_count": 355,
     "metadata": {},
     "output_type": "execute_result"
    }
   ],
   "source": [
    "# Find number of unique values in lclass\n",
    "\n",
    "df['lclass'].nunique()"
   ]
  },
  {
   "cell_type": "code",
   "execution_count": 349,
   "id": "3a610898-f7cf-4f3e-a087-5495af1798cb",
   "metadata": {
    "execution": {
     "iopub.execute_input": "2025-01-26T04:40:05.844847Z",
     "iopub.status.busy": "2025-01-26T04:40:05.844565Z",
     "iopub.status.idle": "2025-01-26T04:40:05.892456Z",
     "shell.execute_reply": "2025-01-26T04:40:05.891669Z",
     "shell.execute_reply.started": "2025-01-26T04:40:05.844826Z"
    }
   },
   "outputs": [
    {
     "data": {
      "text/plain": [
       "76992"
      ]
     },
     "execution_count": 349,
     "metadata": {},
     "output_type": "execute_result"
    }
   ],
   "source": [
    "# Find null values in landclass column\n",
    "\n",
    "df['lclass'].isna().sum()"
   ]
  },
  {
   "cell_type": "markdown",
   "id": "83e1bae2-6982-41b3-a000-c40950b82604",
   "metadata": {},
   "source": [
    "## Explore apasite Column"
   ]
  },
  {
   "cell_type": "code",
   "execution_count": null,
   "id": "137b6b5a-8c39-44c2-96ec-464e81dacc55",
   "metadata": {
    "execution": {
     "iopub.status.busy": "2025-01-25T23:35:09.081700Z",
     "iopub.status.idle": "2025-01-25T23:35:09.082144Z",
     "shell.execute_reply": "2025-01-25T23:35:09.082016Z",
     "shell.execute_reply.started": "2025-01-25T23:35:09.082000Z"
    }
   },
   "outputs": [],
   "source": [
    "# Check unique values in apasite column\n",
    "\n",
    "df['apasite'].unique()"
   ]
  },
  {
   "cell_type": "code",
   "execution_count": null,
   "id": "ca9441c6-bc0e-4ce6-a0d1-b379eefe8439",
   "metadata": {
    "execution": {
     "iopub.status.busy": "2025-01-25T23:35:09.084289Z",
     "iopub.status.idle": "2025-01-25T23:35:09.084592Z",
     "shell.execute_reply": "2025-01-25T23:35:09.084480Z",
     "shell.execute_reply.started": "2025-01-25T23:35:09.084469Z"
    }
   },
   "outputs": [],
   "source": [
    "# Check number of unique values in apasite column\n",
    "\n",
    "df['apasite'].nunique()"
   ]
  },
  {
   "cell_type": "markdown",
   "id": "fc8c43da-0f6b-41c5-87bc-0bd6ae9982a1",
   "metadata": {},
   "source": [
    "## Explore apasitedesc Column"
   ]
  },
  {
   "cell_type": "code",
   "execution_count": null,
   "id": "7393bcfc-a564-4d8e-995c-d2e6b2fc07b5",
   "metadata": {
    "execution": {
     "iopub.status.busy": "2025-01-25T23:35:09.086906Z",
     "iopub.status.idle": "2025-01-25T23:35:09.087188Z",
     "shell.execute_reply": "2025-01-25T23:35:09.087076Z",
     "shell.execute_reply.started": "2025-01-25T23:35:09.087066Z"
    }
   },
   "outputs": [],
   "source": [
    "# Explore unique names of the APA Site Description Column\n",
    "\n",
    "df['apasitedesc'].unique()"
   ]
  },
  {
   "cell_type": "code",
   "execution_count": null,
   "id": "e8a0f749-d271-4abc-9c75-8e536e022a64",
   "metadata": {
    "execution": {
     "iopub.status.busy": "2025-01-25T23:35:09.089453Z",
     "iopub.status.idle": "2025-01-25T23:35:09.089693Z",
     "shell.execute_reply": "2025-01-25T23:35:09.089589Z",
     "shell.execute_reply.started": "2025-01-25T23:35:09.089579Z"
    }
   },
   "outputs": [],
   "source": [
    "# Check number of unique values in apasitedesc column\n",
    "\n",
    "df['apasitedesc'].nunique()"
   ]
  },
  {
   "cell_type": "code",
   "execution_count": null,
   "id": "87ae1ae8-6bd3-428d-b122-5bcffe9a4c8f",
   "metadata": {
    "execution": {
     "iopub.status.busy": "2025-01-25T23:35:09.092171Z",
     "iopub.status.idle": "2025-01-25T23:35:09.092492Z",
     "shell.execute_reply": "2025-01-25T23:35:09.092380Z",
     "shell.execute_reply.started": "2025-01-25T23:35:09.092369Z"
    }
   },
   "outputs": [],
   "source": [
    "# Create a subset for null fields within 'apasitedesc'\n",
    "\n",
    "num_none = df['apasitedesc'].isnull().sum()"
   ]
  },
  {
   "cell_type": "code",
   "execution_count": null,
   "id": "0fa0239c-cb70-4e42-8000-d126c8e36fd7",
   "metadata": {
    "execution": {
     "iopub.status.busy": "2025-01-25T23:35:09.094800Z",
     "iopub.status.idle": "2025-01-25T23:35:09.095077Z",
     "shell.execute_reply": "2025-01-25T23:35:09.094939Z",
     "shell.execute_reply.started": "2025-01-25T23:35:09.094929Z"
    }
   },
   "outputs": [],
   "source": [
    "# Print subset for null 'apasitedesc' fields\n",
    "\n",
    "num_none"
   ]
  },
  {
   "cell_type": "code",
   "execution_count": null,
   "id": "63bf908c-fa08-4aa5-8fe2-3fc598ecd3e4",
   "metadata": {
    "execution": {
     "iopub.status.busy": "2025-01-25T23:35:09.097415Z",
     "iopub.status.idle": "2025-01-25T23:35:09.097662Z",
     "shell.execute_reply": "2025-01-25T23:35:09.097555Z",
     "shell.execute_reply.started": "2025-01-25T23:35:09.097545Z"
    }
   },
   "outputs": [],
   "source": [
    "# 26% of this 'apasitedesc' field is null\n",
    "\n",
    "percent_none = (num_none / len(df)) * 100\n",
    "print(percent_none)"
   ]
  },
  {
   "cell_type": "markdown",
   "id": "acb646e5-9612-40a5-8b77-a35f8d90bd76",
   "metadata": {},
   "source": [
    "## Explore apaownership Column"
   ]
  },
  {
   "cell_type": "code",
   "execution_count": null,
   "id": "c2b94e6e-2208-41bd-892c-adc76ea2ae25",
   "metadata": {
    "execution": {
     "iopub.status.busy": "2025-01-25T23:35:09.100031Z",
     "iopub.status.idle": "2025-01-25T23:35:09.100348Z",
     "shell.execute_reply": "2025-01-25T23:35:09.100219Z",
     "shell.execute_reply.started": "2025-01-25T23:35:09.100208Z"
    }
   },
   "outputs": [],
   "source": [
    "# Check unique values of apaownership column\n",
    "\n",
    "df['apaownership'].unique()"
   ]
  },
  {
   "cell_type": "markdown",
   "id": "9658b4aa-b2ac-4604-9a8a-1cd0bbd67062",
   "metadata": {
    "jp-MarkdownHeadingCollapsed": true
   },
   "source": [
    "## Explore apaownershipdesc Column"
   ]
  },
  {
   "cell_type": "code",
   "execution_count": null,
   "id": "8abbd27e-1eac-4fdf-8b37-c48d53de28b3",
   "metadata": {
    "execution": {
     "iopub.status.busy": "2025-01-25T23:35:09.102829Z",
     "iopub.status.idle": "2025-01-25T23:35:09.103162Z",
     "shell.execute_reply": "2025-01-25T23:35:09.103019Z",
     "shell.execute_reply.started": "2025-01-25T23:35:09.103007Z"
    }
   },
   "outputs": [],
   "source": [
    "# check unique values of apaownershipdesc column\n",
    "\n",
    "df['apaownershipdesc'].unique()"
   ]
  },
  {
   "cell_type": "markdown",
   "id": "13791d32-d7eb-4d60-a4f4-aa16c85dd3e4",
   "metadata": {
    "jp-MarkdownHeadingCollapsed": true
   },
   "source": [
    "## Explore apafunction Column"
   ]
  },
  {
   "cell_type": "code",
   "execution_count": null,
   "id": "6c8fe3c2-57c6-4902-9cfe-a20a82d77dcc",
   "metadata": {
    "execution": {
     "iopub.status.busy": "2025-01-25T23:35:09.105486Z",
     "iopub.status.idle": "2025-01-25T23:35:09.106096Z",
     "shell.execute_reply": "2025-01-25T23:35:09.105970Z",
     "shell.execute_reply.started": "2025-01-25T23:35:09.105956Z"
    }
   },
   "outputs": [],
   "source": [
    "# check unique values of apafunction column\n",
    "\n",
    "df['apafunction'].unique()"
   ]
  },
  {
   "cell_type": "markdown",
   "id": "9150bb33-d355-497b-920e-7c1fcae81969",
   "metadata": {
    "jp-MarkdownHeadingCollapsed": true
   },
   "source": [
    "## Explore apafunctiondesc Column"
   ]
  },
  {
   "cell_type": "code",
   "execution_count": null,
   "id": "ed170147-94d4-4d35-b0ef-f4111aff6774",
   "metadata": {
    "execution": {
     "iopub.status.busy": "2025-01-25T23:35:09.108325Z",
     "iopub.status.idle": "2025-01-25T23:35:09.108684Z",
     "shell.execute_reply": "2025-01-25T23:35:09.108538Z",
     "shell.execute_reply.started": "2025-01-25T23:35:09.108526Z"
    }
   },
   "outputs": [],
   "source": [
    "# check unique values of apafunctiondesc column\n",
    "\n",
    "df['apafunctiondesc'].unique()"
   ]
  },
  {
   "cell_type": "markdown",
   "id": "10cc4007-845b-4c47-9cc6-84060e597c8a",
   "metadata": {
    "jp-MarkdownHeadingCollapsed": true
   },
   "source": [
    "## Explore apastructure Column"
   ]
  },
  {
   "cell_type": "code",
   "execution_count": null,
   "id": "0c665513-d385-4aaa-8442-2119eb444631",
   "metadata": {
    "execution": {
     "iopub.status.busy": "2025-01-25T23:35:09.110806Z",
     "iopub.status.idle": "2025-01-25T23:35:09.111083Z",
     "shell.execute_reply": "2025-01-25T23:35:09.110942Z",
     "shell.execute_reply.started": "2025-01-25T23:35:09.110932Z"
    }
   },
   "outputs": [],
   "source": [
    "# Check unique values in apastructure column\n",
    "\n",
    "df['apastructure'].unique()"
   ]
  },
  {
   "cell_type": "markdown",
   "id": "041b727d-7b3f-4899-9eff-d5c82e84bf1c",
   "metadata": {
    "jp-MarkdownHeadingCollapsed": true
   },
   "source": [
    "## Explore apastructuredesc\t Column"
   ]
  },
  {
   "cell_type": "code",
   "execution_count": null,
   "id": "b1d588b1-d8cb-460f-8fac-2d3475a02c42",
   "metadata": {
    "execution": {
     "iopub.status.busy": "2025-01-25T23:35:09.113549Z",
     "iopub.status.idle": "2025-01-25T23:35:09.113902Z",
     "shell.execute_reply": "2025-01-25T23:35:09.113763Z",
     "shell.execute_reply.started": "2025-01-25T23:35:09.113748Z"
    }
   },
   "outputs": [],
   "source": [
    "# Check unique values of apastructuredesc column\n",
    "\n",
    "df['apastructuredesc'].unique()"
   ]
  },
  {
   "cell_type": "markdown",
   "id": "5d2e2ca5-f414-4b16-9d2d-816294f90ca4",
   "metadata": {
    "jp-MarkdownHeadingCollapsed": true
   },
   "source": [
    "## Explore apaactivity Column"
   ]
  },
  {
   "cell_type": "code",
   "execution_count": null,
   "id": "fb1d7c8d-2e4e-406f-b4fd-04cb4e3eb102",
   "metadata": {
    "execution": {
     "iopub.status.busy": "2025-01-25T23:35:09.116079Z",
     "iopub.status.idle": "2025-01-25T23:35:09.116320Z",
     "shell.execute_reply": "2025-01-25T23:35:09.116214Z",
     "shell.execute_reply.started": "2025-01-25T23:35:09.116204Z"
    }
   },
   "outputs": [],
   "source": [
    "# Check unique values in apaactivity column\n",
    "\n",
    "df['apaactivity'].unique()"
   ]
  },
  {
   "cell_type": "markdown",
   "id": "a698b783-c717-4fc3-ac5d-dd8f8d30622a",
   "metadata": {
    "jp-MarkdownHeadingCollapsed": true
   },
   "source": [
    "## Explore apaactivitydesc Column"
   ]
  },
  {
   "cell_type": "code",
   "execution_count": null,
   "id": "b5c73cf1-368f-4191-931b-677455aacfe7",
   "metadata": {
    "execution": {
     "iopub.status.busy": "2025-01-25T23:35:09.118910Z",
     "iopub.status.idle": "2025-01-25T23:35:09.119575Z",
     "shell.execute_reply": "2025-01-25T23:35:09.119409Z",
     "shell.execute_reply.started": "2025-01-25T23:35:09.119394Z"
    }
   },
   "outputs": [],
   "source": [
    "# Check unique values of apaactivitydesc column\n",
    "\n",
    "df['apaactivitydesc'].unique()"
   ]
  },
  {
   "cell_type": "markdown",
   "id": "6927e2ce-1661-4637-adee-f971626ad0d0",
   "metadata": {
    "jp-MarkdownHeadingCollapsed": true
   },
   "source": [
    "## Explore Location Column"
   ]
  },
  {
   "cell_type": "code",
   "execution_count": null,
   "id": "37dcad2f-ebbf-476a-aabc-9fed2ea940c7",
   "metadata": {
    "execution": {
     "iopub.status.busy": "2025-01-25T23:35:09.121932Z",
     "iopub.status.idle": "2025-01-25T23:35:09.122216Z",
     "shell.execute_reply": "2025-01-25T23:35:09.122104Z",
     "shell.execute_reply.started": "2025-01-25T23:35:09.122093Z"
    }
   },
   "outputs": [],
   "source": [
    "# Create a subset for null fields within 'location'\n",
    "\n",
    "num_none_2 = df['location'].isnull().sum()"
   ]
  },
  {
   "cell_type": "code",
   "execution_count": null,
   "id": "73e81dc0-6468-4974-9210-aa35c597e26c",
   "metadata": {
    "execution": {
     "iopub.status.busy": "2025-01-25T23:35:09.124409Z",
     "iopub.status.idle": "2025-01-25T23:35:09.125081Z",
     "shell.execute_reply": "2025-01-25T23:35:09.124941Z",
     "shell.execute_reply.started": "2025-01-25T23:35:09.124926Z"
    }
   },
   "outputs": [],
   "source": [
    "# Print subset for null 'location' fields \n",
    "\n",
    "num_none_2"
   ]
  },
  {
   "cell_type": "code",
   "execution_count": null,
   "id": "74367c60-e4cd-4cee-a07f-a521c2e21791",
   "metadata": {
    "execution": {
     "iopub.status.busy": "2025-01-25T23:35:09.127110Z",
     "iopub.status.idle": "2025-01-25T23:35:09.127353Z",
     "shell.execute_reply": "2025-01-25T23:35:09.127245Z",
     "shell.execute_reply.started": "2025-01-25T23:35:09.127235Z"
    }
   },
   "outputs": [],
   "source": [
    "# Check df with null 'location' values\n",
    "\n",
    "df[df['location'].isnull()].head()"
   ]
  },
  {
   "cell_type": "markdown",
   "id": "ff90dfd7-502c-422d-b2ab-6e5800d4c70d",
   "metadata": {
    "jp-MarkdownHeadingCollapsed": true
   },
   "source": [
    "## Explore Total Sale Date Column"
   ]
  },
  {
   "cell_type": "code",
   "execution_count": null,
   "id": "30dbf0f7-f463-4364-a403-0f1bd19ba347",
   "metadata": {
    "execution": {
     "iopub.status.busy": "2025-01-25T23:35:09.129617Z",
     "iopub.status.idle": "2025-01-25T23:35:09.129907Z",
     "shell.execute_reply": "2025-01-25T23:35:09.129780Z",
     "shell.execute_reply.started": "2025-01-25T23:35:09.129763Z"
    }
   },
   "outputs": [],
   "source": [
    "# Explore unique names of the 'totalsaledate'; variables are objects--will need to convert for easier time series / analysis\n",
    "\n",
    "df['totalsaledate'].unique()"
   ]
  },
  {
   "cell_type": "code",
   "execution_count": null,
   "id": "28f48b28-ed07-44c4-90eb-3b876ba41661",
   "metadata": {
    "execution": {
     "iopub.status.busy": "2025-01-25T23:35:09.132368Z",
     "iopub.status.idle": "2025-01-25T23:35:09.132667Z",
     "shell.execute_reply": "2025-01-25T23:35:09.132556Z",
     "shell.execute_reply.started": "2025-01-25T23:35:09.132545Z"
    }
   },
   "outputs": [],
   "source": [
    "df['totalsaledate'].head(10)"
   ]
  },
  {
   "cell_type": "code",
   "execution_count": null,
   "id": "018045b0-fd3e-4ed3-a452-95852d6e6995",
   "metadata": {
    "execution": {
     "iopub.status.busy": "2025-01-25T23:35:09.135137Z",
     "iopub.status.idle": "2025-01-25T23:35:09.135436Z",
     "shell.execute_reply": "2025-01-25T23:35:09.135326Z",
     "shell.execute_reply.started": "2025-01-25T23:35:09.135315Z"
    }
   },
   "outputs": [],
   "source": [
    "# Create a subset for null fields within 'totalsaledate'\n",
    "\n",
    "num_none_3 = df['totalsaledate'].isnull().sum()"
   ]
  },
  {
   "cell_type": "code",
   "execution_count": null,
   "id": "e7515152-26d8-4ebe-b6c2-88a1c0d535ad",
   "metadata": {
    "execution": {
     "iopub.status.busy": "2025-01-25T23:35:09.137772Z",
     "iopub.status.idle": "2025-01-25T23:35:09.138317Z",
     "shell.execute_reply": "2025-01-25T23:35:09.138194Z",
     "shell.execute_reply.started": "2025-01-25T23:35:09.138182Z"
    }
   },
   "outputs": [],
   "source": [
    "# Print subset for null 'totalsaledate' fields\n",
    "\n",
    "num_none_3"
   ]
  },
  {
   "cell_type": "code",
   "execution_count": null,
   "id": "ee89705c-42a2-4b00-9ce3-40c9259ddd6f",
   "metadata": {
    "execution": {
     "iopub.status.busy": "2025-01-25T23:35:09.140655Z",
     "iopub.status.idle": "2025-01-25T23:35:09.140987Z",
     "shell.execute_reply": "2025-01-25T23:35:09.140875Z",
     "shell.execute_reply.started": "2025-01-25T23:35:09.140863Z"
    }
   },
   "outputs": [],
   "source": [
    "# 26% of this 'totalsaledate' field is null\n",
    "\n",
    "percent_none_3 = (num_none_3 / len(df)) * 100\n",
    "print(percent_none)"
   ]
  },
  {
   "cell_type": "markdown",
   "id": "62566aed-02c6-4fe6-ab0a-4b7121d4e2ca",
   "metadata": {
    "jp-MarkdownHeadingCollapsed": true
   },
   "source": [
    "## Explore streetmisc Column"
   ]
  },
  {
   "cell_type": "code",
   "execution_count": null,
   "id": "24780e84-b029-4787-99b4-ecc6dcfab3d9",
   "metadata": {
    "execution": {
     "iopub.status.busy": "2025-01-25T23:35:09.143373Z",
     "iopub.status.idle": "2025-01-25T23:35:09.143620Z",
     "shell.execute_reply": "2025-01-25T23:35:09.143513Z",
     "shell.execute_reply.started": "2025-01-25T23:35:09.143502Z"
    }
   },
   "outputs": [],
   "source": [
    "# Explore unique names of the 'streetmisc'\n",
    "\n",
    "df['streetmisc'].unique()"
   ]
  },
  {
   "cell_type": "markdown",
   "id": "a98b00d9-5372-403b-9295-6ac72b2cc5fc",
   "metadata": {
    "jp-MarkdownHeadingCollapsed": true
   },
   "source": [
    "## Explore streetprefix Column"
   ]
  },
  {
   "cell_type": "code",
   "execution_count": null,
   "id": "b7aff6b7-bec0-479f-b6c9-22e0764e9cbe",
   "metadata": {
    "execution": {
     "iopub.status.busy": "2025-01-25T23:35:09.145971Z",
     "iopub.status.idle": "2025-01-25T23:35:09.146305Z",
     "shell.execute_reply": "2025-01-25T23:35:09.146194Z",
     "shell.execute_reply.started": "2025-01-25T23:35:09.146182Z"
    }
   },
   "outputs": [],
   "source": [
    "# Explore unique names of the 'streetprefix' column\n",
    "\n",
    "df['streetprefix'].unique()"
   ]
  },
  {
   "cell_type": "markdown",
   "id": "26b70f14-eeeb-4683-baa0-f72efb11a5a6",
   "metadata": {
    "jp-MarkdownHeadingCollapsed": true
   },
   "source": [
    "## Explore streetsuffix Column"
   ]
  },
  {
   "cell_type": "code",
   "execution_count": null,
   "id": "440344c7-1392-4f71-a7b7-6df262505d2d",
   "metadata": {
    "execution": {
     "iopub.status.busy": "2025-01-25T23:35:09.148795Z",
     "iopub.status.idle": "2025-01-25T23:35:09.149128Z",
     "shell.execute_reply": "2025-01-25T23:35:09.148966Z",
     "shell.execute_reply.started": "2025-01-25T23:35:09.148956Z"
    }
   },
   "outputs": [],
   "source": [
    "# Explore unique names of the 'streetsuffix' column\n",
    "\n",
    "df['streetsuffix'].unique()"
   ]
  },
  {
   "cell_type": "markdown",
   "id": "27de2b42-288e-42b0-bf0e-86ab7bf734fa",
   "metadata": {
    "jp-MarkdownHeadingCollapsed": true
   },
   "source": [
    "## Explore owneradd2 Column"
   ]
  },
  {
   "cell_type": "code",
   "execution_count": null,
   "id": "e867da40-dfb7-412f-abb4-b45bd74ed716",
   "metadata": {
    "execution": {
     "iopub.status.busy": "2025-01-25T23:35:09.151554Z",
     "iopub.status.idle": "2025-01-25T23:35:09.151864Z",
     "shell.execute_reply": "2025-01-25T23:35:09.151703Z",
     "shell.execute_reply.started": "2025-01-25T23:35:09.151689Z"
    }
   },
   "outputs": [],
   "source": [
    "# Explore unique names of 'owneradd2'\n",
    "\n",
    "df['owneradd2'].unique()"
   ]
  },
  {
   "cell_type": "code",
   "execution_count": null,
   "id": "feb199aa-772b-4895-a57d-d7b09f2451ce",
   "metadata": {
    "execution": {
     "iopub.status.busy": "2025-01-25T23:35:09.154068Z",
     "iopub.status.idle": "2025-01-25T23:35:09.154309Z",
     "shell.execute_reply": "2025-01-25T23:35:09.154204Z",
     "shell.execute_reply.started": "2025-01-25T23:35:09.154194Z"
    }
   },
   "outputs": [],
   "source": [
    "# Create a subset for null fields within 'owneradd2'\n",
    "\n",
    "num_none_4 = df['owneradd2'].isnull().sum()"
   ]
  },
  {
   "cell_type": "code",
   "execution_count": null,
   "id": "8ee12726-c072-4d64-bc87-32f86c42c681",
   "metadata": {
    "execution": {
     "iopub.status.busy": "2025-01-25T23:35:09.156261Z",
     "iopub.status.idle": "2025-01-25T23:35:09.156502Z",
     "shell.execute_reply": "2025-01-25T23:35:09.156398Z",
     "shell.execute_reply.started": "2025-01-25T23:35:09.156388Z"
    }
   },
   "outputs": [],
   "source": [
    "# 24% of this 'owneradd2' field is null\n",
    "\n",
    "percent_none_4 = (num_none_4 / len(df)) * 100\n",
    "print(percent_none_4)"
   ]
  },
  {
   "cell_type": "markdown",
   "id": "b3655d7a-873b-4338-a208-5a237bb19deb",
   "metadata": {
    "jp-MarkdownHeadingCollapsed": true
   },
   "source": [
    "## Explore owneradd3 Column"
   ]
  },
  {
   "cell_type": "code",
   "execution_count": null,
   "id": "dcb04dea-0418-4eec-a22e-cd436bf40908",
   "metadata": {
    "execution": {
     "iopub.status.busy": "2025-01-25T23:35:09.158847Z",
     "iopub.status.idle": "2025-01-25T23:35:09.159160Z",
     "shell.execute_reply": "2025-01-25T23:35:09.158982Z",
     "shell.execute_reply.started": "2025-01-25T23:35:09.158972Z"
    }
   },
   "outputs": [],
   "source": [
    "# Explore unique names of 'owneradd3'\n",
    "\n",
    "df['owneradd3'].unique()"
   ]
  },
  {
   "cell_type": "code",
   "execution_count": null,
   "id": "c2db4b3d-2353-4765-aeff-7cc795008374",
   "metadata": {
    "execution": {
     "iopub.status.busy": "2025-01-25T23:35:09.161360Z",
     "iopub.status.idle": "2025-01-25T23:35:09.161618Z",
     "shell.execute_reply": "2025-01-25T23:35:09.161511Z",
     "shell.execute_reply.started": "2025-01-25T23:35:09.161500Z"
    }
   },
   "outputs": [],
   "source": [
    "# Create a subset for null fields within 'owneradd3'\n",
    "\n",
    "num_none_5 = df['owneradd3'].isnull().sum()"
   ]
  },
  {
   "cell_type": "code",
   "execution_count": null,
   "id": "cde08f85-936b-49a9-967c-ede220bfe2bf",
   "metadata": {
    "execution": {
     "iopub.status.busy": "2025-01-25T23:35:09.164324Z",
     "iopub.status.idle": "2025-01-25T23:35:09.164639Z",
     "shell.execute_reply": "2025-01-25T23:35:09.164528Z",
     "shell.execute_reply.started": "2025-01-25T23:35:09.164516Z"
    }
   },
   "outputs": [],
   "source": [
    "# 96% of the 'owneradd3' is null\n",
    "\n",
    "percent_none_5 = (num_none_5 / len(df)) * 100\n",
    "print(percent_none_5)"
   ]
  },
  {
   "cell_type": "markdown",
   "id": "3bfc434d-bdce-47a8-b809-33e9b0fd1c49",
   "metadata": {
    "jp-MarkdownHeadingCollapsed": true
   },
   "source": [
    "## Explore totalbldgsqft Column"
   ]
  },
  {
   "cell_type": "code",
   "execution_count": null,
   "id": "124dd636-6f82-4c55-b57e-cbecfeecc43f",
   "metadata": {
    "execution": {
     "iopub.status.busy": "2025-01-25T23:35:09.166271Z",
     "iopub.status.idle": "2025-01-25T23:35:09.166512Z",
     "shell.execute_reply": "2025-01-25T23:35:09.166407Z",
     "shell.execute_reply.started": "2025-01-25T23:35:09.166397Z"
    }
   },
   "outputs": [],
   "source": [
    "# Explore unique names of 'totalbldgsqft'\n",
    "\n",
    "df['totalbldgsqft'].unique()"
   ]
  },
  {
   "cell_type": "code",
   "execution_count": null,
   "id": "fbca18e8-b33a-468b-aa65-21e27878054e",
   "metadata": {
    "execution": {
     "iopub.status.busy": "2025-01-25T23:35:09.169549Z",
     "iopub.status.idle": "2025-01-25T23:35:09.169878Z",
     "shell.execute_reply": "2025-01-25T23:35:09.169766Z",
     "shell.execute_reply.started": "2025-01-25T23:35:09.169754Z"
    }
   },
   "outputs": [],
   "source": [
    "# Create a subset for null fields within 'totalbldgsqft'\n",
    "\n",
    "num_none_6 = df['totalbldgsqft'].isnull().sum()"
   ]
  },
  {
   "cell_type": "code",
   "execution_count": null,
   "id": "1d7db8da-0072-46ed-beb4-55bd3a609fda",
   "metadata": {
    "execution": {
     "iopub.status.busy": "2025-01-25T23:35:09.172205Z",
     "iopub.status.idle": "2025-01-25T23:35:09.172486Z",
     "shell.execute_reply": "2025-01-25T23:35:09.172374Z",
     "shell.execute_reply.started": "2025-01-25T23:35:09.172363Z"
    }
   },
   "outputs": [],
   "source": [
    "17# % of the 'totalbldgsqft' is null\n",
    "\n",
    "percent_none_6 = (num_none_6 / len(df)) * 100\n",
    "print(percent_none_6)"
   ]
  },
  {
   "cell_type": "markdown",
   "id": "101f6766-dd5b-4f67-ace5-9fdb95f07285",
   "metadata": {
    "jp-MarkdownHeadingCollapsed": true
   },
   "source": [
    "## Explore typeanduse Column"
   ]
  },
  {
   "cell_type": "code",
   "execution_count": null,
   "id": "0e485602-5e48-463f-ba3c-254d8b5b4410",
   "metadata": {
    "execution": {
     "iopub.status.busy": "2025-01-25T23:35:09.174662Z",
     "iopub.status.idle": "2025-01-25T23:35:09.174916Z",
     "shell.execute_reply": "2025-01-25T23:35:09.174808Z",
     "shell.execute_reply.started": "2025-01-25T23:35:09.174798Z"
    }
   },
   "outputs": [],
   "source": [
    "# Explore unique names of 'typeanduse'\n",
    "\n",
    "df['typeanduse'].unique()"
   ]
  },
  {
   "cell_type": "markdown",
   "id": "305384ea-e3c1-46c3-870e-11a29f5afa4f",
   "metadata": {
    "jp-MarkdownHeadingCollapsed": true
   },
   "source": [
    "## Explore phycity Column"
   ]
  },
  {
   "cell_type": "code",
   "execution_count": null,
   "id": "419cddd3-2fdc-40e5-8827-281a629c8668",
   "metadata": {
    "execution": {
     "iopub.status.busy": "2025-01-25T23:35:09.177073Z",
     "iopub.status.idle": "2025-01-25T23:35:09.177311Z",
     "shell.execute_reply": "2025-01-25T23:35:09.177206Z",
     "shell.execute_reply.started": "2025-01-25T23:35:09.177196Z"
    }
   },
   "outputs": [],
   "source": [
    "# Explore unique names of 'phycity'\n",
    "\n",
    "df['phycity'].unique()"
   ]
  },
  {
   "cell_type": "markdown",
   "id": "a3be9bff-dc19-4197-9957-86d16848c613",
   "metadata": {},
   "source": [
    "## Explore phyzip Column"
   ]
  },
  {
   "cell_type": "code",
   "execution_count": null,
   "id": "bb059428-052c-4062-9ad3-b252ab762306",
   "metadata": {
    "execution": {
     "iopub.status.busy": "2025-01-25T23:35:09.178961Z",
     "iopub.status.idle": "2025-01-25T23:35:09.179288Z",
     "shell.execute_reply": "2025-01-25T23:35:09.179174Z",
     "shell.execute_reply.started": "2025-01-25T23:35:09.179162Z"
    }
   },
   "outputs": [],
   "source": [
    "# Explore unique names of 'phyzip'\n",
    "\n",
    "df['phyzip'].unique()"
   ]
  },
  {
   "cell_type": "code",
   "execution_count": null,
   "id": "07f05f70-387d-49b2-aab3-482ae57c928d",
   "metadata": {
    "execution": {
     "iopub.status.busy": "2025-01-25T23:35:09.181182Z",
     "iopub.status.idle": "2025-01-25T23:35:09.181447Z",
     "shell.execute_reply": "2025-01-25T23:35:09.181329Z",
     "shell.execute_reply.started": "2025-01-25T23:35:09.181319Z"
    }
   },
   "outputs": [],
   "source": [
    "# Check data type of 'phyzip'\n",
    "\n",
    "df['phyzip'].dtype"
   ]
  },
  {
   "cell_type": "markdown",
   "id": "44977d96-9948-4d39-93ee-68146d822b4c",
   "metadata": {
    "jp-MarkdownHeadingCollapsed": true
   },
   "source": [
    "## Explore landsaledate Column"
   ]
  },
  {
   "cell_type": "code",
   "execution_count": null,
   "id": "dc7d84bf-e8a3-4ca7-a57f-cea6108abf9b",
   "metadata": {
    "execution": {
     "iopub.status.busy": "2025-01-25T23:35:09.184833Z",
     "iopub.status.idle": "2025-01-25T23:35:09.185186Z",
     "shell.execute_reply": "2025-01-25T23:35:09.185025Z",
     "shell.execute_reply.started": "2025-01-25T23:35:09.185009Z"
    }
   },
   "outputs": [],
   "source": [
    "# Explore unique names of 'landsaledate'\n",
    "\n",
    "df['landsaledate'].unique()"
   ]
  },
  {
   "cell_type": "code",
   "execution_count": null,
   "id": "b82e896d-5d07-4ae1-9985-b48d63a050f3",
   "metadata": {
    "execution": {
     "iopub.status.busy": "2025-01-25T23:35:09.187813Z",
     "iopub.status.idle": "2025-01-25T23:35:09.188054Z",
     "shell.execute_reply": "2025-01-25T23:35:09.187950Z",
     "shell.execute_reply.started": "2025-01-25T23:35:09.187940Z"
    }
   },
   "outputs": [],
   "source": [
    "# Check data type of 'landsaledate'; dtype is mixed?\n",
    "\n",
    "df['landsaledate'].dtype"
   ]
  },
  {
   "cell_type": "markdown",
   "id": "58eb10fe-09c9-4b1d-9539-f8a09dbd8e51",
   "metadata": {
    "jp-MarkdownHeadingCollapsed": true
   },
   "source": [
    "## Explore utilities Column"
   ]
  },
  {
   "cell_type": "code",
   "execution_count": null,
   "id": "144cb6f4-4225-4429-be29-34eeba59becc",
   "metadata": {
    "execution": {
     "iopub.status.busy": "2025-01-25T23:35:09.189909Z",
     "iopub.status.idle": "2025-01-25T23:35:09.190146Z",
     "shell.execute_reply": "2025-01-25T23:35:09.190041Z",
     "shell.execute_reply.started": "2025-01-25T23:35:09.190031Z"
    }
   },
   "outputs": [],
   "source": [
    "# Explore unique names of 'utilities'\n",
    "\n",
    "df['utilities'].unique()"
   ]
  },
  {
   "cell_type": "markdown",
   "id": "cd017a18-6ded-4669-85ac-1da9bf9e1dd0",
   "metadata": {
    "jp-MarkdownHeadingCollapsed": true
   },
   "source": [
    "## Explore yearbuilt Column"
   ]
  },
  {
   "cell_type": "code",
   "execution_count": null,
   "id": "596c0a65-086f-429d-bb78-90e4d87a2bf6",
   "metadata": {
    "execution": {
     "iopub.status.busy": "2025-01-25T23:35:09.192110Z",
     "iopub.status.idle": "2025-01-25T23:35:09.192354Z",
     "shell.execute_reply": "2025-01-25T23:35:09.192243Z",
     "shell.execute_reply.started": "2025-01-25T23:35:09.192233Z"
    }
   },
   "outputs": [],
   "source": [
    "# Explore unique names of 'yearbuilt'\n",
    "\n",
    "df['yearbuilt'].unique()"
   ]
  },
  {
   "cell_type": "code",
   "execution_count": null,
   "id": "3bbdbcb6-1400-47b8-83ac-e190b743bd8b",
   "metadata": {
    "execution": {
     "iopub.status.busy": "2025-01-25T23:35:09.194468Z",
     "iopub.status.idle": "2025-01-25T23:35:09.194750Z",
     "shell.execute_reply": "2025-01-25T23:35:09.194615Z",
     "shell.execute_reply.started": "2025-01-25T23:35:09.194601Z"
    }
   },
   "outputs": [],
   "source": [
    "# Check data type of yearbuilt, mixed datatype?\n",
    "\n",
    "df['yearbuilt'].dtype"
   ]
  },
  {
   "cell_type": "code",
   "execution_count": null,
   "id": "44f3ce9e-fc3c-4ae5-aa77-5f8879dbe62f",
   "metadata": {
    "execution": {
     "iopub.status.busy": "2025-01-25T23:35:09.197777Z",
     "iopub.status.idle": "2025-01-25T23:35:09.198184Z",
     "shell.execute_reply": "2025-01-25T23:35:09.197986Z",
     "shell.execute_reply.started": "2025-01-25T23:35:09.197970Z"
    }
   },
   "outputs": [],
   "source": [
    "# Explore unique names of 'chathamaddress'\n",
    "\n",
    "df['chathamaddress'].unique()"
   ]
  },
  {
   "cell_type": "markdown",
   "id": "f7e7fb5e-a0b1-490d-82bb-0eadcbee3872",
   "metadata": {
    "jp-MarkdownHeadingCollapsed": true
   },
   "source": [
    "## Explore ownerwholename Column"
   ]
  },
  {
   "cell_type": "code",
   "execution_count": null,
   "id": "3c8de9fc-ba2d-4a2b-ab55-51216d1510bc",
   "metadata": {
    "execution": {
     "iopub.status.busy": "2025-01-25T23:35:09.200553Z",
     "iopub.status.idle": "2025-01-25T23:35:09.200855Z",
     "shell.execute_reply": "2025-01-25T23:35:09.200742Z",
     "shell.execute_reply.started": "2025-01-25T23:35:09.200730Z"
    }
   },
   "outputs": [],
   "source": [
    "# Explore unique names of ownerwholename Column\n",
    "\n",
    "df['ownerwholename'].unique()"
   ]
  },
  {
   "cell_type": "markdown",
   "id": "5908bd92-af46-4efa-ac49-35115cebd043",
   "metadata": {
    "jp-MarkdownHeadingCollapsed": true
   },
   "source": [
    "## Explore bldgvalue Column"
   ]
  },
  {
   "cell_type": "code",
   "execution_count": null,
   "id": "b4599dea-7dcf-4ce6-99c5-573d4606738e",
   "metadata": {
    "execution": {
     "iopub.status.busy": "2025-01-25T23:35:09.203177Z",
     "iopub.status.idle": "2025-01-25T23:35:09.203452Z",
     "shell.execute_reply": "2025-01-25T23:35:09.203343Z",
     "shell.execute_reply.started": "2025-01-25T23:35:09.203332Z"
    }
   },
   "outputs": [],
   "source": [
    "# Explore unique names of bldgvalue column\n",
    "\n",
    "df['bldgvalue'].unique()"
   ]
  },
  {
   "cell_type": "code",
   "execution_count": null,
   "id": "ca9396ac-2203-4579-84fe-dde1e496e277",
   "metadata": {
    "execution": {
     "iopub.status.busy": "2025-01-25T23:35:09.205580Z",
     "iopub.status.idle": "2025-01-25T23:35:09.205823Z",
     "shell.execute_reply": "2025-01-25T23:35:09.205716Z",
     "shell.execute_reply.started": "2025-01-25T23:35:09.205706Z"
    }
   },
   "outputs": [],
   "source": [
    "# bldgvalue datatype\n",
    "\n",
    "print(df['bldgvalue'].dtype)"
   ]
  },
  {
   "cell_type": "code",
   "execution_count": null,
   "id": "e4a82b98-2f07-4c44-bec2-58cb8f6d1ecd",
   "metadata": {
    "execution": {
     "iopub.status.busy": "2025-01-25T23:35:09.207834Z",
     "iopub.status.idle": "2025-01-25T23:35:09.208137Z",
     "shell.execute_reply": "2025-01-25T23:35:09.207978Z",
     "shell.execute_reply.started": "2025-01-25T23:35:09.207964Z"
    }
   },
   "outputs": [],
   "source": [
    "# Find null values in bldgvalue column\n",
    "\n",
    "print(df['bldgvalue'].isna().sum())"
   ]
  },
  {
   "cell_type": "markdown",
   "id": "5d4763d8-158f-4f9a-a92f-56f0817405cc",
   "metadata": {
    "jp-MarkdownHeadingCollapsed": true
   },
   "source": [
    "## Explore landvalue Column"
   ]
  },
  {
   "cell_type": "code",
   "execution_count": null,
   "id": "fefc128e-3225-4e98-909f-2467848c8942",
   "metadata": {
    "execution": {
     "iopub.status.busy": "2025-01-25T23:35:09.211074Z",
     "iopub.status.idle": "2025-01-25T23:35:09.211383Z",
     "shell.execute_reply": "2025-01-25T23:35:09.211267Z",
     "shell.execute_reply.started": "2025-01-25T23:35:09.211255Z"
    }
   },
   "outputs": [],
   "source": [
    "# Find landvalue datatype\n",
    "\n",
    "df['landvalue'].dtype"
   ]
  },
  {
   "cell_type": "code",
   "execution_count": null,
   "id": "1173fc55-516b-4d3b-ac44-e64f3145aa99",
   "metadata": {
    "execution": {
     "iopub.status.busy": "2025-01-25T23:35:09.213523Z",
     "iopub.status.idle": "2025-01-25T23:35:09.213788Z",
     "shell.execute_reply": "2025-01-25T23:35:09.213682Z",
     "shell.execute_reply.started": "2025-01-25T23:35:09.213672Z"
    }
   },
   "outputs": [],
   "source": [
    "# Find null values in landvalue column\n",
    "\n",
    "df['landvalue'].isna().sum()"
   ]
  },
  {
   "cell_type": "markdown",
   "id": "6bca1549-73e5-43c1-b9d8-32dbd43ae69a",
   "metadata": {
    "jp-MarkdownHeadingCollapsed": true
   },
   "source": [
    "## Explore landsalevalue Column"
   ]
  },
  {
   "cell_type": "code",
   "execution_count": null,
   "id": "a1855926-8dbe-42c7-a222-6fb458ffb103",
   "metadata": {
    "execution": {
     "iopub.status.busy": "2025-01-25T23:35:09.216265Z",
     "iopub.status.idle": "2025-01-25T23:35:09.216507Z",
     "shell.execute_reply": "2025-01-25T23:35:09.216401Z",
     "shell.execute_reply.started": "2025-01-25T23:35:09.216391Z"
    }
   },
   "outputs": [],
   "source": [
    "# Find landsalevalue datatype\n",
    "\n",
    "df['landsalevalue'].dtype"
   ]
  },
  {
   "cell_type": "code",
   "execution_count": null,
   "id": "19a8b67d-2fd7-41fe-8a60-4d8b323d7e09",
   "metadata": {
    "execution": {
     "iopub.status.busy": "2025-01-25T23:35:09.218560Z",
     "iopub.status.idle": "2025-01-25T23:35:09.218807Z",
     "shell.execute_reply": "2025-01-25T23:35:09.218700Z",
     "shell.execute_reply.started": "2025-01-25T23:35:09.218690Z"
    }
   },
   "outputs": [],
   "source": [
    "# Find null values in landsalevalue column\n",
    "\n",
    "df['landsalevalue'].isna().sum()"
   ]
  },
  {
   "cell_type": "markdown",
   "id": "7b340493-1b6b-4d62-b917-9873b8792ce1",
   "metadata": {
    "jp-MarkdownHeadingCollapsed": true
   },
   "source": [
    "## Explore totalsalevalue Column"
   ]
  },
  {
   "cell_type": "code",
   "execution_count": null,
   "id": "04c63481-2763-40e1-bd16-761a39281f5d",
   "metadata": {
    "execution": {
     "iopub.status.busy": "2025-01-25T23:35:09.222030Z",
     "iopub.status.idle": "2025-01-25T23:35:09.222398Z",
     "shell.execute_reply": "2025-01-25T23:35:09.222223Z",
     "shell.execute_reply.started": "2025-01-25T23:35:09.222207Z"
    }
   },
   "outputs": [],
   "source": [
    "# Find totalsalevalue datatype\n",
    "\n",
    "df['totalsalevalue'].dtype"
   ]
  },
  {
   "cell_type": "code",
   "execution_count": null,
   "id": "6e733371-2527-4884-afc0-faa511d120b9",
   "metadata": {
    "execution": {
     "iopub.status.busy": "2025-01-25T23:35:09.225548Z",
     "iopub.status.idle": "2025-01-25T23:35:09.226097Z",
     "shell.execute_reply": "2025-01-25T23:35:09.225918Z",
     "shell.execute_reply.started": "2025-01-25T23:35:09.225902Z"
    }
   },
   "outputs": [],
   "source": [
    "# Find null values in totalsalevalue column\n",
    "\n",
    "df['totalsalevalue'].isna().sum()"
   ]
  },
  {
   "cell_type": "markdown",
   "id": "3627a2f9-f3ef-4b54-8e9d-05b14cdcba4f",
   "metadata": {},
   "source": [
    "## Explore billingclass Column"
   ]
  },
  {
   "cell_type": "code",
   "execution_count": null,
   "id": "756fa06f-0db9-4e9b-861b-a3384762eaf9",
   "metadata": {
    "execution": {
     "iopub.status.busy": "2025-01-25T23:35:09.229058Z",
     "iopub.status.idle": "2025-01-25T23:35:09.229630Z",
     "shell.execute_reply": "2025-01-25T23:35:09.229447Z",
     "shell.execute_reply.started": "2025-01-25T23:35:09.229430Z"
    }
   },
   "outputs": [],
   "source": [
    "# Find unique values in billingclass column\n",
    "\n",
    "df['billingclass'].unique()"
   ]
  },
  {
   "cell_type": "code",
   "execution_count": null,
   "id": "dd9c98b9-2d6e-47b3-abb8-8eaee8197470",
   "metadata": {
    "execution": {
     "iopub.status.busy": "2025-01-25T23:35:09.232258Z",
     "iopub.status.idle": "2025-01-25T23:35:09.232842Z",
     "shell.execute_reply": "2025-01-25T23:35:09.232633Z",
     "shell.execute_reply.started": "2025-01-25T23:35:09.232616Z"
    }
   },
   "outputs": [],
   "source": [
    "# Find number of null values in billingclass column\n",
    "\n",
    "df['billingclass'].isna().sum()"
   ]
  },
  {
   "cell_type": "markdown",
   "id": "4b563b08-04d9-40d3-8e1f-7a700eb6434a",
   "metadata": {},
   "source": [
    "## Check chathamaddress Column"
   ]
  },
  {
   "cell_type": "code",
   "execution_count": null,
   "id": "807fd7f8-7dce-428f-8f54-b6e991ebfdbc",
   "metadata": {
    "execution": {
     "iopub.status.busy": "2025-01-25T23:35:09.235470Z",
     "iopub.status.idle": "2025-01-25T23:35:09.236111Z",
     "shell.execute_reply": "2025-01-25T23:35:09.235924Z",
     "shell.execute_reply.started": "2025-01-25T23:35:09.235908Z"
    }
   },
   "outputs": [],
   "source": [
    "# Check unique values in chathamaddress column\n",
    "\n",
    "df['chathamaddress'].unique()"
   ]
  },
  {
   "cell_type": "markdown",
   "id": "c9a3ffc6-280a-4ba6-9234-0f72ada0f19b",
   "metadata": {
    "jp-MarkdownHeadingCollapsed": true
   },
   "source": [
    "## Explore geoshape Columns"
   ]
  },
  {
   "cell_type": "code",
   "execution_count": null,
   "id": "8a402f30-8ff7-41fe-b1eb-825aa40603af",
   "metadata": {
    "execution": {
     "iopub.status.busy": "2025-01-25T23:35:09.238774Z",
     "iopub.status.idle": "2025-01-25T23:35:09.239371Z",
     "shell.execute_reply": "2025-01-25T23:35:09.239188Z",
     "shell.execute_reply.started": "2025-01-25T23:35:09.239171Z"
    }
   },
   "outputs": [],
   "source": [
    "# Create dataframe using geopandas for geoshape columns\n",
    "\n",
    "gdf = gpd.GeoDataFrame(df)"
   ]
  },
  {
   "cell_type": "code",
   "execution_count": null,
   "id": "2886549d-6bc8-4818-b2a3-8d6bee5dfeaf",
   "metadata": {
    "execution": {
     "iopub.status.busy": "2025-01-25T23:35:09.241974Z",
     "iopub.status.idle": "2025-01-25T23:35:09.242525Z",
     "shell.execute_reply": "2025-01-25T23:35:09.242343Z",
     "shell.execute_reply.started": "2025-01-25T23:35:09.242327Z"
    }
   },
   "outputs": [],
   "source": [
    "# Convert WKB to geometry objects\n",
    "\n",
    "gdf['geo_shape'] = gdf['geo_shape'].apply(lambda x: wkb.loads(x))\n",
    "gdf['geo_point_2d'] = gdf['geo_point_2d'].apply(lambda x: wkb.loads(x))"
   ]
  },
  {
   "cell_type": "code",
   "execution_count": null,
   "id": "27f655d5-b3f5-4798-94f0-8ecc9dc1de16",
   "metadata": {
    "execution": {
     "iopub.status.busy": "2025-01-25T23:35:09.245132Z",
     "iopub.status.idle": "2025-01-25T23:35:09.245707Z",
     "shell.execute_reply": "2025-01-25T23:35:09.245522Z",
     "shell.execute_reply.started": "2025-01-25T23:35:09.245505Z"
    }
   },
   "outputs": [],
   "source": [
    "# Set the active geometry column (choose either 'geo_shape' or 'geo_point_2d')\n",
    "\n",
    "gdf = gdf.set_geometry('geo_shape')"
   ]
  },
  {
   "cell_type": "code",
   "execution_count": null,
   "id": "f8914500-6347-452a-af06-2d7164685dfe",
   "metadata": {
    "execution": {
     "iopub.status.busy": "2025-01-25T23:35:09.249336Z",
     "iopub.status.idle": "2025-01-25T23:35:09.249900Z",
     "shell.execute_reply": "2025-01-25T23:35:09.249719Z",
     "shell.execute_reply.started": "2025-01-25T23:35:09.249701Z"
    }
   },
   "outputs": [],
   "source": [
    "# Set the coordinate reference system (CRS) \n",
    "\n",
    "gdf.set_crs(epsg=4326, inplace=True)  "
   ]
  },
  {
   "cell_type": "code",
   "execution_count": null,
   "id": "0afd09e4-9a2e-434a-9f0d-c5ecae56cb03",
   "metadata": {
    "execution": {
     "iopub.status.busy": "2025-01-25T23:35:09.253131Z",
     "iopub.status.idle": "2025-01-25T23:35:09.253701Z",
     "shell.execute_reply": "2025-01-25T23:35:09.253516Z",
     "shell.execute_reply.started": "2025-01-25T23:35:09.253498Z"
    }
   },
   "outputs": [],
   "source": [
    "print(gdf.head())\n",
    "print(gdf.geometry.type)"
   ]
  },
  {
   "cell_type": "code",
   "execution_count": null,
   "id": "8e503048-79d4-4f03-9603-607f962aef5a",
   "metadata": {
    "execution": {
     "iopub.status.busy": "2025-01-25T23:35:09.256580Z",
     "iopub.status.idle": "2025-01-25T23:35:09.257672Z",
     "shell.execute_reply": "2025-01-25T23:35:09.257413Z",
     "shell.execute_reply.started": "2025-01-25T23:35:09.257386Z"
    }
   },
   "outputs": [],
   "source": [
    "# Plot'gdf'\n",
    "\n",
    "gdf.plot()"
   ]
  },
  {
   "cell_type": "markdown",
   "id": "7470afbe-0c58-490f-bd10-a92c4c7c5cef",
   "metadata": {
    "jp-MarkdownHeadingCollapsed": true
   },
   "source": [
    "# 05. Clean Data"
   ]
  },
  {
   "cell_type": "markdown",
   "id": "cee0aaf0-7e6a-4d61-92ca-231656a9e97a",
   "metadata": {},
   "source": [
    "## Drop Unnecessary Columns"
   ]
  },
  {
   "cell_type": "code",
   "execution_count": 155,
   "id": "baf13c39-66d2-46f3-8eef-b7b27372e125",
   "metadata": {
    "execution": {
     "iopub.execute_input": "2025-01-25T23:36:15.625683Z",
     "iopub.status.busy": "2025-01-25T23:36:15.625165Z",
     "iopub.status.idle": "2025-01-25T23:36:15.641897Z",
     "shell.execute_reply": "2025-01-25T23:36:15.641214Z",
     "shell.execute_reply.started": "2025-01-25T23:36:15.625661Z"
    }
   },
   "outputs": [],
   "source": [
    "# Define columns that need to be dropped as a dataframe\n",
    "\n",
    "columns_to_drop = ['pin', 'pin10', 'realid', 'owner', 'owner2', 'wc_city', 'wc_etj', 'township', 'wc_zoning', 'typeanduse', 'deedbook', 'deedpage', 'reallink', 'deedlink', 'ownerwholename', 'lclass'] "
   ]
  },
  {
   "cell_type": "code",
   "execution_count": 158,
   "id": "8a67846b-6073-4357-a3ad-9767d7d88edf",
   "metadata": {
    "execution": {
     "iopub.execute_input": "2025-01-25T23:36:17.664572Z",
     "iopub.status.busy": "2025-01-25T23:36:17.664219Z",
     "iopub.status.idle": "2025-01-25T23:36:17.803514Z",
     "shell.execute_reply": "2025-01-25T23:36:17.802391Z",
     "shell.execute_reply.started": "2025-01-25T23:36:17.664550Z"
    }
   },
   "outputs": [],
   "source": [
    "# Create new dataframe with dropped columns\n",
    "\n",
    "df_2 = df.drop(columns=columns_to_drop)"
   ]
  },
  {
   "cell_type": "code",
   "execution_count": 161,
   "id": "f4146ba8-0ba3-4177-ac38-7bdb1680567d",
   "metadata": {
    "execution": {
     "iopub.execute_input": "2025-01-25T23:36:19.384984Z",
     "iopub.status.busy": "2025-01-25T23:36:19.384369Z",
     "iopub.status.idle": "2025-01-25T23:36:19.426985Z",
     "shell.execute_reply": "2025-01-25T23:36:19.426368Z",
     "shell.execute_reply.started": "2025-01-25T23:36:19.384954Z"
    }
   },
   "outputs": [
    {
     "data": {
      "text/html": [
       "<div>\n",
       "<style scoped>\n",
       "    .dataframe tbody tr th:only-of-type {\n",
       "        vertical-align: middle;\n",
       "    }\n",
       "\n",
       "    .dataframe tbody tr th {\n",
       "        vertical-align: top;\n",
       "    }\n",
       "\n",
       "    .dataframe thead th {\n",
       "        text-align: right;\n",
       "    }\n",
       "</style>\n",
       "<table border=\"1\" class=\"dataframe\">\n",
       "  <thead>\n",
       "    <tr style=\"text-align: right;\">\n",
       "      <th></th>\n",
       "      <th>owneradd1</th>\n",
       "      <th>owneradd2</th>\n",
       "      <th>owneradd3</th>\n",
       "      <th>location</th>\n",
       "      <th>calcacreage</th>\n",
       "      <th>deedacres</th>\n",
       "      <th>streetnumber</th>\n",
       "      <th>streetmisc</th>\n",
       "      <th>streetprefix</th>\n",
       "      <th>streetname</th>\n",
       "      <th>streettype</th>\n",
       "      <th>streetsuffix</th>\n",
       "      <th>landclass</th>\n",
       "      <th>totalstructures</th>\n",
       "      <th>totalunits</th>\n",
       "      <th>propertydesc</th>\n",
       "      <th>bldgvalue</th>\n",
       "      <th>landvalue</th>\n",
       "      <th>landsalevalue</th>\n",
       "      <th>landsaledate</th>\n",
       "      <th>totalsalevalue</th>\n",
       "      <th>totalsaledate</th>\n",
       "      <th>cary_city</th>\n",
       "      <th>apaownership</th>\n",
       "      <th>apaactivity</th>\n",
       "      <th>apafunction</th>\n",
       "      <th>apastructure</th>\n",
       "      <th>apasite</th>\n",
       "      <th>billingclass</th>\n",
       "      <th>apaownershipdesc</th>\n",
       "      <th>apaactivitydesc</th>\n",
       "      <th>apafunctiondesc</th>\n",
       "      <th>apastructuredesc</th>\n",
       "      <th>apasitedesc</th>\n",
       "      <th>county</th>\n",
       "      <th>totalbldgsqft</th>\n",
       "      <th>typedecode</th>\n",
       "      <th>phycity</th>\n",
       "      <th>phyzip</th>\n",
       "      <th>utilities</th>\n",
       "      <th>shape_starea</th>\n",
       "      <th>shape_stlength</th>\n",
       "      <th>yearbuilt</th>\n",
       "      <th>chathamaddress</th>\n",
       "      <th>geo_shape</th>\n",
       "      <th>geo_point_2d</th>\n",
       "    </tr>\n",
       "  </thead>\n",
       "  <tbody>\n",
       "    <tr>\n",
       "      <th>0</th>\n",
       "      <td>38 SAINT PAUL AVE</td>\n",
       "      <td>None</td>\n",
       "      <td>None</td>\n",
       "      <td>613 HANSON RD</td>\n",
       "      <td>0.15</td>\n",
       "      <td>0.15</td>\n",
       "      <td>613.0</td>\n",
       "      <td>None</td>\n",
       "      <td>None</td>\n",
       "      <td>HANSON</td>\n",
       "      <td>RD</td>\n",
       "      <td>None</td>\n",
       "      <td>RES  1 FAMILY</td>\n",
       "      <td>NaN</td>\n",
       "      <td>NaN</td>\n",
       "      <td>BAY POINTE/PH:03/LT#099 PL000161-000365</td>\n",
       "      <td>195234.0</td>\n",
       "      <td>40180.0</td>\n",
       "      <td>40180.0</td>\n",
       "      <td>None</td>\n",
       "      <td>235414.0</td>\n",
       "      <td>2017-10-27</td>\n",
       "      <td>None</td>\n",
       "      <td>NaN</td>\n",
       "      <td>NaN</td>\n",
       "      <td>NaN</td>\n",
       "      <td>NaN</td>\n",
       "      <td>NaN</td>\n",
       "      <td>None</td>\n",
       "      <td>None</td>\n",
       "      <td>None</td>\n",
       "      <td>None</td>\n",
       "      <td>None</td>\n",
       "      <td>None</td>\n",
       "      <td>Durham</td>\n",
       "      <td>2080.0</td>\n",
       "      <td>None</td>\n",
       "      <td>DURHAM</td>\n",
       "      <td>27713.0</td>\n",
       "      <td>None</td>\n",
       "      <td>6451.097435</td>\n",
       "      <td>336.681551</td>\n",
       "      <td>None</td>\n",
       "      <td>None</td>\n",
       "      <td>b'\\x01\\x03\\x00\\x00\\x00\\x01\\x00\\x00\\x00\\x05\\x00...</td>\n",
       "      <td>b'\\x01\\x01\\x00\\x00\\x00;\\x87\\xfc\\xe6~\\xbaS\\xc09...</td>\n",
       "    </tr>\n",
       "    <tr>\n",
       "      <th>1</th>\n",
       "      <td>2908 LONDON BELL DR</td>\n",
       "      <td>None</td>\n",
       "      <td>None</td>\n",
       "      <td>619 HANSON RD</td>\n",
       "      <td>0.16</td>\n",
       "      <td>0.16</td>\n",
       "      <td>619.0</td>\n",
       "      <td>None</td>\n",
       "      <td>None</td>\n",
       "      <td>HANSON</td>\n",
       "      <td>RD</td>\n",
       "      <td>None</td>\n",
       "      <td>RES  1 FAMILY</td>\n",
       "      <td>NaN</td>\n",
       "      <td>NaN</td>\n",
       "      <td>BAY POINTE/PH:03/LT#096 PL000161-000365</td>\n",
       "      <td>179487.0</td>\n",
       "      <td>40705.0</td>\n",
       "      <td>40705.0</td>\n",
       "      <td>None</td>\n",
       "      <td>220192.0</td>\n",
       "      <td>2023-12-05</td>\n",
       "      <td>None</td>\n",
       "      <td>NaN</td>\n",
       "      <td>NaN</td>\n",
       "      <td>NaN</td>\n",
       "      <td>NaN</td>\n",
       "      <td>NaN</td>\n",
       "      <td>None</td>\n",
       "      <td>None</td>\n",
       "      <td>None</td>\n",
       "      <td>None</td>\n",
       "      <td>None</td>\n",
       "      <td>None</td>\n",
       "      <td>Durham</td>\n",
       "      <td>1906.0</td>\n",
       "      <td>None</td>\n",
       "      <td>DURHAM</td>\n",
       "      <td>27713.0</td>\n",
       "      <td>None</td>\n",
       "      <td>7096.203754</td>\n",
       "      <td>354.824260</td>\n",
       "      <td>None</td>\n",
       "      <td>None</td>\n",
       "      <td>b'\\x01\\x03\\x00\\x00\\x00\\x01\\x00\\x00\\x00\\x07\\x00...</td>\n",
       "      <td>b'\\x01\\x01\\x00\\x00\\x00\\xa3U\\xce\\xfat\\xbaS\\xc0\\...</td>\n",
       "    </tr>\n",
       "    <tr>\n",
       "      <th>2</th>\n",
       "      <td>1411 CARRICKFERGUS CT</td>\n",
       "      <td>None</td>\n",
       "      <td>None</td>\n",
       "      <td>1411 CARRICKFERGUS CT</td>\n",
       "      <td>0.22</td>\n",
       "      <td>0.22</td>\n",
       "      <td>1411.0</td>\n",
       "      <td>None</td>\n",
       "      <td>None</td>\n",
       "      <td>CARRICKFERGUS</td>\n",
       "      <td>CT</td>\n",
       "      <td>None</td>\n",
       "      <td>RES  1 FAMILY</td>\n",
       "      <td>NaN</td>\n",
       "      <td>NaN</td>\n",
       "      <td>OAKHAVEN/LT#15 PL000161-000075</td>\n",
       "      <td>275711.0</td>\n",
       "      <td>75937.0</td>\n",
       "      <td>75937.0</td>\n",
       "      <td>None</td>\n",
       "      <td>351648.0</td>\n",
       "      <td>None</td>\n",
       "      <td>None</td>\n",
       "      <td>NaN</td>\n",
       "      <td>NaN</td>\n",
       "      <td>NaN</td>\n",
       "      <td>NaN</td>\n",
       "      <td>NaN</td>\n",
       "      <td>None</td>\n",
       "      <td>None</td>\n",
       "      <td>None</td>\n",
       "      <td>None</td>\n",
       "      <td>None</td>\n",
       "      <td>None</td>\n",
       "      <td>Durham</td>\n",
       "      <td>3200.0</td>\n",
       "      <td>None</td>\n",
       "      <td>DURHAM</td>\n",
       "      <td>27713.0</td>\n",
       "      <td>None</td>\n",
       "      <td>9361.373133</td>\n",
       "      <td>405.469398</td>\n",
       "      <td>None</td>\n",
       "      <td>None</td>\n",
       "      <td>b'\\x01\\x03\\x00\\x00\\x00\\x01\\x00\\x00\\x00\\x1d\\x00...</td>\n",
       "      <td>b'\\x01\\x01\\x00\\x00\\x00\\xdf\\\\\\xfe\\x8d\\xc3\\xbbS\\...</td>\n",
       "    </tr>\n",
       "    <tr>\n",
       "      <th>3</th>\n",
       "      <td>4532 SHADY SIDE LN</td>\n",
       "      <td>None</td>\n",
       "      <td>None</td>\n",
       "      <td>4532 SHADY SIDE LN</td>\n",
       "      <td>0.13</td>\n",
       "      <td>0.13</td>\n",
       "      <td>4532.0</td>\n",
       "      <td>None</td>\n",
       "      <td>None</td>\n",
       "      <td>SHADY SIDE</td>\n",
       "      <td>LN</td>\n",
       "      <td>None</td>\n",
       "      <td>RES  1 FAMILY</td>\n",
       "      <td>NaN</td>\n",
       "      <td>NaN</td>\n",
       "      <td>BAY POINTE/PH:03/LT#069 PL000161-000365</td>\n",
       "      <td>203620.0</td>\n",
       "      <td>39480.0</td>\n",
       "      <td>39480.0</td>\n",
       "      <td>None</td>\n",
       "      <td>243100.0</td>\n",
       "      <td>None</td>\n",
       "      <td>None</td>\n",
       "      <td>NaN</td>\n",
       "      <td>NaN</td>\n",
       "      <td>NaN</td>\n",
       "      <td>NaN</td>\n",
       "      <td>NaN</td>\n",
       "      <td>None</td>\n",
       "      <td>None</td>\n",
       "      <td>None</td>\n",
       "      <td>None</td>\n",
       "      <td>None</td>\n",
       "      <td>None</td>\n",
       "      <td>Durham</td>\n",
       "      <td>2308.0</td>\n",
       "      <td>None</td>\n",
       "      <td>DURHAM</td>\n",
       "      <td>27713.0</td>\n",
       "      <td>None</td>\n",
       "      <td>5588.978748</td>\n",
       "      <td>310.423891</td>\n",
       "      <td>None</td>\n",
       "      <td>None</td>\n",
       "      <td>b'\\x01\\x03\\x00\\x00\\x00\\x01\\x00\\x00\\x00\\x07\\x00...</td>\n",
       "      <td>b'\\x01\\x01\\x00\\x00\\x00\\x036\\xbd\\x00q\\xbaS\\xc0\\...</td>\n",
       "    </tr>\n",
       "    <tr>\n",
       "      <th>4</th>\n",
       "      <td>3608 RAMBIR DR</td>\n",
       "      <td>None</td>\n",
       "      <td>None</td>\n",
       "      <td>3608 RANBIR DR</td>\n",
       "      <td>0.28</td>\n",
       "      <td>0.28</td>\n",
       "      <td>3608.0</td>\n",
       "      <td>None</td>\n",
       "      <td>None</td>\n",
       "      <td>RANBIR</td>\n",
       "      <td>DR</td>\n",
       "      <td>None</td>\n",
       "      <td>RES  1 FAMILY</td>\n",
       "      <td>NaN</td>\n",
       "      <td>NaN</td>\n",
       "      <td>LOCHSIDE/PH:01/LT#105 PL000165-000308</td>\n",
       "      <td>163464.0</td>\n",
       "      <td>57600.0</td>\n",
       "      <td>57600.0</td>\n",
       "      <td>None</td>\n",
       "      <td>221064.0</td>\n",
       "      <td>2013-06-27</td>\n",
       "      <td>None</td>\n",
       "      <td>NaN</td>\n",
       "      <td>NaN</td>\n",
       "      <td>NaN</td>\n",
       "      <td>NaN</td>\n",
       "      <td>NaN</td>\n",
       "      <td>None</td>\n",
       "      <td>None</td>\n",
       "      <td>None</td>\n",
       "      <td>None</td>\n",
       "      <td>None</td>\n",
       "      <td>None</td>\n",
       "      <td>Durham</td>\n",
       "      <td>1567.0</td>\n",
       "      <td>None</td>\n",
       "      <td>DURHAM</td>\n",
       "      <td>27713.0</td>\n",
       "      <td>None</td>\n",
       "      <td>12205.491128</td>\n",
       "      <td>453.505217</td>\n",
       "      <td>None</td>\n",
       "      <td>None</td>\n",
       "      <td>b'\\x01\\x03\\x00\\x00\\x00\\x01\\x00\\x00\\x00\\x07\\x00...</td>\n",
       "      <td>b'\\x01\\x01\\x00\\x00\\x00d\\xc3\\x03\\x0f}\\xb9S\\xc0\\...</td>\n",
       "    </tr>\n",
       "  </tbody>\n",
       "</table>\n",
       "</div>"
      ],
      "text/plain": [
       "               owneradd1 owneradd2 owneradd3               location  \\\n",
       "0      38 SAINT PAUL AVE      None      None          613 HANSON RD   \n",
       "1    2908 LONDON BELL DR      None      None          619 HANSON RD   \n",
       "2  1411 CARRICKFERGUS CT      None      None  1411 CARRICKFERGUS CT   \n",
       "3     4532 SHADY SIDE LN      None      None     4532 SHADY SIDE LN   \n",
       "4         3608 RAMBIR DR      None      None         3608 RANBIR DR   \n",
       "\n",
       "   calcacreage  deedacres  streetnumber streetmisc streetprefix  \\\n",
       "0         0.15       0.15         613.0       None         None   \n",
       "1         0.16       0.16         619.0       None         None   \n",
       "2         0.22       0.22        1411.0       None         None   \n",
       "3         0.13       0.13        4532.0       None         None   \n",
       "4         0.28       0.28        3608.0       None         None   \n",
       "\n",
       "      streetname streettype streetsuffix      landclass  totalstructures  \\\n",
       "0         HANSON         RD         None  RES  1 FAMILY              NaN   \n",
       "1         HANSON         RD         None  RES  1 FAMILY              NaN   \n",
       "2  CARRICKFERGUS         CT         None  RES  1 FAMILY              NaN   \n",
       "3     SHADY SIDE         LN         None  RES  1 FAMILY              NaN   \n",
       "4         RANBIR         DR         None  RES  1 FAMILY              NaN   \n",
       "\n",
       "   totalunits                             propertydesc  bldgvalue  landvalue  \\\n",
       "0         NaN  BAY POINTE/PH:03/LT#099 PL000161-000365   195234.0    40180.0   \n",
       "1         NaN  BAY POINTE/PH:03/LT#096 PL000161-000365   179487.0    40705.0   \n",
       "2         NaN           OAKHAVEN/LT#15 PL000161-000075   275711.0    75937.0   \n",
       "3         NaN  BAY POINTE/PH:03/LT#069 PL000161-000365   203620.0    39480.0   \n",
       "4         NaN    LOCHSIDE/PH:01/LT#105 PL000165-000308   163464.0    57600.0   \n",
       "\n",
       "   landsalevalue landsaledate  totalsalevalue totalsaledate cary_city  \\\n",
       "0        40180.0         None        235414.0    2017-10-27      None   \n",
       "1        40705.0         None        220192.0    2023-12-05      None   \n",
       "2        75937.0         None        351648.0          None      None   \n",
       "3        39480.0         None        243100.0          None      None   \n",
       "4        57600.0         None        221064.0    2013-06-27      None   \n",
       "\n",
       "   apaownership  apaactivity  apafunction  apastructure  apasite billingclass  \\\n",
       "0           NaN          NaN          NaN           NaN      NaN         None   \n",
       "1           NaN          NaN          NaN           NaN      NaN         None   \n",
       "2           NaN          NaN          NaN           NaN      NaN         None   \n",
       "3           NaN          NaN          NaN           NaN      NaN         None   \n",
       "4           NaN          NaN          NaN           NaN      NaN         None   \n",
       "\n",
       "  apaownershipdesc apaactivitydesc apafunctiondesc apastructuredesc  \\\n",
       "0             None            None            None             None   \n",
       "1             None            None            None             None   \n",
       "2             None            None            None             None   \n",
       "3             None            None            None             None   \n",
       "4             None            None            None             None   \n",
       "\n",
       "  apasitedesc  county  totalbldgsqft typedecode phycity   phyzip utilities  \\\n",
       "0        None  Durham         2080.0       None  DURHAM  27713.0      None   \n",
       "1        None  Durham         1906.0       None  DURHAM  27713.0      None   \n",
       "2        None  Durham         3200.0       None  DURHAM  27713.0      None   \n",
       "3        None  Durham         2308.0       None  DURHAM  27713.0      None   \n",
       "4        None  Durham         1567.0       None  DURHAM  27713.0      None   \n",
       "\n",
       "   shape_starea  shape_stlength yearbuilt chathamaddress  \\\n",
       "0   6451.097435      336.681551      None           None   \n",
       "1   7096.203754      354.824260      None           None   \n",
       "2   9361.373133      405.469398      None           None   \n",
       "3   5588.978748      310.423891      None           None   \n",
       "4  12205.491128      453.505217      None           None   \n",
       "\n",
       "                                           geo_shape  \\\n",
       "0  b'\\x01\\x03\\x00\\x00\\x00\\x01\\x00\\x00\\x00\\x05\\x00...   \n",
       "1  b'\\x01\\x03\\x00\\x00\\x00\\x01\\x00\\x00\\x00\\x07\\x00...   \n",
       "2  b'\\x01\\x03\\x00\\x00\\x00\\x01\\x00\\x00\\x00\\x1d\\x00...   \n",
       "3  b'\\x01\\x03\\x00\\x00\\x00\\x01\\x00\\x00\\x00\\x07\\x00...   \n",
       "4  b'\\x01\\x03\\x00\\x00\\x00\\x01\\x00\\x00\\x00\\x07\\x00...   \n",
       "\n",
       "                                        geo_point_2d  \n",
       "0  b'\\x01\\x01\\x00\\x00\\x00;\\x87\\xfc\\xe6~\\xbaS\\xc09...  \n",
       "1  b'\\x01\\x01\\x00\\x00\\x00\\xa3U\\xce\\xfat\\xbaS\\xc0\\...  \n",
       "2  b'\\x01\\x01\\x00\\x00\\x00\\xdf\\\\\\xfe\\x8d\\xc3\\xbbS\\...  \n",
       "3  b'\\x01\\x01\\x00\\x00\\x00\\x036\\xbd\\x00q\\xbaS\\xc0\\...  \n",
       "4  b'\\x01\\x01\\x00\\x00\\x00d\\xc3\\x03\\x0f}\\xb9S\\xc0\\...  "
      ]
     },
     "execution_count": 161,
     "metadata": {},
     "output_type": "execute_result"
    }
   ],
   "source": [
    "# Check output of df_2\n",
    "\n",
    "df_2.head()"
   ]
  },
  {
   "cell_type": "markdown",
   "id": "4ce9e948-c9fb-4da2-8ec7-5683689ed770",
   "metadata": {},
   "source": [
    "## Drop Unneccessary Rows"
   ]
  },
  {
   "cell_type": "code",
   "execution_count": 164,
   "id": "a287de18-c909-4437-b5ee-9e1e68ac30a8",
   "metadata": {
    "execution": {
     "iopub.execute_input": "2025-01-25T23:36:24.399148Z",
     "iopub.status.busy": "2025-01-25T23:36:24.398681Z",
     "iopub.status.idle": "2025-01-25T23:36:24.560906Z",
     "shell.execute_reply": "2025-01-25T23:36:24.560258Z",
     "shell.execute_reply.started": "2025-01-25T23:36:24.399115Z"
    }
   },
   "outputs": [],
   "source": [
    "# Drop rows where values in 'location' column are null (should only be 125 rows)\n",
    "\n",
    "df_3 = df_2.dropna(subset=['location'])"
   ]
  },
  {
   "cell_type": "code",
   "execution_count": 167,
   "id": "6de49194-bde5-448e-ad24-623c5fbeaae4",
   "metadata": {
    "execution": {
     "iopub.execute_input": "2025-01-25T23:36:26.706705Z",
     "iopub.status.busy": "2025-01-25T23:36:26.706269Z",
     "iopub.status.idle": "2025-01-25T23:36:26.774490Z",
     "shell.execute_reply": "2025-01-25T23:36:26.773864Z",
     "shell.execute_reply.started": "2025-01-25T23:36:26.706678Z"
    }
   },
   "outputs": [
    {
     "data": {
      "text/plain": [
       "array(['613 HANSON RD', '619 HANSON RD', '1411 CARRICKFERGUS CT', ...,\n",
       "       '7110 CRESTED IRIS PL', '2002 NOLA LN', '7105 CRESTED IRIS PL'],\n",
       "      dtype=object)"
      ]
     },
     "execution_count": 167,
     "metadata": {},
     "output_type": "execute_result"
    }
   ],
   "source": [
    "# Check df_3 unique values\n",
    "\n",
    "df_3['location'].unique()"
   ]
  },
  {
   "cell_type": "code",
   "execution_count": 170,
   "id": "7de1ef30-25b4-4358-b9ac-8f17d41d99d0",
   "metadata": {
    "execution": {
     "iopub.execute_input": "2025-01-25T23:36:29.550530Z",
     "iopub.status.busy": "2025-01-25T23:36:29.549848Z",
     "iopub.status.idle": "2025-01-25T23:36:29.566514Z",
     "shell.execute_reply": "2025-01-25T23:36:29.565762Z",
     "shell.execute_reply.started": "2025-01-25T23:36:29.550500Z"
    }
   },
   "outputs": [
    {
     "data": {
      "text/plain": [
       "(294391, 46)"
      ]
     },
     "execution_count": 170,
     "metadata": {},
     "output_type": "execute_result"
    }
   ],
   "source": [
    "# Check df_3 shape\n",
    "\n",
    "df_3.shape"
   ]
  },
  {
   "cell_type": "markdown",
   "id": "1bde01aa-989b-43fd-bf3c-093edd299b60",
   "metadata": {},
   "source": [
    "### Check Property Value Columns After Dropping Rows"
   ]
  },
  {
   "cell_type": "code",
   "execution_count": 173,
   "id": "d07e18d1-6abc-4b44-833d-831943b90e90",
   "metadata": {
    "execution": {
     "iopub.execute_input": "2025-01-25T23:36:33.745372Z",
     "iopub.status.busy": "2025-01-25T23:36:33.744959Z",
     "iopub.status.idle": "2025-01-25T23:36:33.763739Z",
     "shell.execute_reply": "2025-01-25T23:36:33.763209Z",
     "shell.execute_reply.started": "2025-01-25T23:36:33.745351Z"
    }
   },
   "outputs": [
    {
     "data": {
      "text/plain": [
       "2374"
      ]
     },
     "execution_count": 173,
     "metadata": {},
     "output_type": "execute_result"
    }
   ],
   "source": [
    "df_3['totalsalevalue'].isna().sum()"
   ]
  },
  {
   "cell_type": "code",
   "execution_count": 176,
   "id": "e52de264-84a7-4670-bc1b-26cfb8cd12bb",
   "metadata": {
    "execution": {
     "iopub.execute_input": "2025-01-25T23:36:36.056132Z",
     "iopub.status.busy": "2025-01-25T23:36:36.055906Z",
     "iopub.status.idle": "2025-01-25T23:36:36.076479Z",
     "shell.execute_reply": "2025-01-25T23:36:36.075865Z",
     "shell.execute_reply.started": "2025-01-25T23:36:36.056113Z"
    }
   },
   "outputs": [
    {
     "data": {
      "text/plain": [
       "15747"
      ]
     },
     "execution_count": 176,
     "metadata": {},
     "output_type": "execute_result"
    }
   ],
   "source": [
    "df_3['landsalevalue'].isna().sum()"
   ]
  },
  {
   "cell_type": "code",
   "execution_count": 179,
   "id": "dd79a6b7-1a59-4fde-9d72-c032301debbc",
   "metadata": {
    "execution": {
     "iopub.execute_input": "2025-01-25T23:36:37.463833Z",
     "iopub.status.busy": "2025-01-25T23:36:37.463513Z",
     "iopub.status.idle": "2025-01-25T23:36:37.484170Z",
     "shell.execute_reply": "2025-01-25T23:36:37.483409Z",
     "shell.execute_reply.started": "2025-01-25T23:36:37.463812Z"
    }
   },
   "outputs": [
    {
     "data": {
      "text/plain": [
       "2301"
      ]
     },
     "execution_count": 179,
     "metadata": {},
     "output_type": "execute_result"
    }
   ],
   "source": [
    "df_3['bldgvalue'].isna().sum()"
   ]
  },
  {
   "cell_type": "code",
   "execution_count": 182,
   "id": "7ad73e1d-f412-4a24-80ff-caf261cceb6f",
   "metadata": {
    "execution": {
     "iopub.execute_input": "2025-01-25T23:36:38.898862Z",
     "iopub.status.busy": "2025-01-25T23:36:38.898478Z",
     "iopub.status.idle": "2025-01-25T23:36:38.919019Z",
     "shell.execute_reply": "2025-01-25T23:36:38.918415Z",
     "shell.execute_reply.started": "2025-01-25T23:36:38.898842Z"
    }
   },
   "outputs": [
    {
     "data": {
      "text/plain": [
       "2301"
      ]
     },
     "execution_count": 182,
     "metadata": {},
     "output_type": "execute_result"
    }
   ],
   "source": [
    "df_3['landvalue'].isna().sum()"
   ]
  },
  {
   "cell_type": "markdown",
   "id": "b3f3a50e-0e66-4776-b7c4-240396d1fbfa",
   "metadata": {},
   "source": [
    "## Change Column Data Types"
   ]
  },
  {
   "cell_type": "markdown",
   "id": "6aebef18-46fe-4896-a370-af5e5c50f957",
   "metadata": {},
   "source": [
    "### Change streetnumber datatype"
   ]
  },
  {
   "cell_type": "code",
   "execution_count": 185,
   "id": "34dd3333-636c-4b58-8d62-3cb21432167d",
   "metadata": {
    "execution": {
     "iopub.execute_input": "2025-01-25T23:36:44.086255Z",
     "iopub.status.busy": "2025-01-25T23:36:44.085701Z",
     "iopub.status.idle": "2025-01-25T23:36:44.106832Z",
     "shell.execute_reply": "2025-01-25T23:36:44.106154Z",
     "shell.execute_reply.started": "2025-01-25T23:36:44.086228Z"
    },
    "scrolled": true
   },
   "outputs": [
    {
     "name": "stdout",
     "output_type": "stream",
     "text": [
      "The 'streetnumber' column contains non-numeric values.\n",
      "Non-numeric values:\n",
      "18743    NaN\n",
      "18745    NaN\n",
      "18747    NaN\n",
      "18749    NaN\n",
      "18751    NaN\n",
      "          ..\n",
      "287983   NaN\n",
      "287984   NaN\n",
      "287988   NaN\n",
      "287989   NaN\n",
      "287993   NaN\n",
      "Name: streetnumber, Length: 13507, dtype: float64\n"
     ]
    }
   ],
   "source": [
    "# Check if any variables are non-numeric in streetnumber\n",
    "\n",
    "non_numeric = pd.to_numeric(df_3['streetnumber'], errors='coerce').isna()\n",
    "has_non_numeric = non_numeric.any()\n",
    "\n",
    "if has_non_numeric:\n",
    "    print(\"The 'streetnumber' column contains non-numeric values.\")\n",
    "    non_numeric_values = df_3.loc[non_numeric, 'streetnumber']\n",
    "    print(\"Non-numeric values:\")\n",
    "    print(non_numeric_values)\n",
    "else:\n",
    "    print(\"All values in the 'streetnumber' column are numeric.\")"
   ]
  },
  {
   "cell_type": "code",
   "execution_count": 188,
   "id": "60f0d350-e489-4141-91ce-5604cc013391",
   "metadata": {
    "execution": {
     "iopub.execute_input": "2025-01-25T23:36:46.643724Z",
     "iopub.status.busy": "2025-01-25T23:36:46.643212Z",
     "iopub.status.idle": "2025-01-25T23:36:46.678643Z",
     "shell.execute_reply": "2025-01-25T23:36:46.678037Z",
     "shell.execute_reply.started": "2025-01-25T23:36:46.643702Z"
    }
   },
   "outputs": [
    {
     "name": "stdout",
     "output_type": "stream",
     "text": [
      "Warning: Some street numbers have decimal values.\n"
     ]
    }
   ],
   "source": [
    "# Provides warning of having decimals; picking up NaN values?\n",
    "\n",
    "has_decimals = (df_3['streetnumber'] % 1 != 0).any()\n",
    "if has_decimals:\n",
    "    print(\"Warning: Some street numbers have decimal values.\")"
   ]
  },
  {
   "cell_type": "code",
   "execution_count": 191,
   "id": "9f6f00fb-c3dd-48a5-ad4b-a1e46ce038b4",
   "metadata": {
    "execution": {
     "iopub.execute_input": "2025-01-25T23:36:51.369179Z",
     "iopub.status.busy": "2025-01-25T23:36:51.368684Z",
     "iopub.status.idle": "2025-01-25T23:36:51.410799Z",
     "shell.execute_reply": "2025-01-25T23:36:51.410007Z",
     "shell.execute_reply.started": "2025-01-25T23:36:51.369152Z"
    }
   },
   "outputs": [
    {
     "name": "stdout",
     "output_type": "stream",
     "text": [
      "18743   NaN\n",
      "18745   NaN\n",
      "18747   NaN\n",
      "18749   NaN\n",
      "18751   NaN\n",
      "18753   NaN\n",
      "18755   NaN\n",
      "18757   NaN\n",
      "18759   NaN\n",
      "18761   NaN\n",
      "Name: streetnumber, dtype: float64\n"
     ]
    }
   ],
   "source": [
    "# prints 'decimal values'\n",
    "\n",
    "non_integer = df_3[df_3['streetnumber'] % 1 != 0]['streetnumber']\n",
    "print(non_integer.head(10))"
   ]
  },
  {
   "cell_type": "code",
   "execution_count": 194,
   "id": "8385f628-be10-4774-b52d-7a5b38ae4055",
   "metadata": {
    "execution": {
     "iopub.execute_input": "2025-01-25T23:36:54.302969Z",
     "iopub.status.busy": "2025-01-25T23:36:54.302589Z",
     "iopub.status.idle": "2025-01-25T23:36:54.344980Z",
     "shell.execute_reply": "2025-01-25T23:36:54.344250Z",
     "shell.execute_reply.started": "2025-01-25T23:36:54.302948Z"
    }
   },
   "outputs": [
    {
     "name": "stderr",
     "output_type": "stream",
     "text": [
      "/tmp/ipykernel_4286/1337130767.py:3: SettingWithCopyWarning: \n",
      "A value is trying to be set on a copy of a slice from a DataFrame.\n",
      "Try using .loc[row_indexer,col_indexer] = value instead\n",
      "\n",
      "See the caveats in the documentation: https://pandas.pydata.org/pandas-docs/stable/user_guide/indexing.html#returning-a-view-versus-a-copy\n",
      "  df_3['streetnumber'] = df_3['streetnumber'].astype('Int64')\n"
     ]
    }
   ],
   "source": [
    "# Change streetnumber to Int64 (to preserve NaN values while converting other numeric values to integers)\n",
    "\n",
    "df_3['streetnumber'] = df_3['streetnumber'].astype('Int64')"
   ]
  },
  {
   "cell_type": "code",
   "execution_count": 197,
   "id": "9d21ed95-af78-4b72-acd9-28121a101b4c",
   "metadata": {
    "execution": {
     "iopub.execute_input": "2025-01-25T23:36:56.204140Z",
     "iopub.status.busy": "2025-01-25T23:36:56.203600Z",
     "iopub.status.idle": "2025-01-25T23:36:56.224222Z",
     "shell.execute_reply": "2025-01-25T23:36:56.223538Z",
     "shell.execute_reply.started": "2025-01-25T23:36:56.204118Z"
    }
   },
   "outputs": [
    {
     "data": {
      "text/plain": [
       "0     613\n",
       "1     619\n",
       "2    1411\n",
       "3    4532\n",
       "4    3608\n",
       "5       2\n",
       "6     124\n",
       "7     332\n",
       "8    1313\n",
       "9    7604\n",
       "Name: streetnumber, dtype: Int64"
      ]
     },
     "execution_count": 197,
     "metadata": {},
     "output_type": "execute_result"
    }
   ],
   "source": [
    "#Checks output of streetnumber column\n",
    "\n",
    "df_3['streetnumber'].head(10)"
   ]
  },
  {
   "cell_type": "markdown",
   "id": "52d3e88e-740f-4c53-9ef1-65387c330a54",
   "metadata": {},
   "source": [
    "### Convert totalsaledate to datetime64 Datatype"
   ]
  },
  {
   "cell_type": "code",
   "execution_count": 200,
   "id": "ad8e7b32-cf8d-493d-a85f-f1d772c38d44",
   "metadata": {
    "execution": {
     "iopub.execute_input": "2025-01-25T23:36:58.871364Z",
     "iopub.status.busy": "2025-01-25T23:36:58.870735Z",
     "iopub.status.idle": "2025-01-25T23:36:58.923561Z",
     "shell.execute_reply": "2025-01-25T23:36:58.922864Z",
     "shell.execute_reply.started": "2025-01-25T23:36:58.871337Z"
    }
   },
   "outputs": [
    {
     "name": "stderr",
     "output_type": "stream",
     "text": [
      "/tmp/ipykernel_4286/1229168868.py:3: SettingWithCopyWarning: \n",
      "A value is trying to be set on a copy of a slice from a DataFrame.\n",
      "Try using .loc[row_indexer,col_indexer] = value instead\n",
      "\n",
      "See the caveats in the documentation: https://pandas.pydata.org/pandas-docs/stable/user_guide/indexing.html#returning-a-view-versus-a-copy\n",
      "  df_3['totalsaledate'] = pd.to_datetime(df_3['totalsaledate'])\n"
     ]
    }
   ],
   "source": [
    "# Convert totalsaledate to datetime64\n",
    "\n",
    "df_3['totalsaledate'] = pd.to_datetime(df_3['totalsaledate'])"
   ]
  },
  {
   "cell_type": "code",
   "execution_count": 203,
   "id": "3ee8ef3c-0da5-47de-93f3-a5fc661e93eb",
   "metadata": {
    "execution": {
     "iopub.execute_input": "2025-01-25T23:37:02.841618Z",
     "iopub.status.busy": "2025-01-25T23:37:02.840945Z",
     "iopub.status.idle": "2025-01-25T23:37:02.861929Z",
     "shell.execute_reply": "2025-01-25T23:37:02.859984Z",
     "shell.execute_reply.started": "2025-01-25T23:37:02.841595Z"
    }
   },
   "outputs": [
    {
     "name": "stdout",
     "output_type": "stream",
     "text": [
      "datetime64[ns]\n",
      "77286\n"
     ]
    }
   ],
   "source": [
    "# Check output of totalsaledate\n",
    "\n",
    "print(df_3['totalsaledate'].dtype)  # Should output: datetime64[ns]\n",
    "print(df_3['totalsaledate'].isna().sum())  # Count missing values"
   ]
  },
  {
   "cell_type": "code",
   "execution_count": 206,
   "id": "bcf1b4d6-53d2-4ba6-b695-7a5e98a20a19",
   "metadata": {
    "execution": {
     "iopub.execute_input": "2025-01-25T23:37:05.208793Z",
     "iopub.status.busy": "2025-01-25T23:37:05.208536Z",
     "iopub.status.idle": "2025-01-25T23:37:05.233014Z",
     "shell.execute_reply": "2025-01-25T23:37:05.232106Z",
     "shell.execute_reply.started": "2025-01-25T23:37:05.208773Z"
    }
   },
   "outputs": [
    {
     "name": "stdout",
     "output_type": "stream",
     "text": [
      "1961-01-01 00:00:00 2024-12-27 00:00:00\n"
     ]
    }
   ],
   "source": [
    "# Check for date outliers\n",
    "\n",
    "print(df_3['totalsaledate'].min(), df_3['totalsaledate'].max())"
   ]
  },
  {
   "cell_type": "code",
   "execution_count": 209,
   "id": "bb9e77ca-6d5a-4ca2-a472-4b226809f7a8",
   "metadata": {
    "execution": {
     "iopub.execute_input": "2025-01-25T23:37:07.410567Z",
     "iopub.status.busy": "2025-01-25T23:37:07.410237Z",
     "iopub.status.idle": "2025-01-25T23:37:07.431127Z",
     "shell.execute_reply": "2025-01-25T23:37:07.430359Z",
     "shell.execute_reply.started": "2025-01-25T23:37:07.410537Z"
    }
   },
   "outputs": [
    {
     "data": {
      "text/plain": [
       "0   2017-10-27\n",
       "1   2023-12-05\n",
       "2          NaT\n",
       "3          NaT\n",
       "4   2013-06-27\n",
       "5   2023-10-26\n",
       "6   2017-12-28\n",
       "7   2019-11-26\n",
       "8   2016-05-03\n",
       "9   2014-10-20\n",
       "Name: totalsaledate, dtype: datetime64[ns]"
      ]
     },
     "execution_count": 209,
     "metadata": {},
     "output_type": "execute_result"
    }
   ],
   "source": [
    "# Check column head\n",
    "\n",
    "df_3['totalsaledate'].head(10)"
   ]
  },
  {
   "cell_type": "code",
   "execution_count": 212,
   "id": "bc191400-195a-47bd-9ff3-8a8a0f16b42d",
   "metadata": {
    "execution": {
     "iopub.execute_input": "2025-01-25T23:37:09.584333Z",
     "iopub.status.busy": "2025-01-25T23:37:09.583832Z",
     "iopub.status.idle": "2025-01-25T23:37:09.604546Z",
     "shell.execute_reply": "2025-01-25T23:37:09.603768Z",
     "shell.execute_reply.started": "2025-01-25T23:37:09.584303Z"
    }
   },
   "outputs": [
    {
     "data": {
      "text/plain": [
       "<DatetimeArray>\n",
       "['2017-10-27 00:00:00', '2023-12-05 00:00:00',                 'NaT',\n",
       " '2013-06-27 00:00:00', '2023-10-26 00:00:00', '2017-12-28 00:00:00',\n",
       " '2019-11-26 00:00:00', '2016-05-03 00:00:00', '2014-10-20 00:00:00',\n",
       " '2021-10-22 00:00:00',\n",
       " ...\n",
       " '1996-12-28 00:00:00', '1987-03-04 00:00:00', '1984-01-16 00:00:00',\n",
       " '1987-10-22 00:00:00', '2019-03-24 00:00:00', '2015-01-11 00:00:00',\n",
       " '2014-04-19 00:00:00', '2014-12-21 00:00:00', '2019-05-12 00:00:00',\n",
       " '1984-10-09 00:00:00']\n",
       "Length: 10519, dtype: datetime64[ns]"
      ]
     },
     "execution_count": 212,
     "metadata": {},
     "output_type": "execute_result"
    }
   ],
   "source": [
    "df_3['totalsaledate'].unique()"
   ]
  },
  {
   "cell_type": "markdown",
   "id": "293a86ee-faac-4df6-94cb-40c43df3edf7",
   "metadata": {},
   "source": [
    "### Convert yearbuilt to datetime64 Datatype"
   ]
  },
  {
   "cell_type": "code",
   "execution_count": 216,
   "id": "edfe4260-6bde-4ba8-a3b6-cb639886faca",
   "metadata": {
    "execution": {
     "iopub.execute_input": "2025-01-25T23:37:15.069380Z",
     "iopub.status.busy": "2025-01-25T23:37:15.068966Z",
     "iopub.status.idle": "2025-01-25T23:37:15.120594Z",
     "shell.execute_reply": "2025-01-25T23:37:15.119619Z",
     "shell.execute_reply.started": "2025-01-25T23:37:15.069358Z"
    }
   },
   "outputs": [
    {
     "name": "stderr",
     "output_type": "stream",
     "text": [
      "/tmp/ipykernel_4286/3433218108.py:3: SettingWithCopyWarning: \n",
      "A value is trying to be set on a copy of a slice from a DataFrame.\n",
      "Try using .loc[row_indexer,col_indexer] = value instead\n",
      "\n",
      "See the caveats in the documentation: https://pandas.pydata.org/pandas-docs/stable/user_guide/indexing.html#returning-a-view-versus-a-copy\n",
      "  df_3['yearbuilt'] = pd.to_datetime(df_3['yearbuilt'])\n"
     ]
    }
   ],
   "source": [
    "# Convert yearbuilt to datetime64\n",
    "\n",
    "df_3['yearbuilt'] = pd.to_datetime(df_3['yearbuilt'])"
   ]
  },
  {
   "cell_type": "code",
   "execution_count": 219,
   "id": "f63aac12-4c33-42bb-ba25-a2adaa237bdf",
   "metadata": {
    "execution": {
     "iopub.execute_input": "2025-01-25T23:37:15.895320Z",
     "iopub.status.busy": "2025-01-25T23:37:15.894951Z",
     "iopub.status.idle": "2025-01-25T23:37:15.915246Z",
     "shell.execute_reply": "2025-01-25T23:37:15.914618Z",
     "shell.execute_reply.started": "2025-01-25T23:37:15.895298Z"
    }
   },
   "outputs": [
    {
     "name": "stdout",
     "output_type": "stream",
     "text": [
      "datetime64[ns]\n",
      "101627\n"
     ]
    }
   ],
   "source": [
    "# Check output of yearbuilt\n",
    "\n",
    "print(df_3['yearbuilt'].dtype)  # Should output: datetime64[ns]\n",
    "print(df_3['yearbuilt'].isna().sum())  # Count missing values"
   ]
  },
  {
   "cell_type": "markdown",
   "id": "867df4d8-de5e-4946-a83a-59291fc7aab1",
   "metadata": {},
   "source": [
    "### Change phyzip Datatype"
   ]
  },
  {
   "cell_type": "code",
   "execution_count": 223,
   "id": "71c327be-7d2c-4d94-af6b-edc24ec753ac",
   "metadata": {
    "execution": {
     "iopub.execute_input": "2025-01-25T23:37:19.238196Z",
     "iopub.status.busy": "2025-01-25T23:37:19.237540Z",
     "iopub.status.idle": "2025-01-25T23:37:19.296883Z",
     "shell.execute_reply": "2025-01-25T23:37:19.296064Z",
     "shell.execute_reply.started": "2025-01-25T23:37:19.238167Z"
    }
   },
   "outputs": [
    {
     "name": "stderr",
     "output_type": "stream",
     "text": [
      "/tmp/ipykernel_4286/3926436692.py:3: SettingWithCopyWarning: \n",
      "A value is trying to be set on a copy of a slice from a DataFrame.\n",
      "Try using .loc[row_indexer,col_indexer] = value instead\n",
      "\n",
      "See the caveats in the documentation: https://pandas.pydata.org/pandas-docs/stable/user_guide/indexing.html#returning-a-view-versus-a-copy\n",
      "  df_3['phyzip'] = df_3['phyzip'].astype('Int64')\n"
     ]
    }
   ],
   "source": [
    "# Change phyzip to Int64 (to preserve NaN values while converting other numeric values to integers)\n",
    "\n",
    "df_3['phyzip'] = df_3['phyzip'].astype('Int64')"
   ]
  },
  {
   "cell_type": "code",
   "execution_count": 226,
   "id": "1f4508dc-9ecb-4464-8d57-1f5c54139e74",
   "metadata": {
    "execution": {
     "iopub.execute_input": "2025-01-25T23:37:20.062939Z",
     "iopub.status.busy": "2025-01-25T23:37:20.062340Z",
     "iopub.status.idle": "2025-01-25T23:37:20.079103Z",
     "shell.execute_reply": "2025-01-25T23:37:20.077886Z",
     "shell.execute_reply.started": "2025-01-25T23:37:20.062906Z"
    }
   },
   "outputs": [
    {
     "data": {
      "text/plain": [
       "0    27713\n",
       "1    27713\n",
       "2    27713\n",
       "3    27713\n",
       "4    27713\n",
       "5    27703\n",
       "6    27713\n",
       "7    27517\n",
       "8    27713\n",
       "9    27713\n",
       "Name: phyzip, dtype: Int64"
      ]
     },
     "execution_count": 226,
     "metadata": {},
     "output_type": "execute_result"
    }
   ],
   "source": [
    "# Check ouput of phyzip column\n",
    "\n",
    "df_3['phyzip'].head(10)"
   ]
  },
  {
   "cell_type": "markdown",
   "id": "a2a9c6ca-8671-49b7-876e-1d5d74dae284",
   "metadata": {},
   "source": [
    "### Change Land & Building Values to Int64"
   ]
  },
  {
   "cell_type": "code",
   "execution_count": 316,
   "id": "550ae30a-e581-46d1-87fc-f72c970f25d0",
   "metadata": {
    "execution": {
     "iopub.execute_input": "2025-01-26T02:04:42.496663Z",
     "iopub.status.busy": "2025-01-26T02:04:42.496358Z",
     "iopub.status.idle": "2025-01-26T02:04:42.551587Z",
     "shell.execute_reply": "2025-01-26T02:04:42.550673Z",
     "shell.execute_reply.started": "2025-01-26T02:04:42.496642Z"
    }
   },
   "outputs": [],
   "source": [
    "# Change Land & Building Values to Int64 (to preserve NaN values while converting other numeric values to integers)\n",
    "\n",
    "df_3[['bldgvalue', 'landvalue', 'landsalevalue', 'totalsalevalue','totalbldgsqft']] = df_3[['bldgvalue', 'landvalue', 'landsalevalue', 'totalsalevalue','totalbldgsqft']].astype('Int64')"
   ]
  },
  {
   "cell_type": "code",
   "execution_count": 319,
   "id": "a44ecf37-2b2f-46fd-b06f-ea37cff91590",
   "metadata": {
    "execution": {
     "iopub.execute_input": "2025-01-26T02:04:50.052777Z",
     "iopub.status.busy": "2025-01-26T02:04:50.052448Z",
     "iopub.status.idle": "2025-01-26T02:04:50.077723Z",
     "shell.execute_reply": "2025-01-26T02:04:50.077122Z",
     "shell.execute_reply.started": "2025-01-26T02:04:50.052754Z"
    }
   },
   "outputs": [
    {
     "data": {
      "text/plain": [
       "bldgvalue         Int64\n",
       "landvalue         Int64\n",
       "landsalevalue     Int64\n",
       "totalsalevalue    Int64\n",
       "totalbldgsqft     Int64\n",
       "dtype: object"
      ]
     },
     "execution_count": 319,
     "metadata": {},
     "output_type": "execute_result"
    }
   ],
   "source": [
    "# check output\n",
    "\n",
    "df_3[['bldgvalue', 'landvalue', 'landsalevalue', 'totalsalevalue', 'totalbldgsqft']].dtypes"
   ]
  },
  {
   "cell_type": "markdown",
   "id": "8e3868f6-5cfe-46b8-bfe9-8342d728a721",
   "metadata": {},
   "source": [
    "### Change landvalue to Int64"
   ]
  },
  {
   "cell_type": "markdown",
   "id": "e6be97cd-c4bb-4105-815b-75cad16082fd",
   "metadata": {},
   "source": [
    "## Normalize Mixed Capitalization"
   ]
  },
  {
   "cell_type": "code",
   "execution_count": 322,
   "id": "a480870c-c04d-4573-9eea-0b7f7b16bfed",
   "metadata": {
    "execution": {
     "iopub.execute_input": "2025-01-26T02:04:54.242043Z",
     "iopub.status.busy": "2025-01-26T02:04:54.241705Z",
     "iopub.status.idle": "2025-01-26T02:04:54.286364Z",
     "shell.execute_reply": "2025-01-26T02:04:54.285669Z",
     "shell.execute_reply.started": "2025-01-26T02:04:54.242019Z"
    }
   },
   "outputs": [
    {
     "data": {
      "text/html": [
       "<div>\n",
       "<style scoped>\n",
       "    .dataframe tbody tr th:only-of-type {\n",
       "        vertical-align: middle;\n",
       "    }\n",
       "\n",
       "    .dataframe tbody tr th {\n",
       "        vertical-align: top;\n",
       "    }\n",
       "\n",
       "    .dataframe thead th {\n",
       "        text-align: right;\n",
       "    }\n",
       "</style>\n",
       "<table border=\"1\" class=\"dataframe\">\n",
       "  <thead>\n",
       "    <tr style=\"text-align: right;\">\n",
       "      <th></th>\n",
       "      <th>owneradd1</th>\n",
       "      <th>owneradd2</th>\n",
       "      <th>owneradd3</th>\n",
       "      <th>location</th>\n",
       "      <th>calcacreage</th>\n",
       "      <th>deedacres</th>\n",
       "      <th>streetnumber</th>\n",
       "      <th>streetmisc</th>\n",
       "      <th>streetprefix</th>\n",
       "      <th>streetname</th>\n",
       "      <th>streettype</th>\n",
       "      <th>streetsuffix</th>\n",
       "      <th>landclass</th>\n",
       "      <th>totalstructures</th>\n",
       "      <th>totalunits</th>\n",
       "      <th>propertydesc</th>\n",
       "      <th>bldgvalue</th>\n",
       "      <th>landvalue</th>\n",
       "      <th>landsalevalue</th>\n",
       "      <th>landsaledate</th>\n",
       "      <th>totalsalevalue</th>\n",
       "      <th>totalsaledate</th>\n",
       "      <th>cary_city</th>\n",
       "      <th>apaownership</th>\n",
       "      <th>apaactivity</th>\n",
       "      <th>apafunction</th>\n",
       "      <th>apastructure</th>\n",
       "      <th>apasite</th>\n",
       "      <th>billingclass</th>\n",
       "      <th>apaownershipdesc</th>\n",
       "      <th>apaactivitydesc</th>\n",
       "      <th>apafunctiondesc</th>\n",
       "      <th>apastructuredesc</th>\n",
       "      <th>apasitedesc</th>\n",
       "      <th>county</th>\n",
       "      <th>totalbldgsqft</th>\n",
       "      <th>typedecode</th>\n",
       "      <th>phycity</th>\n",
       "      <th>phyzip</th>\n",
       "      <th>utilities</th>\n",
       "      <th>shape_starea</th>\n",
       "      <th>shape_stlength</th>\n",
       "      <th>yearbuilt</th>\n",
       "      <th>chathamaddress</th>\n",
       "      <th>geo_shape</th>\n",
       "      <th>geo_point_2d</th>\n",
       "      <th>latitude</th>\n",
       "      <th>longitude</th>\n",
       "    </tr>\n",
       "  </thead>\n",
       "  <tbody>\n",
       "    <tr>\n",
       "      <th>0</th>\n",
       "      <td>38 Saint Paul Ave</td>\n",
       "      <td>None</td>\n",
       "      <td>None</td>\n",
       "      <td>613 Hanson Rd</td>\n",
       "      <td>0.15</td>\n",
       "      <td>0.15</td>\n",
       "      <td>613</td>\n",
       "      <td>None</td>\n",
       "      <td>None</td>\n",
       "      <td>Hanson</td>\n",
       "      <td>RD</td>\n",
       "      <td>None</td>\n",
       "      <td>Res  1 Family</td>\n",
       "      <td>NaN</td>\n",
       "      <td>NaN</td>\n",
       "      <td>BAY POINTE/PH:03/LT#099 PL000161-000365</td>\n",
       "      <td>195234</td>\n",
       "      <td>40180</td>\n",
       "      <td>40180</td>\n",
       "      <td>None</td>\n",
       "      <td>235414</td>\n",
       "      <td>2017-10-27</td>\n",
       "      <td>None</td>\n",
       "      <td>NaN</td>\n",
       "      <td>NaN</td>\n",
       "      <td>NaN</td>\n",
       "      <td>NaN</td>\n",
       "      <td>NaN</td>\n",
       "      <td>None</td>\n",
       "      <td>None</td>\n",
       "      <td>None</td>\n",
       "      <td>None</td>\n",
       "      <td>None</td>\n",
       "      <td>None</td>\n",
       "      <td>Durham</td>\n",
       "      <td>2080</td>\n",
       "      <td>None</td>\n",
       "      <td>Durham</td>\n",
       "      <td>27713</td>\n",
       "      <td>None</td>\n",
       "      <td>6451.097435</td>\n",
       "      <td>336.681551</td>\n",
       "      <td>NaT</td>\n",
       "      <td>None</td>\n",
       "      <td>b'\\x01\\x03\\x00\\x00\\x00\\x01\\x00\\x00\\x00\\x05\\x00...</td>\n",
       "      <td>b'\\x01\\x01\\x00\\x00\\x00;\\x87\\xfc\\xe6~\\xbaS\\xc09...</td>\n",
       "      <td>35.941222</td>\n",
       "      <td>-78.913996</td>\n",
       "    </tr>\n",
       "    <tr>\n",
       "      <th>1</th>\n",
       "      <td>2908 London Bell Dr</td>\n",
       "      <td>None</td>\n",
       "      <td>None</td>\n",
       "      <td>619 Hanson Rd</td>\n",
       "      <td>0.16</td>\n",
       "      <td>0.16</td>\n",
       "      <td>619</td>\n",
       "      <td>None</td>\n",
       "      <td>None</td>\n",
       "      <td>Hanson</td>\n",
       "      <td>RD</td>\n",
       "      <td>None</td>\n",
       "      <td>Res  1 Family</td>\n",
       "      <td>NaN</td>\n",
       "      <td>NaN</td>\n",
       "      <td>BAY POINTE/PH:03/LT#096 PL000161-000365</td>\n",
       "      <td>179487</td>\n",
       "      <td>40705</td>\n",
       "      <td>40705</td>\n",
       "      <td>None</td>\n",
       "      <td>220192</td>\n",
       "      <td>2023-12-05</td>\n",
       "      <td>None</td>\n",
       "      <td>NaN</td>\n",
       "      <td>NaN</td>\n",
       "      <td>NaN</td>\n",
       "      <td>NaN</td>\n",
       "      <td>NaN</td>\n",
       "      <td>None</td>\n",
       "      <td>None</td>\n",
       "      <td>None</td>\n",
       "      <td>None</td>\n",
       "      <td>None</td>\n",
       "      <td>None</td>\n",
       "      <td>Durham</td>\n",
       "      <td>1906</td>\n",
       "      <td>None</td>\n",
       "      <td>Durham</td>\n",
       "      <td>27713</td>\n",
       "      <td>None</td>\n",
       "      <td>7096.203754</td>\n",
       "      <td>354.824260</td>\n",
       "      <td>NaT</td>\n",
       "      <td>None</td>\n",
       "      <td>b'\\x01\\x03\\x00\\x00\\x00\\x01\\x00\\x00\\x00\\x07\\x00...</td>\n",
       "      <td>b'\\x01\\x01\\x00\\x00\\x00\\xa3U\\xce\\xfat\\xbaS\\xc0\\...</td>\n",
       "      <td>35.941139</td>\n",
       "      <td>-78.913390</td>\n",
       "    </tr>\n",
       "    <tr>\n",
       "      <th>2</th>\n",
       "      <td>1411 Carrickfergus Ct</td>\n",
       "      <td>None</td>\n",
       "      <td>None</td>\n",
       "      <td>1411 Carrickfergus Ct</td>\n",
       "      <td>0.22</td>\n",
       "      <td>0.22</td>\n",
       "      <td>1411</td>\n",
       "      <td>None</td>\n",
       "      <td>None</td>\n",
       "      <td>Carrickfergus</td>\n",
       "      <td>CT</td>\n",
       "      <td>None</td>\n",
       "      <td>Res  1 Family</td>\n",
       "      <td>NaN</td>\n",
       "      <td>NaN</td>\n",
       "      <td>OAKHAVEN/LT#15 PL000161-000075</td>\n",
       "      <td>275711</td>\n",
       "      <td>75937</td>\n",
       "      <td>75937</td>\n",
       "      <td>None</td>\n",
       "      <td>351648</td>\n",
       "      <td>NaT</td>\n",
       "      <td>None</td>\n",
       "      <td>NaN</td>\n",
       "      <td>NaN</td>\n",
       "      <td>NaN</td>\n",
       "      <td>NaN</td>\n",
       "      <td>NaN</td>\n",
       "      <td>None</td>\n",
       "      <td>None</td>\n",
       "      <td>None</td>\n",
       "      <td>None</td>\n",
       "      <td>None</td>\n",
       "      <td>None</td>\n",
       "      <td>Durham</td>\n",
       "      <td>3200</td>\n",
       "      <td>None</td>\n",
       "      <td>Durham</td>\n",
       "      <td>27713</td>\n",
       "      <td>None</td>\n",
       "      <td>9361.373133</td>\n",
       "      <td>405.469398</td>\n",
       "      <td>NaT</td>\n",
       "      <td>None</td>\n",
       "      <td>b'\\x01\\x03\\x00\\x00\\x00\\x01\\x00\\x00\\x00\\x1d\\x00...</td>\n",
       "      <td>b'\\x01\\x01\\x00\\x00\\x00\\xdf\\\\\\xfe\\x8d\\xc3\\xbbS\\...</td>\n",
       "      <td>35.890914</td>\n",
       "      <td>-78.933811</td>\n",
       "    </tr>\n",
       "    <tr>\n",
       "      <th>3</th>\n",
       "      <td>4532 Shady Side Ln</td>\n",
       "      <td>None</td>\n",
       "      <td>None</td>\n",
       "      <td>4532 Shady Side Ln</td>\n",
       "      <td>0.13</td>\n",
       "      <td>0.13</td>\n",
       "      <td>4532</td>\n",
       "      <td>None</td>\n",
       "      <td>None</td>\n",
       "      <td>Shady Side</td>\n",
       "      <td>LN</td>\n",
       "      <td>None</td>\n",
       "      <td>Res  1 Family</td>\n",
       "      <td>NaN</td>\n",
       "      <td>NaN</td>\n",
       "      <td>BAY POINTE/PH:03/LT#069 PL000161-000365</td>\n",
       "      <td>203620</td>\n",
       "      <td>39480</td>\n",
       "      <td>39480</td>\n",
       "      <td>None</td>\n",
       "      <td>243100</td>\n",
       "      <td>NaT</td>\n",
       "      <td>None</td>\n",
       "      <td>NaN</td>\n",
       "      <td>NaN</td>\n",
       "      <td>NaN</td>\n",
       "      <td>NaN</td>\n",
       "      <td>NaN</td>\n",
       "      <td>None</td>\n",
       "      <td>None</td>\n",
       "      <td>None</td>\n",
       "      <td>None</td>\n",
       "      <td>None</td>\n",
       "      <td>None</td>\n",
       "      <td>Durham</td>\n",
       "      <td>2308</td>\n",
       "      <td>None</td>\n",
       "      <td>Durham</td>\n",
       "      <td>27713</td>\n",
       "      <td>None</td>\n",
       "      <td>5588.978748</td>\n",
       "      <td>310.423891</td>\n",
       "      <td>NaT</td>\n",
       "      <td>None</td>\n",
       "      <td>b'\\x01\\x03\\x00\\x00\\x00\\x01\\x00\\x00\\x00\\x07\\x00...</td>\n",
       "      <td>b'\\x01\\x01\\x00\\x00\\x00\\x036\\xbd\\x00q\\xbaS\\xc0\\...</td>\n",
       "      <td>35.940075</td>\n",
       "      <td>-78.913147</td>\n",
       "    </tr>\n",
       "    <tr>\n",
       "      <th>4</th>\n",
       "      <td>3608 Rambir Dr</td>\n",
       "      <td>None</td>\n",
       "      <td>None</td>\n",
       "      <td>3608 Ranbir Dr</td>\n",
       "      <td>0.28</td>\n",
       "      <td>0.28</td>\n",
       "      <td>3608</td>\n",
       "      <td>None</td>\n",
       "      <td>None</td>\n",
       "      <td>Ranbir</td>\n",
       "      <td>DR</td>\n",
       "      <td>None</td>\n",
       "      <td>Res  1 Family</td>\n",
       "      <td>NaN</td>\n",
       "      <td>NaN</td>\n",
       "      <td>LOCHSIDE/PH:01/LT#105 PL000165-000308</td>\n",
       "      <td>163464</td>\n",
       "      <td>57600</td>\n",
       "      <td>57600</td>\n",
       "      <td>None</td>\n",
       "      <td>221064</td>\n",
       "      <td>2013-06-27</td>\n",
       "      <td>None</td>\n",
       "      <td>NaN</td>\n",
       "      <td>NaN</td>\n",
       "      <td>NaN</td>\n",
       "      <td>NaN</td>\n",
       "      <td>NaN</td>\n",
       "      <td>None</td>\n",
       "      <td>None</td>\n",
       "      <td>None</td>\n",
       "      <td>None</td>\n",
       "      <td>None</td>\n",
       "      <td>None</td>\n",
       "      <td>Durham</td>\n",
       "      <td>1567</td>\n",
       "      <td>None</td>\n",
       "      <td>Durham</td>\n",
       "      <td>27713</td>\n",
       "      <td>None</td>\n",
       "      <td>12205.491128</td>\n",
       "      <td>453.505217</td>\n",
       "      <td>NaT</td>\n",
       "      <td>None</td>\n",
       "      <td>b'\\x01\\x03\\x00\\x00\\x00\\x01\\x00\\x00\\x00\\x07\\x00...</td>\n",
       "      <td>b'\\x01\\x01\\x00\\x00\\x00d\\xc3\\x03\\x0f}\\xb9S\\xc0\\...</td>\n",
       "      <td>35.928977</td>\n",
       "      <td>-78.898258</td>\n",
       "    </tr>\n",
       "  </tbody>\n",
       "</table>\n",
       "</div>"
      ],
      "text/plain": [
       "               owneradd1 owneradd2 owneradd3               location  \\\n",
       "0      38 Saint Paul Ave      None      None          613 Hanson Rd   \n",
       "1    2908 London Bell Dr      None      None          619 Hanson Rd   \n",
       "2  1411 Carrickfergus Ct      None      None  1411 Carrickfergus Ct   \n",
       "3     4532 Shady Side Ln      None      None     4532 Shady Side Ln   \n",
       "4         3608 Rambir Dr      None      None         3608 Ranbir Dr   \n",
       "\n",
       "   calcacreage  deedacres  streetnumber streetmisc streetprefix  \\\n",
       "0         0.15       0.15           613       None         None   \n",
       "1         0.16       0.16           619       None         None   \n",
       "2         0.22       0.22          1411       None         None   \n",
       "3         0.13       0.13          4532       None         None   \n",
       "4         0.28       0.28          3608       None         None   \n",
       "\n",
       "      streetname streettype streetsuffix      landclass  totalstructures  \\\n",
       "0         Hanson         RD         None  Res  1 Family              NaN   \n",
       "1         Hanson         RD         None  Res  1 Family              NaN   \n",
       "2  Carrickfergus         CT         None  Res  1 Family              NaN   \n",
       "3     Shady Side         LN         None  Res  1 Family              NaN   \n",
       "4         Ranbir         DR         None  Res  1 Family              NaN   \n",
       "\n",
       "   totalunits                             propertydesc  bldgvalue  landvalue  \\\n",
       "0         NaN  BAY POINTE/PH:03/LT#099 PL000161-000365     195234      40180   \n",
       "1         NaN  BAY POINTE/PH:03/LT#096 PL000161-000365     179487      40705   \n",
       "2         NaN           OAKHAVEN/LT#15 PL000161-000075     275711      75937   \n",
       "3         NaN  BAY POINTE/PH:03/LT#069 PL000161-000365     203620      39480   \n",
       "4         NaN    LOCHSIDE/PH:01/LT#105 PL000165-000308     163464      57600   \n",
       "\n",
       "   landsalevalue landsaledate  totalsalevalue totalsaledate cary_city  \\\n",
       "0          40180         None          235414    2017-10-27      None   \n",
       "1          40705         None          220192    2023-12-05      None   \n",
       "2          75937         None          351648           NaT      None   \n",
       "3          39480         None          243100           NaT      None   \n",
       "4          57600         None          221064    2013-06-27      None   \n",
       "\n",
       "   apaownership  apaactivity  apafunction  apastructure  apasite billingclass  \\\n",
       "0           NaN          NaN          NaN           NaN      NaN         None   \n",
       "1           NaN          NaN          NaN           NaN      NaN         None   \n",
       "2           NaN          NaN          NaN           NaN      NaN         None   \n",
       "3           NaN          NaN          NaN           NaN      NaN         None   \n",
       "4           NaN          NaN          NaN           NaN      NaN         None   \n",
       "\n",
       "  apaownershipdesc apaactivitydesc apafunctiondesc apastructuredesc  \\\n",
       "0             None            None            None             None   \n",
       "1             None            None            None             None   \n",
       "2             None            None            None             None   \n",
       "3             None            None            None             None   \n",
       "4             None            None            None             None   \n",
       "\n",
       "  apasitedesc  county  totalbldgsqft typedecode phycity  phyzip utilities  \\\n",
       "0        None  Durham           2080       None  Durham   27713      None   \n",
       "1        None  Durham           1906       None  Durham   27713      None   \n",
       "2        None  Durham           3200       None  Durham   27713      None   \n",
       "3        None  Durham           2308       None  Durham   27713      None   \n",
       "4        None  Durham           1567       None  Durham   27713      None   \n",
       "\n",
       "   shape_starea  shape_stlength yearbuilt chathamaddress  \\\n",
       "0   6451.097435      336.681551       NaT           None   \n",
       "1   7096.203754      354.824260       NaT           None   \n",
       "2   9361.373133      405.469398       NaT           None   \n",
       "3   5588.978748      310.423891       NaT           None   \n",
       "4  12205.491128      453.505217       NaT           None   \n",
       "\n",
       "                                           geo_shape  \\\n",
       "0  b'\\x01\\x03\\x00\\x00\\x00\\x01\\x00\\x00\\x00\\x05\\x00...   \n",
       "1  b'\\x01\\x03\\x00\\x00\\x00\\x01\\x00\\x00\\x00\\x07\\x00...   \n",
       "2  b'\\x01\\x03\\x00\\x00\\x00\\x01\\x00\\x00\\x00\\x1d\\x00...   \n",
       "3  b'\\x01\\x03\\x00\\x00\\x00\\x01\\x00\\x00\\x00\\x07\\x00...   \n",
       "4  b'\\x01\\x03\\x00\\x00\\x00\\x01\\x00\\x00\\x00\\x07\\x00...   \n",
       "\n",
       "                                        geo_point_2d   latitude  longitude  \n",
       "0  b'\\x01\\x01\\x00\\x00\\x00;\\x87\\xfc\\xe6~\\xbaS\\xc09...  35.941222 -78.913996  \n",
       "1  b'\\x01\\x01\\x00\\x00\\x00\\xa3U\\xce\\xfat\\xbaS\\xc0\\...  35.941139 -78.913390  \n",
       "2  b'\\x01\\x01\\x00\\x00\\x00\\xdf\\\\\\xfe\\x8d\\xc3\\xbbS\\...  35.890914 -78.933811  \n",
       "3  b'\\x01\\x01\\x00\\x00\\x00\\x036\\xbd\\x00q\\xbaS\\xc0\\...  35.940075 -78.913147  \n",
       "4  b'\\x01\\x01\\x00\\x00\\x00d\\xc3\\x03\\x0f}\\xb9S\\xc0\\...  35.928977 -78.898258  "
      ]
     },
     "execution_count": 322,
     "metadata": {},
     "output_type": "execute_result"
    }
   ],
   "source": [
    "# Get overview of column capitalization\n",
    "\n",
    "df_3.head()"
   ]
  },
  {
   "cell_type": "code",
   "execution_count": 325,
   "id": "dce40075-4fa9-4ed8-a846-ef7c634b8154",
   "metadata": {
    "execution": {
     "iopub.execute_input": "2025-01-26T02:04:58.744781Z",
     "iopub.status.busy": "2025-01-26T02:04:58.744222Z",
     "iopub.status.idle": "2025-01-26T02:04:58.761509Z",
     "shell.execute_reply": "2025-01-26T02:04:58.760827Z",
     "shell.execute_reply.started": "2025-01-26T02:04:58.744758Z"
    }
   },
   "outputs": [],
   "source": [
    "# Create subset of columns to normalize\n",
    "\n",
    "cols_to_normalize = ['owneradd1', 'owneradd2', 'owneradd3', 'location', 'streetname', 'landclass', 'county', 'phycity', 'chathamaddress']"
   ]
  },
  {
   "cell_type": "code",
   "execution_count": 328,
   "id": "592a76da-de8a-4656-bec7-7144d5a065d8",
   "metadata": {
    "execution": {
     "iopub.execute_input": "2025-01-26T02:05:01.110329Z",
     "iopub.status.busy": "2025-01-26T02:05:01.110008Z",
     "iopub.status.idle": "2025-01-26T02:05:03.003128Z",
     "shell.execute_reply": "2025-01-26T02:05:02.987146Z",
     "shell.execute_reply.started": "2025-01-26T02:05:01.110308Z"
    }
   },
   "outputs": [],
   "source": [
    "# Apply title capitalization to select columns \n",
    "\n",
    "df_3[cols_to_normalize] = df_3[cols_to_normalize].apply(lambda x: x.str.title())"
   ]
  },
  {
   "cell_type": "code",
   "execution_count": 269,
   "id": "58168af1-5e90-4d5e-95fa-f8ebd9fb454c",
   "metadata": {
    "execution": {
     "iopub.execute_input": "2025-01-26T01:45:05.662051Z",
     "iopub.status.busy": "2025-01-26T01:45:05.661641Z",
     "iopub.status.idle": "2025-01-26T01:45:05.739702Z",
     "shell.execute_reply": "2025-01-26T01:45:05.738721Z",
     "shell.execute_reply.started": "2025-01-26T01:45:05.662027Z"
    }
   },
   "outputs": [
    {
     "data": {
      "text/html": [
       "<div>\n",
       "<style scoped>\n",
       "    .dataframe tbody tr th:only-of-type {\n",
       "        vertical-align: middle;\n",
       "    }\n",
       "\n",
       "    .dataframe tbody tr th {\n",
       "        vertical-align: top;\n",
       "    }\n",
       "\n",
       "    .dataframe thead th {\n",
       "        text-align: right;\n",
       "    }\n",
       "</style>\n",
       "<table border=\"1\" class=\"dataframe\">\n",
       "  <thead>\n",
       "    <tr style=\"text-align: right;\">\n",
       "      <th></th>\n",
       "      <th>owneradd1</th>\n",
       "      <th>owneradd2</th>\n",
       "      <th>owneradd3</th>\n",
       "      <th>location</th>\n",
       "      <th>calcacreage</th>\n",
       "      <th>deedacres</th>\n",
       "      <th>streetnumber</th>\n",
       "      <th>streetmisc</th>\n",
       "      <th>streetprefix</th>\n",
       "      <th>streetname</th>\n",
       "      <th>streettype</th>\n",
       "      <th>streetsuffix</th>\n",
       "      <th>landclass</th>\n",
       "      <th>totalstructures</th>\n",
       "      <th>totalunits</th>\n",
       "      <th>propertydesc</th>\n",
       "      <th>bldgvalue</th>\n",
       "      <th>landvalue</th>\n",
       "      <th>landsalevalue</th>\n",
       "      <th>landsaledate</th>\n",
       "      <th>totalsalevalue</th>\n",
       "      <th>totalsaledate</th>\n",
       "      <th>cary_city</th>\n",
       "      <th>apaownership</th>\n",
       "      <th>apaactivity</th>\n",
       "      <th>apafunction</th>\n",
       "      <th>apastructure</th>\n",
       "      <th>apasite</th>\n",
       "      <th>billingclass</th>\n",
       "      <th>apaownershipdesc</th>\n",
       "      <th>apaactivitydesc</th>\n",
       "      <th>apafunctiondesc</th>\n",
       "      <th>apastructuredesc</th>\n",
       "      <th>apasitedesc</th>\n",
       "      <th>county</th>\n",
       "      <th>totalbldgsqft</th>\n",
       "      <th>typedecode</th>\n",
       "      <th>phycity</th>\n",
       "      <th>phyzip</th>\n",
       "      <th>utilities</th>\n",
       "      <th>shape_starea</th>\n",
       "      <th>shape_stlength</th>\n",
       "      <th>yearbuilt</th>\n",
       "      <th>chathamaddress</th>\n",
       "      <th>geo_shape</th>\n",
       "      <th>geo_point_2d</th>\n",
       "      <th>latitude</th>\n",
       "      <th>longitude</th>\n",
       "    </tr>\n",
       "  </thead>\n",
       "  <tbody>\n",
       "    <tr>\n",
       "      <th>0</th>\n",
       "      <td>38 Saint Paul Ave</td>\n",
       "      <td>None</td>\n",
       "      <td>None</td>\n",
       "      <td>613 Hanson Rd</td>\n",
       "      <td>0.15</td>\n",
       "      <td>0.15</td>\n",
       "      <td>613</td>\n",
       "      <td>None</td>\n",
       "      <td>None</td>\n",
       "      <td>Hanson</td>\n",
       "      <td>RD</td>\n",
       "      <td>None</td>\n",
       "      <td>Res  1 Family</td>\n",
       "      <td>NaN</td>\n",
       "      <td>NaN</td>\n",
       "      <td>BAY POINTE/PH:03/LT#099 PL000161-000365</td>\n",
       "      <td>195234.0</td>\n",
       "      <td>40180.0</td>\n",
       "      <td>40180.0</td>\n",
       "      <td>None</td>\n",
       "      <td>235414.0</td>\n",
       "      <td>2017-10-27</td>\n",
       "      <td>None</td>\n",
       "      <td>NaN</td>\n",
       "      <td>NaN</td>\n",
       "      <td>NaN</td>\n",
       "      <td>NaN</td>\n",
       "      <td>NaN</td>\n",
       "      <td>None</td>\n",
       "      <td>None</td>\n",
       "      <td>None</td>\n",
       "      <td>None</td>\n",
       "      <td>None</td>\n",
       "      <td>None</td>\n",
       "      <td>Durham</td>\n",
       "      <td>2080.0</td>\n",
       "      <td>None</td>\n",
       "      <td>Durham</td>\n",
       "      <td>27713</td>\n",
       "      <td>None</td>\n",
       "      <td>6451.097435</td>\n",
       "      <td>336.681551</td>\n",
       "      <td>NaT</td>\n",
       "      <td>None</td>\n",
       "      <td>b'\\x01\\x03\\x00\\x00\\x00\\x01\\x00\\x00\\x00\\x05\\x00...</td>\n",
       "      <td>b'\\x01\\x01\\x00\\x00\\x00;\\x87\\xfc\\xe6~\\xbaS\\xc09...</td>\n",
       "      <td>35.941222</td>\n",
       "      <td>-78.913996</td>\n",
       "    </tr>\n",
       "    <tr>\n",
       "      <th>1</th>\n",
       "      <td>2908 London Bell Dr</td>\n",
       "      <td>None</td>\n",
       "      <td>None</td>\n",
       "      <td>619 Hanson Rd</td>\n",
       "      <td>0.16</td>\n",
       "      <td>0.16</td>\n",
       "      <td>619</td>\n",
       "      <td>None</td>\n",
       "      <td>None</td>\n",
       "      <td>Hanson</td>\n",
       "      <td>RD</td>\n",
       "      <td>None</td>\n",
       "      <td>Res  1 Family</td>\n",
       "      <td>NaN</td>\n",
       "      <td>NaN</td>\n",
       "      <td>BAY POINTE/PH:03/LT#096 PL000161-000365</td>\n",
       "      <td>179487.0</td>\n",
       "      <td>40705.0</td>\n",
       "      <td>40705.0</td>\n",
       "      <td>None</td>\n",
       "      <td>220192.0</td>\n",
       "      <td>2023-12-05</td>\n",
       "      <td>None</td>\n",
       "      <td>NaN</td>\n",
       "      <td>NaN</td>\n",
       "      <td>NaN</td>\n",
       "      <td>NaN</td>\n",
       "      <td>NaN</td>\n",
       "      <td>None</td>\n",
       "      <td>None</td>\n",
       "      <td>None</td>\n",
       "      <td>None</td>\n",
       "      <td>None</td>\n",
       "      <td>None</td>\n",
       "      <td>Durham</td>\n",
       "      <td>1906.0</td>\n",
       "      <td>None</td>\n",
       "      <td>Durham</td>\n",
       "      <td>27713</td>\n",
       "      <td>None</td>\n",
       "      <td>7096.203754</td>\n",
       "      <td>354.824260</td>\n",
       "      <td>NaT</td>\n",
       "      <td>None</td>\n",
       "      <td>b'\\x01\\x03\\x00\\x00\\x00\\x01\\x00\\x00\\x00\\x07\\x00...</td>\n",
       "      <td>b'\\x01\\x01\\x00\\x00\\x00\\xa3U\\xce\\xfat\\xbaS\\xc0\\...</td>\n",
       "      <td>35.941139</td>\n",
       "      <td>-78.913390</td>\n",
       "    </tr>\n",
       "    <tr>\n",
       "      <th>2</th>\n",
       "      <td>1411 Carrickfergus Ct</td>\n",
       "      <td>None</td>\n",
       "      <td>None</td>\n",
       "      <td>1411 Carrickfergus Ct</td>\n",
       "      <td>0.22</td>\n",
       "      <td>0.22</td>\n",
       "      <td>1411</td>\n",
       "      <td>None</td>\n",
       "      <td>None</td>\n",
       "      <td>Carrickfergus</td>\n",
       "      <td>CT</td>\n",
       "      <td>None</td>\n",
       "      <td>Res  1 Family</td>\n",
       "      <td>NaN</td>\n",
       "      <td>NaN</td>\n",
       "      <td>OAKHAVEN/LT#15 PL000161-000075</td>\n",
       "      <td>275711.0</td>\n",
       "      <td>75937.0</td>\n",
       "      <td>75937.0</td>\n",
       "      <td>None</td>\n",
       "      <td>351648.0</td>\n",
       "      <td>NaT</td>\n",
       "      <td>None</td>\n",
       "      <td>NaN</td>\n",
       "      <td>NaN</td>\n",
       "      <td>NaN</td>\n",
       "      <td>NaN</td>\n",
       "      <td>NaN</td>\n",
       "      <td>None</td>\n",
       "      <td>None</td>\n",
       "      <td>None</td>\n",
       "      <td>None</td>\n",
       "      <td>None</td>\n",
       "      <td>None</td>\n",
       "      <td>Durham</td>\n",
       "      <td>3200.0</td>\n",
       "      <td>None</td>\n",
       "      <td>Durham</td>\n",
       "      <td>27713</td>\n",
       "      <td>None</td>\n",
       "      <td>9361.373133</td>\n",
       "      <td>405.469398</td>\n",
       "      <td>NaT</td>\n",
       "      <td>None</td>\n",
       "      <td>b'\\x01\\x03\\x00\\x00\\x00\\x01\\x00\\x00\\x00\\x1d\\x00...</td>\n",
       "      <td>b'\\x01\\x01\\x00\\x00\\x00\\xdf\\\\\\xfe\\x8d\\xc3\\xbbS\\...</td>\n",
       "      <td>35.890914</td>\n",
       "      <td>-78.933811</td>\n",
       "    </tr>\n",
       "    <tr>\n",
       "      <th>3</th>\n",
       "      <td>4532 Shady Side Ln</td>\n",
       "      <td>None</td>\n",
       "      <td>None</td>\n",
       "      <td>4532 Shady Side Ln</td>\n",
       "      <td>0.13</td>\n",
       "      <td>0.13</td>\n",
       "      <td>4532</td>\n",
       "      <td>None</td>\n",
       "      <td>None</td>\n",
       "      <td>Shady Side</td>\n",
       "      <td>LN</td>\n",
       "      <td>None</td>\n",
       "      <td>Res  1 Family</td>\n",
       "      <td>NaN</td>\n",
       "      <td>NaN</td>\n",
       "      <td>BAY POINTE/PH:03/LT#069 PL000161-000365</td>\n",
       "      <td>203620.0</td>\n",
       "      <td>39480.0</td>\n",
       "      <td>39480.0</td>\n",
       "      <td>None</td>\n",
       "      <td>243100.0</td>\n",
       "      <td>NaT</td>\n",
       "      <td>None</td>\n",
       "      <td>NaN</td>\n",
       "      <td>NaN</td>\n",
       "      <td>NaN</td>\n",
       "      <td>NaN</td>\n",
       "      <td>NaN</td>\n",
       "      <td>None</td>\n",
       "      <td>None</td>\n",
       "      <td>None</td>\n",
       "      <td>None</td>\n",
       "      <td>None</td>\n",
       "      <td>None</td>\n",
       "      <td>Durham</td>\n",
       "      <td>2308.0</td>\n",
       "      <td>None</td>\n",
       "      <td>Durham</td>\n",
       "      <td>27713</td>\n",
       "      <td>None</td>\n",
       "      <td>5588.978748</td>\n",
       "      <td>310.423891</td>\n",
       "      <td>NaT</td>\n",
       "      <td>None</td>\n",
       "      <td>b'\\x01\\x03\\x00\\x00\\x00\\x01\\x00\\x00\\x00\\x07\\x00...</td>\n",
       "      <td>b'\\x01\\x01\\x00\\x00\\x00\\x036\\xbd\\x00q\\xbaS\\xc0\\...</td>\n",
       "      <td>35.940075</td>\n",
       "      <td>-78.913147</td>\n",
       "    </tr>\n",
       "    <tr>\n",
       "      <th>4</th>\n",
       "      <td>3608 Rambir Dr</td>\n",
       "      <td>None</td>\n",
       "      <td>None</td>\n",
       "      <td>3608 Ranbir Dr</td>\n",
       "      <td>0.28</td>\n",
       "      <td>0.28</td>\n",
       "      <td>3608</td>\n",
       "      <td>None</td>\n",
       "      <td>None</td>\n",
       "      <td>Ranbir</td>\n",
       "      <td>DR</td>\n",
       "      <td>None</td>\n",
       "      <td>Res  1 Family</td>\n",
       "      <td>NaN</td>\n",
       "      <td>NaN</td>\n",
       "      <td>LOCHSIDE/PH:01/LT#105 PL000165-000308</td>\n",
       "      <td>163464.0</td>\n",
       "      <td>57600.0</td>\n",
       "      <td>57600.0</td>\n",
       "      <td>None</td>\n",
       "      <td>221064.0</td>\n",
       "      <td>2013-06-27</td>\n",
       "      <td>None</td>\n",
       "      <td>NaN</td>\n",
       "      <td>NaN</td>\n",
       "      <td>NaN</td>\n",
       "      <td>NaN</td>\n",
       "      <td>NaN</td>\n",
       "      <td>None</td>\n",
       "      <td>None</td>\n",
       "      <td>None</td>\n",
       "      <td>None</td>\n",
       "      <td>None</td>\n",
       "      <td>None</td>\n",
       "      <td>Durham</td>\n",
       "      <td>1567.0</td>\n",
       "      <td>None</td>\n",
       "      <td>Durham</td>\n",
       "      <td>27713</td>\n",
       "      <td>None</td>\n",
       "      <td>12205.491128</td>\n",
       "      <td>453.505217</td>\n",
       "      <td>NaT</td>\n",
       "      <td>None</td>\n",
       "      <td>b'\\x01\\x03\\x00\\x00\\x00\\x01\\x00\\x00\\x00\\x07\\x00...</td>\n",
       "      <td>b'\\x01\\x01\\x00\\x00\\x00d\\xc3\\x03\\x0f}\\xb9S\\xc0\\...</td>\n",
       "      <td>35.928977</td>\n",
       "      <td>-78.898258</td>\n",
       "    </tr>\n",
       "    <tr>\n",
       "      <th>5</th>\n",
       "      <td>2 Beaver Creek Ln</td>\n",
       "      <td>None</td>\n",
       "      <td>None</td>\n",
       "      <td>2 Beaver Creek Ln</td>\n",
       "      <td>0.30</td>\n",
       "      <td>0.30</td>\n",
       "      <td>2</td>\n",
       "      <td>None</td>\n",
       "      <td>None</td>\n",
       "      <td>Beaver Creek</td>\n",
       "      <td>LN</td>\n",
       "      <td>None</td>\n",
       "      <td>Res  1 Family</td>\n",
       "      <td>NaN</td>\n",
       "      <td>NaN</td>\n",
       "      <td>ALEXANDER CROSSING/PH:03- 04/LT#72 PL000162-00...</td>\n",
       "      <td>179848.0</td>\n",
       "      <td>51321.0</td>\n",
       "      <td>51321.0</td>\n",
       "      <td>None</td>\n",
       "      <td>231169.0</td>\n",
       "      <td>2023-10-26</td>\n",
       "      <td>None</td>\n",
       "      <td>NaN</td>\n",
       "      <td>NaN</td>\n",
       "      <td>NaN</td>\n",
       "      <td>NaN</td>\n",
       "      <td>NaN</td>\n",
       "      <td>None</td>\n",
       "      <td>None</td>\n",
       "      <td>None</td>\n",
       "      <td>None</td>\n",
       "      <td>None</td>\n",
       "      <td>None</td>\n",
       "      <td>Durham</td>\n",
       "      <td>2042.0</td>\n",
       "      <td>None</td>\n",
       "      <td>Durham</td>\n",
       "      <td>27703</td>\n",
       "      <td>None</td>\n",
       "      <td>12899.187381</td>\n",
       "      <td>474.691076</td>\n",
       "      <td>NaT</td>\n",
       "      <td>None</td>\n",
       "      <td>b'\\x01\\x03\\x00\\x00\\x00\\x01\\x00\\x00\\x00\\x11\\x00...</td>\n",
       "      <td>b'\\x01\\x01\\x00\\x00\\x00\\xe4\\xc4\\x86o\\xe5\\xb4S\\x...</td>\n",
       "      <td>35.924294</td>\n",
       "      <td>-78.826504</td>\n",
       "    </tr>\n",
       "    <tr>\n",
       "      <th>6</th>\n",
       "      <td>124 Grey Elm Trail</td>\n",
       "      <td>None</td>\n",
       "      <td>None</td>\n",
       "      <td>124 Grey Elm Trl</td>\n",
       "      <td>0.03</td>\n",
       "      <td>0.03</td>\n",
       "      <td>124</td>\n",
       "      <td>None</td>\n",
       "      <td>None</td>\n",
       "      <td>Grey Elm</td>\n",
       "      <td>TRL</td>\n",
       "      <td>None</td>\n",
       "      <td>Res Twnh W  Land</td>\n",
       "      <td>NaN</td>\n",
       "      <td>NaN</td>\n",
       "      <td>HPVL FRMS TW/POD W/LT#47 MODEL-CORDOVA/INT/Y P...</td>\n",
       "      <td>162374.0</td>\n",
       "      <td>40000.0</td>\n",
       "      <td>40000.0</td>\n",
       "      <td>None</td>\n",
       "      <td>202374.0</td>\n",
       "      <td>2017-12-28</td>\n",
       "      <td>None</td>\n",
       "      <td>NaN</td>\n",
       "      <td>NaN</td>\n",
       "      <td>NaN</td>\n",
       "      <td>NaN</td>\n",
       "      <td>NaN</td>\n",
       "      <td>None</td>\n",
       "      <td>None</td>\n",
       "      <td>None</td>\n",
       "      <td>None</td>\n",
       "      <td>None</td>\n",
       "      <td>None</td>\n",
       "      <td>Durham</td>\n",
       "      <td>1710.0</td>\n",
       "      <td>None</td>\n",
       "      <td>Durham</td>\n",
       "      <td>27713</td>\n",
       "      <td>None</td>\n",
       "      <td>1115.156890</td>\n",
       "      <td>169.268688</td>\n",
       "      <td>NaT</td>\n",
       "      <td>None</td>\n",
       "      <td>b'\\x01\\x03\\x00\\x00\\x00\\x01\\x00\\x00\\x00\\x08\\x00...</td>\n",
       "      <td>b'\\x01\\x01\\x00\\x00\\x00\\xd5\\x05?\\tY\\xbbS\\xc0\\x8...</td>\n",
       "      <td>35.947364</td>\n",
       "      <td>-78.927309</td>\n",
       "    </tr>\n",
       "    <tr>\n",
       "      <th>7</th>\n",
       "      <td>332 Oxfordshire Ln</td>\n",
       "      <td>None</td>\n",
       "      <td>None</td>\n",
       "      <td>332 Oxfordshire Ln</td>\n",
       "      <td>0.34</td>\n",
       "      <td>0.34</td>\n",
       "      <td>332</td>\n",
       "      <td>None</td>\n",
       "      <td>None</td>\n",
       "      <td>Oxfordshire</td>\n",
       "      <td>LN</td>\n",
       "      <td>None</td>\n",
       "      <td>Res  1 Family</td>\n",
       "      <td>NaN</td>\n",
       "      <td>NaN</td>\n",
       "      <td>SOUTHPT MANOR/LT#032 PL000161-000254</td>\n",
       "      <td>446203.0</td>\n",
       "      <td>133700.0</td>\n",
       "      <td>133700.0</td>\n",
       "      <td>None</td>\n",
       "      <td>579903.0</td>\n",
       "      <td>2019-11-26</td>\n",
       "      <td>None</td>\n",
       "      <td>NaN</td>\n",
       "      <td>NaN</td>\n",
       "      <td>NaN</td>\n",
       "      <td>NaN</td>\n",
       "      <td>NaN</td>\n",
       "      <td>None</td>\n",
       "      <td>None</td>\n",
       "      <td>None</td>\n",
       "      <td>None</td>\n",
       "      <td>None</td>\n",
       "      <td>None</td>\n",
       "      <td>Durham</td>\n",
       "      <td>3673.0</td>\n",
       "      <td>None</td>\n",
       "      <td>Chapel Hill</td>\n",
       "      <td>27517</td>\n",
       "      <td>None</td>\n",
       "      <td>14679.515709</td>\n",
       "      <td>512.442282</td>\n",
       "      <td>NaT</td>\n",
       "      <td>None</td>\n",
       "      <td>b'\\x01\\x03\\x00\\x00\\x00\\x01\\x00\\x00\\x00\\n\\x00\\x...</td>\n",
       "      <td>b'\\x01\\x01\\x00\\x00\\x00e\\x80g\\xb7\\x7f\\xbeS\\xc0\\...</td>\n",
       "      <td>35.895716</td>\n",
       "      <td>-78.976545</td>\n",
       "    </tr>\n",
       "    <tr>\n",
       "      <th>8</th>\n",
       "      <td>1313 Caribou Xing</td>\n",
       "      <td>None</td>\n",
       "      <td>None</td>\n",
       "      <td>1313 Caribou Xing</td>\n",
       "      <td>0.27</td>\n",
       "      <td>0.27</td>\n",
       "      <td>1313</td>\n",
       "      <td>None</td>\n",
       "      <td>None</td>\n",
       "      <td>Caribou</td>\n",
       "      <td>XING</td>\n",
       "      <td>None</td>\n",
       "      <td>Res  1 Family</td>\n",
       "      <td>NaN</td>\n",
       "      <td>NaN</td>\n",
       "      <td>HUNTINGTON RIDGE/PH:03/SE C:01/LT#117 PL000162...</td>\n",
       "      <td>328642.0</td>\n",
       "      <td>79625.0</td>\n",
       "      <td>79625.0</td>\n",
       "      <td>None</td>\n",
       "      <td>408267.0</td>\n",
       "      <td>2016-05-03</td>\n",
       "      <td>None</td>\n",
       "      <td>NaN</td>\n",
       "      <td>NaN</td>\n",
       "      <td>NaN</td>\n",
       "      <td>NaN</td>\n",
       "      <td>NaN</td>\n",
       "      <td>None</td>\n",
       "      <td>None</td>\n",
       "      <td>None</td>\n",
       "      <td>None</td>\n",
       "      <td>None</td>\n",
       "      <td>None</td>\n",
       "      <td>Durham</td>\n",
       "      <td>3613.0</td>\n",
       "      <td>None</td>\n",
       "      <td>Durham</td>\n",
       "      <td>27713</td>\n",
       "      <td>None</td>\n",
       "      <td>11935.857025</td>\n",
       "      <td>429.456556</td>\n",
       "      <td>NaT</td>\n",
       "      <td>None</td>\n",
       "      <td>b'\\x01\\x03\\x00\\x00\\x00\\x01\\x00\\x00\\x00&amp;\\x00\\x0...</td>\n",
       "      <td>b'\\x01\\x01\\x00\\x00\\x00\\xb1\\xd2\\xc8\\xda\\x81\\xbc...</td>\n",
       "      <td>35.890666</td>\n",
       "      <td>-78.945426</td>\n",
       "    </tr>\n",
       "    <tr>\n",
       "      <th>9</th>\n",
       "      <td>7604 Morrell Lane</td>\n",
       "      <td>None</td>\n",
       "      <td>None</td>\n",
       "      <td>7604 Morrell Ln</td>\n",
       "      <td>0.08</td>\n",
       "      <td>0.08</td>\n",
       "      <td>7604</td>\n",
       "      <td>None</td>\n",
       "      <td>None</td>\n",
       "      <td>Morrell</td>\n",
       "      <td>LN</td>\n",
       "      <td>None</td>\n",
       "      <td>Res  1 Family</td>\n",
       "      <td>NaN</td>\n",
       "      <td>NaN</td>\n",
       "      <td>SOUTHPT TER/PAT HME/PH:01 /LT#37 PL000161-000154</td>\n",
       "      <td>203254.0</td>\n",
       "      <td>60000.0</td>\n",
       "      <td>60000.0</td>\n",
       "      <td>None</td>\n",
       "      <td>263254.0</td>\n",
       "      <td>2014-10-20</td>\n",
       "      <td>None</td>\n",
       "      <td>NaN</td>\n",
       "      <td>NaN</td>\n",
       "      <td>NaN</td>\n",
       "      <td>NaN</td>\n",
       "      <td>NaN</td>\n",
       "      <td>None</td>\n",
       "      <td>None</td>\n",
       "      <td>None</td>\n",
       "      <td>None</td>\n",
       "      <td>None</td>\n",
       "      <td>None</td>\n",
       "      <td>Durham</td>\n",
       "      <td>1710.0</td>\n",
       "      <td>None</td>\n",
       "      <td>Durham</td>\n",
       "      <td>27713</td>\n",
       "      <td>None</td>\n",
       "      <td>3393.959868</td>\n",
       "      <td>252.500459</td>\n",
       "      <td>NaT</td>\n",
       "      <td>None</td>\n",
       "      <td>b\"\\x01\\x03\\x00\\x00\\x00\\x01\\x00\\x00\\x00\\x08\\x00...</td>\n",
       "      <td>b'\\x01\\x01\\x00\\x00\\x00W\\xd5\\xed\\xedO\\xbdS\\xc0\\...</td>\n",
       "      <td>35.899693</td>\n",
       "      <td>-78.958004</td>\n",
       "    </tr>\n",
       "  </tbody>\n",
       "</table>\n",
       "</div>"
      ],
      "text/plain": [
       "               owneradd1 owneradd2 owneradd3               location  \\\n",
       "0      38 Saint Paul Ave      None      None          613 Hanson Rd   \n",
       "1    2908 London Bell Dr      None      None          619 Hanson Rd   \n",
       "2  1411 Carrickfergus Ct      None      None  1411 Carrickfergus Ct   \n",
       "3     4532 Shady Side Ln      None      None     4532 Shady Side Ln   \n",
       "4         3608 Rambir Dr      None      None         3608 Ranbir Dr   \n",
       "5      2 Beaver Creek Ln      None      None      2 Beaver Creek Ln   \n",
       "6     124 Grey Elm Trail      None      None       124 Grey Elm Trl   \n",
       "7     332 Oxfordshire Ln      None      None     332 Oxfordshire Ln   \n",
       "8      1313 Caribou Xing      None      None      1313 Caribou Xing   \n",
       "9      7604 Morrell Lane      None      None        7604 Morrell Ln   \n",
       "\n",
       "   calcacreage  deedacres  streetnumber streetmisc streetprefix  \\\n",
       "0         0.15       0.15           613       None         None   \n",
       "1         0.16       0.16           619       None         None   \n",
       "2         0.22       0.22          1411       None         None   \n",
       "3         0.13       0.13          4532       None         None   \n",
       "4         0.28       0.28          3608       None         None   \n",
       "5         0.30       0.30             2       None         None   \n",
       "6         0.03       0.03           124       None         None   \n",
       "7         0.34       0.34           332       None         None   \n",
       "8         0.27       0.27          1313       None         None   \n",
       "9         0.08       0.08          7604       None         None   \n",
       "\n",
       "      streetname streettype streetsuffix         landclass  totalstructures  \\\n",
       "0         Hanson         RD         None     Res  1 Family              NaN   \n",
       "1         Hanson         RD         None     Res  1 Family              NaN   \n",
       "2  Carrickfergus         CT         None     Res  1 Family              NaN   \n",
       "3     Shady Side         LN         None     Res  1 Family              NaN   \n",
       "4         Ranbir         DR         None     Res  1 Family              NaN   \n",
       "5   Beaver Creek         LN         None     Res  1 Family              NaN   \n",
       "6       Grey Elm        TRL         None  Res Twnh W  Land              NaN   \n",
       "7    Oxfordshire         LN         None     Res  1 Family              NaN   \n",
       "8        Caribou       XING         None     Res  1 Family              NaN   \n",
       "9        Morrell         LN         None     Res  1 Family              NaN   \n",
       "\n",
       "   totalunits                                       propertydesc  bldgvalue  \\\n",
       "0         NaN            BAY POINTE/PH:03/LT#099 PL000161-000365   195234.0   \n",
       "1         NaN            BAY POINTE/PH:03/LT#096 PL000161-000365   179487.0   \n",
       "2         NaN                     OAKHAVEN/LT#15 PL000161-000075   275711.0   \n",
       "3         NaN            BAY POINTE/PH:03/LT#069 PL000161-000365   203620.0   \n",
       "4         NaN              LOCHSIDE/PH:01/LT#105 PL000165-000308   163464.0   \n",
       "5         NaN  ALEXANDER CROSSING/PH:03- 04/LT#72 PL000162-00...   179848.0   \n",
       "6         NaN  HPVL FRMS TW/POD W/LT#47 MODEL-CORDOVA/INT/Y P...   162374.0   \n",
       "7         NaN               SOUTHPT MANOR/LT#032 PL000161-000254   446203.0   \n",
       "8         NaN  HUNTINGTON RIDGE/PH:03/SE C:01/LT#117 PL000162...   328642.0   \n",
       "9         NaN   SOUTHPT TER/PAT HME/PH:01 /LT#37 PL000161-000154   203254.0   \n",
       "\n",
       "   landvalue  landsalevalue landsaledate  totalsalevalue totalsaledate  \\\n",
       "0    40180.0        40180.0         None        235414.0    2017-10-27   \n",
       "1    40705.0        40705.0         None        220192.0    2023-12-05   \n",
       "2    75937.0        75937.0         None        351648.0           NaT   \n",
       "3    39480.0        39480.0         None        243100.0           NaT   \n",
       "4    57600.0        57600.0         None        221064.0    2013-06-27   \n",
       "5    51321.0        51321.0         None        231169.0    2023-10-26   \n",
       "6    40000.0        40000.0         None        202374.0    2017-12-28   \n",
       "7   133700.0       133700.0         None        579903.0    2019-11-26   \n",
       "8    79625.0        79625.0         None        408267.0    2016-05-03   \n",
       "9    60000.0        60000.0         None        263254.0    2014-10-20   \n",
       "\n",
       "  cary_city  apaownership  apaactivity  apafunction  apastructure  apasite  \\\n",
       "0      None           NaN          NaN          NaN           NaN      NaN   \n",
       "1      None           NaN          NaN          NaN           NaN      NaN   \n",
       "2      None           NaN          NaN          NaN           NaN      NaN   \n",
       "3      None           NaN          NaN          NaN           NaN      NaN   \n",
       "4      None           NaN          NaN          NaN           NaN      NaN   \n",
       "5      None           NaN          NaN          NaN           NaN      NaN   \n",
       "6      None           NaN          NaN          NaN           NaN      NaN   \n",
       "7      None           NaN          NaN          NaN           NaN      NaN   \n",
       "8      None           NaN          NaN          NaN           NaN      NaN   \n",
       "9      None           NaN          NaN          NaN           NaN      NaN   \n",
       "\n",
       "  billingclass apaownershipdesc apaactivitydesc apafunctiondesc  \\\n",
       "0         None             None            None            None   \n",
       "1         None             None            None            None   \n",
       "2         None             None            None            None   \n",
       "3         None             None            None            None   \n",
       "4         None             None            None            None   \n",
       "5         None             None            None            None   \n",
       "6         None             None            None            None   \n",
       "7         None             None            None            None   \n",
       "8         None             None            None            None   \n",
       "9         None             None            None            None   \n",
       "\n",
       "  apastructuredesc apasitedesc  county  totalbldgsqft typedecode      phycity  \\\n",
       "0             None        None  Durham         2080.0       None       Durham   \n",
       "1             None        None  Durham         1906.0       None       Durham   \n",
       "2             None        None  Durham         3200.0       None       Durham   \n",
       "3             None        None  Durham         2308.0       None       Durham   \n",
       "4             None        None  Durham         1567.0       None       Durham   \n",
       "5             None        None  Durham         2042.0       None       Durham   \n",
       "6             None        None  Durham         1710.0       None       Durham   \n",
       "7             None        None  Durham         3673.0       None  Chapel Hill   \n",
       "8             None        None  Durham         3613.0       None       Durham   \n",
       "9             None        None  Durham         1710.0       None       Durham   \n",
       "\n",
       "   phyzip utilities  shape_starea  shape_stlength yearbuilt chathamaddress  \\\n",
       "0   27713      None   6451.097435      336.681551       NaT           None   \n",
       "1   27713      None   7096.203754      354.824260       NaT           None   \n",
       "2   27713      None   9361.373133      405.469398       NaT           None   \n",
       "3   27713      None   5588.978748      310.423891       NaT           None   \n",
       "4   27713      None  12205.491128      453.505217       NaT           None   \n",
       "5   27703      None  12899.187381      474.691076       NaT           None   \n",
       "6   27713      None   1115.156890      169.268688       NaT           None   \n",
       "7   27517      None  14679.515709      512.442282       NaT           None   \n",
       "8   27713      None  11935.857025      429.456556       NaT           None   \n",
       "9   27713      None   3393.959868      252.500459       NaT           None   \n",
       "\n",
       "                                           geo_shape  \\\n",
       "0  b'\\x01\\x03\\x00\\x00\\x00\\x01\\x00\\x00\\x00\\x05\\x00...   \n",
       "1  b'\\x01\\x03\\x00\\x00\\x00\\x01\\x00\\x00\\x00\\x07\\x00...   \n",
       "2  b'\\x01\\x03\\x00\\x00\\x00\\x01\\x00\\x00\\x00\\x1d\\x00...   \n",
       "3  b'\\x01\\x03\\x00\\x00\\x00\\x01\\x00\\x00\\x00\\x07\\x00...   \n",
       "4  b'\\x01\\x03\\x00\\x00\\x00\\x01\\x00\\x00\\x00\\x07\\x00...   \n",
       "5  b'\\x01\\x03\\x00\\x00\\x00\\x01\\x00\\x00\\x00\\x11\\x00...   \n",
       "6  b'\\x01\\x03\\x00\\x00\\x00\\x01\\x00\\x00\\x00\\x08\\x00...   \n",
       "7  b'\\x01\\x03\\x00\\x00\\x00\\x01\\x00\\x00\\x00\\n\\x00\\x...   \n",
       "8  b'\\x01\\x03\\x00\\x00\\x00\\x01\\x00\\x00\\x00&\\x00\\x0...   \n",
       "9  b\"\\x01\\x03\\x00\\x00\\x00\\x01\\x00\\x00\\x00\\x08\\x00...   \n",
       "\n",
       "                                        geo_point_2d   latitude  longitude  \n",
       "0  b'\\x01\\x01\\x00\\x00\\x00;\\x87\\xfc\\xe6~\\xbaS\\xc09...  35.941222 -78.913996  \n",
       "1  b'\\x01\\x01\\x00\\x00\\x00\\xa3U\\xce\\xfat\\xbaS\\xc0\\...  35.941139 -78.913390  \n",
       "2  b'\\x01\\x01\\x00\\x00\\x00\\xdf\\\\\\xfe\\x8d\\xc3\\xbbS\\...  35.890914 -78.933811  \n",
       "3  b'\\x01\\x01\\x00\\x00\\x00\\x036\\xbd\\x00q\\xbaS\\xc0\\...  35.940075 -78.913147  \n",
       "4  b'\\x01\\x01\\x00\\x00\\x00d\\xc3\\x03\\x0f}\\xb9S\\xc0\\...  35.928977 -78.898258  \n",
       "5  b'\\x01\\x01\\x00\\x00\\x00\\xe4\\xc4\\x86o\\xe5\\xb4S\\x...  35.924294 -78.826504  \n",
       "6  b'\\x01\\x01\\x00\\x00\\x00\\xd5\\x05?\\tY\\xbbS\\xc0\\x8...  35.947364 -78.927309  \n",
       "7  b'\\x01\\x01\\x00\\x00\\x00e\\x80g\\xb7\\x7f\\xbeS\\xc0\\...  35.895716 -78.976545  \n",
       "8  b'\\x01\\x01\\x00\\x00\\x00\\xb1\\xd2\\xc8\\xda\\x81\\xbc...  35.890666 -78.945426  \n",
       "9  b'\\x01\\x01\\x00\\x00\\x00W\\xd5\\xed\\xedO\\xbdS\\xc0\\...  35.899693 -78.958004  "
      ]
     },
     "execution_count": 269,
     "metadata": {},
     "output_type": "execute_result"
    }
   ],
   "source": [
    "# Check output of columns converted to title capitalization\n",
    "\n",
    "df_3.head(10)"
   ]
  },
  {
   "cell_type": "markdown",
   "id": "a3df7c35-5f7c-4487-8047-4f13a6028faf",
   "metadata": {},
   "source": [
    "## Create Latitude & Longitude Columns"
   ]
  },
  {
   "cell_type": "code",
   "execution_count": 330,
   "id": "98094a7b-3b78-4044-819e-6c8037f7f619",
   "metadata": {
    "execution": {
     "iopub.execute_input": "2025-01-26T02:05:04.278925Z",
     "iopub.status.busy": "2025-01-26T02:05:04.278514Z",
     "iopub.status.idle": "2025-01-26T02:05:08.109639Z",
     "shell.execute_reply": "2025-01-26T02:05:08.108632Z",
     "shell.execute_reply.started": "2025-01-26T02:05:04.278889Z"
    }
   },
   "outputs": [],
   "source": [
    "# Convert the binary data to geometry objects\n",
    "\n",
    "df_3['geometry'] = df_3['geo_point_2d'].apply(lambda x: wkb.loads(x))"
   ]
  },
  {
   "cell_type": "code",
   "execution_count": 334,
   "id": "fe04c058-c1b2-4d79-baad-b0ab1eeb192a",
   "metadata": {
    "execution": {
     "iopub.execute_input": "2025-01-26T02:05:09.981927Z",
     "iopub.status.busy": "2025-01-26T02:05:09.981380Z",
     "iopub.status.idle": "2025-01-26T02:05:13.691116Z",
     "shell.execute_reply": "2025-01-26T02:05:13.690111Z",
     "shell.execute_reply.started": "2025-01-26T02:05:09.981901Z"
    }
   },
   "outputs": [],
   "source": [
    "# Extract latitude and longitude\n",
    "\n",
    "# Extract latitude and longitude\n",
    "df_3['latitude'] = df_3['geometry'].apply(lambda geom: geom.y)\n",
    "df_3['longitude'] = df_3['geometry'].apply(lambda geom: geom.x)"
   ]
  },
  {
   "cell_type": "code",
   "execution_count": 337,
   "id": "136f242b-a4c6-413a-b0ec-1a041cd82e5d",
   "metadata": {
    "execution": {
     "iopub.execute_input": "2025-01-26T02:05:15.743987Z",
     "iopub.status.busy": "2025-01-26T02:05:15.743665Z",
     "iopub.status.idle": "2025-01-26T02:05:15.932884Z",
     "shell.execute_reply": "2025-01-26T02:05:15.932133Z",
     "shell.execute_reply.started": "2025-01-26T02:05:15.743967Z"
    }
   },
   "outputs": [],
   "source": [
    "# Drop the temporary geometry column\n",
    "\n",
    "df_3 = df_3.drop(columns=['geometry'])"
   ]
  },
  {
   "cell_type": "code",
   "execution_count": 340,
   "id": "663ea543-4691-4ad1-912e-5916488e0e38",
   "metadata": {
    "execution": {
     "iopub.execute_input": "2025-01-26T02:05:21.520540Z",
     "iopub.status.busy": "2025-01-26T02:05:21.520236Z",
     "iopub.status.idle": "2025-01-26T02:05:21.570507Z",
     "shell.execute_reply": "2025-01-26T02:05:21.569734Z",
     "shell.execute_reply.started": "2025-01-26T02:05:21.520518Z"
    }
   },
   "outputs": [
    {
     "data": {
      "text/html": [
       "<div>\n",
       "<style scoped>\n",
       "    .dataframe tbody tr th:only-of-type {\n",
       "        vertical-align: middle;\n",
       "    }\n",
       "\n",
       "    .dataframe tbody tr th {\n",
       "        vertical-align: top;\n",
       "    }\n",
       "\n",
       "    .dataframe thead th {\n",
       "        text-align: right;\n",
       "    }\n",
       "</style>\n",
       "<table border=\"1\" class=\"dataframe\">\n",
       "  <thead>\n",
       "    <tr style=\"text-align: right;\">\n",
       "      <th></th>\n",
       "      <th>owneradd1</th>\n",
       "      <th>owneradd2</th>\n",
       "      <th>owneradd3</th>\n",
       "      <th>location</th>\n",
       "      <th>calcacreage</th>\n",
       "      <th>deedacres</th>\n",
       "      <th>streetnumber</th>\n",
       "      <th>streetmisc</th>\n",
       "      <th>streetprefix</th>\n",
       "      <th>streetname</th>\n",
       "      <th>streettype</th>\n",
       "      <th>streetsuffix</th>\n",
       "      <th>landclass</th>\n",
       "      <th>totalstructures</th>\n",
       "      <th>totalunits</th>\n",
       "      <th>propertydesc</th>\n",
       "      <th>bldgvalue</th>\n",
       "      <th>landvalue</th>\n",
       "      <th>landsalevalue</th>\n",
       "      <th>landsaledate</th>\n",
       "      <th>totalsalevalue</th>\n",
       "      <th>totalsaledate</th>\n",
       "      <th>cary_city</th>\n",
       "      <th>apaownership</th>\n",
       "      <th>apaactivity</th>\n",
       "      <th>apafunction</th>\n",
       "      <th>apastructure</th>\n",
       "      <th>apasite</th>\n",
       "      <th>billingclass</th>\n",
       "      <th>apaownershipdesc</th>\n",
       "      <th>apaactivitydesc</th>\n",
       "      <th>apafunctiondesc</th>\n",
       "      <th>apastructuredesc</th>\n",
       "      <th>apasitedesc</th>\n",
       "      <th>county</th>\n",
       "      <th>totalbldgsqft</th>\n",
       "      <th>typedecode</th>\n",
       "      <th>phycity</th>\n",
       "      <th>phyzip</th>\n",
       "      <th>utilities</th>\n",
       "      <th>shape_starea</th>\n",
       "      <th>shape_stlength</th>\n",
       "      <th>yearbuilt</th>\n",
       "      <th>chathamaddress</th>\n",
       "      <th>geo_shape</th>\n",
       "      <th>geo_point_2d</th>\n",
       "      <th>latitude</th>\n",
       "      <th>longitude</th>\n",
       "    </tr>\n",
       "  </thead>\n",
       "  <tbody>\n",
       "    <tr>\n",
       "      <th>0</th>\n",
       "      <td>38 Saint Paul Ave</td>\n",
       "      <td>None</td>\n",
       "      <td>None</td>\n",
       "      <td>613 Hanson Rd</td>\n",
       "      <td>0.15</td>\n",
       "      <td>0.15</td>\n",
       "      <td>613</td>\n",
       "      <td>None</td>\n",
       "      <td>None</td>\n",
       "      <td>Hanson</td>\n",
       "      <td>RD</td>\n",
       "      <td>None</td>\n",
       "      <td>Res  1 Family</td>\n",
       "      <td>NaN</td>\n",
       "      <td>NaN</td>\n",
       "      <td>BAY POINTE/PH:03/LT#099 PL000161-000365</td>\n",
       "      <td>195234</td>\n",
       "      <td>40180</td>\n",
       "      <td>40180</td>\n",
       "      <td>None</td>\n",
       "      <td>235414</td>\n",
       "      <td>2017-10-27</td>\n",
       "      <td>None</td>\n",
       "      <td>NaN</td>\n",
       "      <td>NaN</td>\n",
       "      <td>NaN</td>\n",
       "      <td>NaN</td>\n",
       "      <td>NaN</td>\n",
       "      <td>None</td>\n",
       "      <td>None</td>\n",
       "      <td>None</td>\n",
       "      <td>None</td>\n",
       "      <td>None</td>\n",
       "      <td>None</td>\n",
       "      <td>Durham</td>\n",
       "      <td>2080</td>\n",
       "      <td>None</td>\n",
       "      <td>Durham</td>\n",
       "      <td>27713</td>\n",
       "      <td>None</td>\n",
       "      <td>6451.097435</td>\n",
       "      <td>336.681551</td>\n",
       "      <td>NaT</td>\n",
       "      <td>None</td>\n",
       "      <td>b'\\x01\\x03\\x00\\x00\\x00\\x01\\x00\\x00\\x00\\x05\\x00...</td>\n",
       "      <td>b'\\x01\\x01\\x00\\x00\\x00;\\x87\\xfc\\xe6~\\xbaS\\xc09...</td>\n",
       "      <td>35.941222</td>\n",
       "      <td>-78.913996</td>\n",
       "    </tr>\n",
       "    <tr>\n",
       "      <th>1</th>\n",
       "      <td>2908 London Bell Dr</td>\n",
       "      <td>None</td>\n",
       "      <td>None</td>\n",
       "      <td>619 Hanson Rd</td>\n",
       "      <td>0.16</td>\n",
       "      <td>0.16</td>\n",
       "      <td>619</td>\n",
       "      <td>None</td>\n",
       "      <td>None</td>\n",
       "      <td>Hanson</td>\n",
       "      <td>RD</td>\n",
       "      <td>None</td>\n",
       "      <td>Res  1 Family</td>\n",
       "      <td>NaN</td>\n",
       "      <td>NaN</td>\n",
       "      <td>BAY POINTE/PH:03/LT#096 PL000161-000365</td>\n",
       "      <td>179487</td>\n",
       "      <td>40705</td>\n",
       "      <td>40705</td>\n",
       "      <td>None</td>\n",
       "      <td>220192</td>\n",
       "      <td>2023-12-05</td>\n",
       "      <td>None</td>\n",
       "      <td>NaN</td>\n",
       "      <td>NaN</td>\n",
       "      <td>NaN</td>\n",
       "      <td>NaN</td>\n",
       "      <td>NaN</td>\n",
       "      <td>None</td>\n",
       "      <td>None</td>\n",
       "      <td>None</td>\n",
       "      <td>None</td>\n",
       "      <td>None</td>\n",
       "      <td>None</td>\n",
       "      <td>Durham</td>\n",
       "      <td>1906</td>\n",
       "      <td>None</td>\n",
       "      <td>Durham</td>\n",
       "      <td>27713</td>\n",
       "      <td>None</td>\n",
       "      <td>7096.203754</td>\n",
       "      <td>354.824260</td>\n",
       "      <td>NaT</td>\n",
       "      <td>None</td>\n",
       "      <td>b'\\x01\\x03\\x00\\x00\\x00\\x01\\x00\\x00\\x00\\x07\\x00...</td>\n",
       "      <td>b'\\x01\\x01\\x00\\x00\\x00\\xa3U\\xce\\xfat\\xbaS\\xc0\\...</td>\n",
       "      <td>35.941139</td>\n",
       "      <td>-78.913390</td>\n",
       "    </tr>\n",
       "    <tr>\n",
       "      <th>2</th>\n",
       "      <td>1411 Carrickfergus Ct</td>\n",
       "      <td>None</td>\n",
       "      <td>None</td>\n",
       "      <td>1411 Carrickfergus Ct</td>\n",
       "      <td>0.22</td>\n",
       "      <td>0.22</td>\n",
       "      <td>1411</td>\n",
       "      <td>None</td>\n",
       "      <td>None</td>\n",
       "      <td>Carrickfergus</td>\n",
       "      <td>CT</td>\n",
       "      <td>None</td>\n",
       "      <td>Res  1 Family</td>\n",
       "      <td>NaN</td>\n",
       "      <td>NaN</td>\n",
       "      <td>OAKHAVEN/LT#15 PL000161-000075</td>\n",
       "      <td>275711</td>\n",
       "      <td>75937</td>\n",
       "      <td>75937</td>\n",
       "      <td>None</td>\n",
       "      <td>351648</td>\n",
       "      <td>NaT</td>\n",
       "      <td>None</td>\n",
       "      <td>NaN</td>\n",
       "      <td>NaN</td>\n",
       "      <td>NaN</td>\n",
       "      <td>NaN</td>\n",
       "      <td>NaN</td>\n",
       "      <td>None</td>\n",
       "      <td>None</td>\n",
       "      <td>None</td>\n",
       "      <td>None</td>\n",
       "      <td>None</td>\n",
       "      <td>None</td>\n",
       "      <td>Durham</td>\n",
       "      <td>3200</td>\n",
       "      <td>None</td>\n",
       "      <td>Durham</td>\n",
       "      <td>27713</td>\n",
       "      <td>None</td>\n",
       "      <td>9361.373133</td>\n",
       "      <td>405.469398</td>\n",
       "      <td>NaT</td>\n",
       "      <td>None</td>\n",
       "      <td>b'\\x01\\x03\\x00\\x00\\x00\\x01\\x00\\x00\\x00\\x1d\\x00...</td>\n",
       "      <td>b'\\x01\\x01\\x00\\x00\\x00\\xdf\\\\\\xfe\\x8d\\xc3\\xbbS\\...</td>\n",
       "      <td>35.890914</td>\n",
       "      <td>-78.933811</td>\n",
       "    </tr>\n",
       "    <tr>\n",
       "      <th>3</th>\n",
       "      <td>4532 Shady Side Ln</td>\n",
       "      <td>None</td>\n",
       "      <td>None</td>\n",
       "      <td>4532 Shady Side Ln</td>\n",
       "      <td>0.13</td>\n",
       "      <td>0.13</td>\n",
       "      <td>4532</td>\n",
       "      <td>None</td>\n",
       "      <td>None</td>\n",
       "      <td>Shady Side</td>\n",
       "      <td>LN</td>\n",
       "      <td>None</td>\n",
       "      <td>Res  1 Family</td>\n",
       "      <td>NaN</td>\n",
       "      <td>NaN</td>\n",
       "      <td>BAY POINTE/PH:03/LT#069 PL000161-000365</td>\n",
       "      <td>203620</td>\n",
       "      <td>39480</td>\n",
       "      <td>39480</td>\n",
       "      <td>None</td>\n",
       "      <td>243100</td>\n",
       "      <td>NaT</td>\n",
       "      <td>None</td>\n",
       "      <td>NaN</td>\n",
       "      <td>NaN</td>\n",
       "      <td>NaN</td>\n",
       "      <td>NaN</td>\n",
       "      <td>NaN</td>\n",
       "      <td>None</td>\n",
       "      <td>None</td>\n",
       "      <td>None</td>\n",
       "      <td>None</td>\n",
       "      <td>None</td>\n",
       "      <td>None</td>\n",
       "      <td>Durham</td>\n",
       "      <td>2308</td>\n",
       "      <td>None</td>\n",
       "      <td>Durham</td>\n",
       "      <td>27713</td>\n",
       "      <td>None</td>\n",
       "      <td>5588.978748</td>\n",
       "      <td>310.423891</td>\n",
       "      <td>NaT</td>\n",
       "      <td>None</td>\n",
       "      <td>b'\\x01\\x03\\x00\\x00\\x00\\x01\\x00\\x00\\x00\\x07\\x00...</td>\n",
       "      <td>b'\\x01\\x01\\x00\\x00\\x00\\x036\\xbd\\x00q\\xbaS\\xc0\\...</td>\n",
       "      <td>35.940075</td>\n",
       "      <td>-78.913147</td>\n",
       "    </tr>\n",
       "    <tr>\n",
       "      <th>4</th>\n",
       "      <td>3608 Rambir Dr</td>\n",
       "      <td>None</td>\n",
       "      <td>None</td>\n",
       "      <td>3608 Ranbir Dr</td>\n",
       "      <td>0.28</td>\n",
       "      <td>0.28</td>\n",
       "      <td>3608</td>\n",
       "      <td>None</td>\n",
       "      <td>None</td>\n",
       "      <td>Ranbir</td>\n",
       "      <td>DR</td>\n",
       "      <td>None</td>\n",
       "      <td>Res  1 Family</td>\n",
       "      <td>NaN</td>\n",
       "      <td>NaN</td>\n",
       "      <td>LOCHSIDE/PH:01/LT#105 PL000165-000308</td>\n",
       "      <td>163464</td>\n",
       "      <td>57600</td>\n",
       "      <td>57600</td>\n",
       "      <td>None</td>\n",
       "      <td>221064</td>\n",
       "      <td>2013-06-27</td>\n",
       "      <td>None</td>\n",
       "      <td>NaN</td>\n",
       "      <td>NaN</td>\n",
       "      <td>NaN</td>\n",
       "      <td>NaN</td>\n",
       "      <td>NaN</td>\n",
       "      <td>None</td>\n",
       "      <td>None</td>\n",
       "      <td>None</td>\n",
       "      <td>None</td>\n",
       "      <td>None</td>\n",
       "      <td>None</td>\n",
       "      <td>Durham</td>\n",
       "      <td>1567</td>\n",
       "      <td>None</td>\n",
       "      <td>Durham</td>\n",
       "      <td>27713</td>\n",
       "      <td>None</td>\n",
       "      <td>12205.491128</td>\n",
       "      <td>453.505217</td>\n",
       "      <td>NaT</td>\n",
       "      <td>None</td>\n",
       "      <td>b'\\x01\\x03\\x00\\x00\\x00\\x01\\x00\\x00\\x00\\x07\\x00...</td>\n",
       "      <td>b'\\x01\\x01\\x00\\x00\\x00d\\xc3\\x03\\x0f}\\xb9S\\xc0\\...</td>\n",
       "      <td>35.928977</td>\n",
       "      <td>-78.898258</td>\n",
       "    </tr>\n",
       "  </tbody>\n",
       "</table>\n",
       "</div>"
      ],
      "text/plain": [
       "               owneradd1 owneradd2 owneradd3               location  \\\n",
       "0      38 Saint Paul Ave      None      None          613 Hanson Rd   \n",
       "1    2908 London Bell Dr      None      None          619 Hanson Rd   \n",
       "2  1411 Carrickfergus Ct      None      None  1411 Carrickfergus Ct   \n",
       "3     4532 Shady Side Ln      None      None     4532 Shady Side Ln   \n",
       "4         3608 Rambir Dr      None      None         3608 Ranbir Dr   \n",
       "\n",
       "   calcacreage  deedacres  streetnumber streetmisc streetprefix  \\\n",
       "0         0.15       0.15           613       None         None   \n",
       "1         0.16       0.16           619       None         None   \n",
       "2         0.22       0.22          1411       None         None   \n",
       "3         0.13       0.13          4532       None         None   \n",
       "4         0.28       0.28          3608       None         None   \n",
       "\n",
       "      streetname streettype streetsuffix      landclass  totalstructures  \\\n",
       "0         Hanson         RD         None  Res  1 Family              NaN   \n",
       "1         Hanson         RD         None  Res  1 Family              NaN   \n",
       "2  Carrickfergus         CT         None  Res  1 Family              NaN   \n",
       "3     Shady Side         LN         None  Res  1 Family              NaN   \n",
       "4         Ranbir         DR         None  Res  1 Family              NaN   \n",
       "\n",
       "   totalunits                             propertydesc  bldgvalue  landvalue  \\\n",
       "0         NaN  BAY POINTE/PH:03/LT#099 PL000161-000365     195234      40180   \n",
       "1         NaN  BAY POINTE/PH:03/LT#096 PL000161-000365     179487      40705   \n",
       "2         NaN           OAKHAVEN/LT#15 PL000161-000075     275711      75937   \n",
       "3         NaN  BAY POINTE/PH:03/LT#069 PL000161-000365     203620      39480   \n",
       "4         NaN    LOCHSIDE/PH:01/LT#105 PL000165-000308     163464      57600   \n",
       "\n",
       "   landsalevalue landsaledate  totalsalevalue totalsaledate cary_city  \\\n",
       "0          40180         None          235414    2017-10-27      None   \n",
       "1          40705         None          220192    2023-12-05      None   \n",
       "2          75937         None          351648           NaT      None   \n",
       "3          39480         None          243100           NaT      None   \n",
       "4          57600         None          221064    2013-06-27      None   \n",
       "\n",
       "   apaownership  apaactivity  apafunction  apastructure  apasite billingclass  \\\n",
       "0           NaN          NaN          NaN           NaN      NaN         None   \n",
       "1           NaN          NaN          NaN           NaN      NaN         None   \n",
       "2           NaN          NaN          NaN           NaN      NaN         None   \n",
       "3           NaN          NaN          NaN           NaN      NaN         None   \n",
       "4           NaN          NaN          NaN           NaN      NaN         None   \n",
       "\n",
       "  apaownershipdesc apaactivitydesc apafunctiondesc apastructuredesc  \\\n",
       "0             None            None            None             None   \n",
       "1             None            None            None             None   \n",
       "2             None            None            None             None   \n",
       "3             None            None            None             None   \n",
       "4             None            None            None             None   \n",
       "\n",
       "  apasitedesc  county  totalbldgsqft typedecode phycity  phyzip utilities  \\\n",
       "0        None  Durham           2080       None  Durham   27713      None   \n",
       "1        None  Durham           1906       None  Durham   27713      None   \n",
       "2        None  Durham           3200       None  Durham   27713      None   \n",
       "3        None  Durham           2308       None  Durham   27713      None   \n",
       "4        None  Durham           1567       None  Durham   27713      None   \n",
       "\n",
       "   shape_starea  shape_stlength yearbuilt chathamaddress  \\\n",
       "0   6451.097435      336.681551       NaT           None   \n",
       "1   7096.203754      354.824260       NaT           None   \n",
       "2   9361.373133      405.469398       NaT           None   \n",
       "3   5588.978748      310.423891       NaT           None   \n",
       "4  12205.491128      453.505217       NaT           None   \n",
       "\n",
       "                                           geo_shape  \\\n",
       "0  b'\\x01\\x03\\x00\\x00\\x00\\x01\\x00\\x00\\x00\\x05\\x00...   \n",
       "1  b'\\x01\\x03\\x00\\x00\\x00\\x01\\x00\\x00\\x00\\x07\\x00...   \n",
       "2  b'\\x01\\x03\\x00\\x00\\x00\\x01\\x00\\x00\\x00\\x1d\\x00...   \n",
       "3  b'\\x01\\x03\\x00\\x00\\x00\\x01\\x00\\x00\\x00\\x07\\x00...   \n",
       "4  b'\\x01\\x03\\x00\\x00\\x00\\x01\\x00\\x00\\x00\\x07\\x00...   \n",
       "\n",
       "                                        geo_point_2d   latitude  longitude  \n",
       "0  b'\\x01\\x01\\x00\\x00\\x00;\\x87\\xfc\\xe6~\\xbaS\\xc09...  35.941222 -78.913996  \n",
       "1  b'\\x01\\x01\\x00\\x00\\x00\\xa3U\\xce\\xfat\\xbaS\\xc0\\...  35.941139 -78.913390  \n",
       "2  b'\\x01\\x01\\x00\\x00\\x00\\xdf\\\\\\xfe\\x8d\\xc3\\xbbS\\...  35.890914 -78.933811  \n",
       "3  b'\\x01\\x01\\x00\\x00\\x00\\x036\\xbd\\x00q\\xbaS\\xc0\\...  35.940075 -78.913147  \n",
       "4  b'\\x01\\x01\\x00\\x00\\x00d\\xc3\\x03\\x0f}\\xb9S\\xc0\\...  35.928977 -78.898258  "
      ]
     },
     "execution_count": 340,
     "metadata": {},
     "output_type": "execute_result"
    }
   ],
   "source": [
    "# Check output of df_3\n",
    "\n",
    "df_3.head(5)"
   ]
  },
  {
   "cell_type": "markdown",
   "id": "f1ba66bb-3181-4376-88bb-16a7105f88ef",
   "metadata": {
    "jp-MarkdownHeadingCollapsed": true
   },
   "source": [
    "# 06. Export Cleaned Data"
   ]
  },
  {
   "cell_type": "code",
   "execution_count": 343,
   "id": "fc599897-8c29-4da2-b92a-9071e0946ac9",
   "metadata": {
    "execution": {
     "iopub.execute_input": "2025-01-26T02:05:46.631387Z",
     "iopub.status.busy": "2025-01-26T02:05:46.631001Z",
     "iopub.status.idle": "2025-01-26T02:05:48.914180Z",
     "shell.execute_reply": "2025-01-26T02:05:48.913439Z",
     "shell.execute_reply.started": "2025-01-26T02:05:46.631363Z"
    }
   },
   "outputs": [],
   "source": [
    "# Export cleaned df_3 data into the Prepared Data folder\n",
    "\n",
    "df_3.to_parquet(os.path.join(path, '01 Datasets','02 Prepared Data', 'cary_cleaned.parquet'), compression = 'snappy')"
   ]
  }
 ],
 "metadata": {
  "kernelspec": {
   "display_name": "anaconda-2024.02-py310",
   "language": "python",
   "name": "conda-env-anaconda-2024.02-py310-py"
  },
  "language_info": {
   "codemirror_mode": {
    "name": "ipython",
    "version": 3
   },
   "file_extension": ".py",
   "mimetype": "text/x-python",
   "name": "python",
   "nbconvert_exporter": "python",
   "pygments_lexer": "ipython3",
   "version": "3.10.14"
  }
 },
 "nbformat": 4,
 "nbformat_minor": 5
}
